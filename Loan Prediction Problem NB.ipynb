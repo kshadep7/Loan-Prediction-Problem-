{
 "cells": [
  {
   "cell_type": "markdown",
   "metadata": {},
   "source": [
    "### Importing all the required packages and dependencies"
   ]
  },
  {
   "cell_type": "code",
   "execution_count": 14,
   "metadata": {},
   "outputs": [],
   "source": [
    "import os\n",
    "import re\n",
    "import numpy as np\n",
    "import pandas as pd\n",
    "import seaborn as sns\n",
    "import matplotlib as plt\n",
    "%matplotlib inline\n",
    "import warnings\n",
    "\n",
    "warnings.filterwarnings(\"ignore\")"
   ]
  },
  {
   "cell_type": "markdown",
   "metadata": {},
   "source": [
    "### Readind the data "
   ]
  },
  {
   "cell_type": "code",
   "execution_count": 2,
   "metadata": {},
   "outputs": [],
   "source": [
    "data = pd.read_csv(\"/Users/akash-mac/Desktop/My Docs/Self-Projects/Datasets/Loan Prediction Problem/train.csv\")"
   ]
  },
  {
   "cell_type": "code",
   "execution_count": 37,
   "metadata": {},
   "outputs": [
    {
     "data": {
      "text/html": [
       "<div>\n",
       "<style scoped>\n",
       "    .dataframe tbody tr th:only-of-type {\n",
       "        vertical-align: middle;\n",
       "    }\n",
       "\n",
       "    .dataframe tbody tr th {\n",
       "        vertical-align: top;\n",
       "    }\n",
       "\n",
       "    .dataframe thead th {\n",
       "        text-align: right;\n",
       "    }\n",
       "</style>\n",
       "<table border=\"1\" class=\"dataframe\">\n",
       "  <thead>\n",
       "    <tr style=\"text-align: right;\">\n",
       "      <th></th>\n",
       "      <th>Loan_ID</th>\n",
       "      <th>Gender</th>\n",
       "      <th>Married</th>\n",
       "      <th>Dependents</th>\n",
       "      <th>Education</th>\n",
       "      <th>Self_Employed</th>\n",
       "      <th>ApplicantIncome</th>\n",
       "      <th>CoapplicantIncome</th>\n",
       "      <th>LoanAmount</th>\n",
       "      <th>Loan_Amount_Term</th>\n",
       "      <th>Credit_History</th>\n",
       "      <th>Property_Area</th>\n",
       "      <th>Loan_Status</th>\n",
       "    </tr>\n",
       "  </thead>\n",
       "  <tbody>\n",
       "    <tr>\n",
       "      <th>0</th>\n",
       "      <td>LP001002</td>\n",
       "      <td>Male</td>\n",
       "      <td>No</td>\n",
       "      <td>0</td>\n",
       "      <td>Graduate</td>\n",
       "      <td>No</td>\n",
       "      <td>5849</td>\n",
       "      <td>0.0</td>\n",
       "      <td>NaN</td>\n",
       "      <td>360.0</td>\n",
       "      <td>1.0</td>\n",
       "      <td>Urban</td>\n",
       "      <td>Y</td>\n",
       "    </tr>\n",
       "    <tr>\n",
       "      <th>1</th>\n",
       "      <td>LP001003</td>\n",
       "      <td>Male</td>\n",
       "      <td>Yes</td>\n",
       "      <td>1</td>\n",
       "      <td>Graduate</td>\n",
       "      <td>No</td>\n",
       "      <td>4583</td>\n",
       "      <td>1508.0</td>\n",
       "      <td>128.0</td>\n",
       "      <td>360.0</td>\n",
       "      <td>1.0</td>\n",
       "      <td>Rural</td>\n",
       "      <td>N</td>\n",
       "    </tr>\n",
       "    <tr>\n",
       "      <th>2</th>\n",
       "      <td>LP001005</td>\n",
       "      <td>Male</td>\n",
       "      <td>Yes</td>\n",
       "      <td>0</td>\n",
       "      <td>Graduate</td>\n",
       "      <td>Yes</td>\n",
       "      <td>3000</td>\n",
       "      <td>0.0</td>\n",
       "      <td>66.0</td>\n",
       "      <td>360.0</td>\n",
       "      <td>1.0</td>\n",
       "      <td>Urban</td>\n",
       "      <td>Y</td>\n",
       "    </tr>\n",
       "    <tr>\n",
       "      <th>3</th>\n",
       "      <td>LP001006</td>\n",
       "      <td>Male</td>\n",
       "      <td>Yes</td>\n",
       "      <td>0</td>\n",
       "      <td>Not Graduate</td>\n",
       "      <td>No</td>\n",
       "      <td>2583</td>\n",
       "      <td>2358.0</td>\n",
       "      <td>120.0</td>\n",
       "      <td>360.0</td>\n",
       "      <td>1.0</td>\n",
       "      <td>Urban</td>\n",
       "      <td>Y</td>\n",
       "    </tr>\n",
       "    <tr>\n",
       "      <th>4</th>\n",
       "      <td>LP001008</td>\n",
       "      <td>Male</td>\n",
       "      <td>No</td>\n",
       "      <td>0</td>\n",
       "      <td>Graduate</td>\n",
       "      <td>No</td>\n",
       "      <td>6000</td>\n",
       "      <td>0.0</td>\n",
       "      <td>141.0</td>\n",
       "      <td>360.0</td>\n",
       "      <td>1.0</td>\n",
       "      <td>Urban</td>\n",
       "      <td>Y</td>\n",
       "    </tr>\n",
       "  </tbody>\n",
       "</table>\n",
       "</div>"
      ],
      "text/plain": [
       "    Loan_ID Gender Married Dependents     Education Self_Employed  \\\n",
       "0  LP001002   Male      No          0      Graduate            No   \n",
       "1  LP001003   Male     Yes          1      Graduate            No   \n",
       "2  LP001005   Male     Yes          0      Graduate           Yes   \n",
       "3  LP001006   Male     Yes          0  Not Graduate            No   \n",
       "4  LP001008   Male      No          0      Graduate            No   \n",
       "\n",
       "   ApplicantIncome  CoapplicantIncome  LoanAmount  Loan_Amount_Term  \\\n",
       "0             5849                0.0         NaN             360.0   \n",
       "1             4583             1508.0       128.0             360.0   \n",
       "2             3000                0.0        66.0             360.0   \n",
       "3             2583             2358.0       120.0             360.0   \n",
       "4             6000                0.0       141.0             360.0   \n",
       "\n",
       "   Credit_History Property_Area Loan_Status  \n",
       "0             1.0         Urban           Y  \n",
       "1             1.0         Rural           N  \n",
       "2             1.0         Urban           Y  \n",
       "3             1.0         Urban           Y  \n",
       "4             1.0         Urban           Y  "
      ]
     },
     "execution_count": 37,
     "metadata": {},
     "output_type": "execute_result"
    }
   ],
   "source": [
    "data.head()"
   ]
  },
  {
   "cell_type": "code",
   "execution_count": 38,
   "metadata": {},
   "outputs": [
    {
     "name": "stdout",
     "output_type": "stream",
     "text": [
      "<class 'pandas.core.frame.DataFrame'>\n",
      "RangeIndex: 614 entries, 0 to 613\n",
      "Data columns (total 13 columns):\n",
      "Loan_ID              614 non-null object\n",
      "Gender               601 non-null object\n",
      "Married              611 non-null object\n",
      "Dependents           599 non-null object\n",
      "Education            614 non-null object\n",
      "Self_Employed        582 non-null object\n",
      "ApplicantIncome      614 non-null int64\n",
      "CoapplicantIncome    614 non-null float64\n",
      "LoanAmount           592 non-null float64\n",
      "Loan_Amount_Term     600 non-null float64\n",
      "Credit_History       564 non-null float64\n",
      "Property_Area        614 non-null object\n",
      "Loan_Status          614 non-null object\n",
      "dtypes: float64(4), int64(1), object(8)\n",
      "memory usage: 62.4+ KB\n"
     ]
    }
   ],
   "source": [
    "data.info()"
   ]
  },
  {
   "cell_type": "markdown",
   "metadata": {},
   "source": [
    "### Checking for NA values"
   ]
  },
  {
   "cell_type": "code",
   "execution_count": 16,
   "metadata": {},
   "outputs": [
    {
     "data": {
      "text/plain": [
       "<matplotlib.axes._subplots.AxesSubplot at 0x1a1a738e80>"
      ]
     },
     "execution_count": 16,
     "metadata": {},
     "output_type": "execute_result"
    },
    {
     "data": {
      "image/png": "[encoded data removed]",
      "text/plain": [
       "<matplotlib.figure.Figure at 0x1a1a793c18>"
      ]
     },
     "metadata": {
      "needs_background": "light"
     },
     "output_type": "display_data"
    }
   ],
   "source": [
    "sns.heatmap(data=data.isna(), yticklabels=False, cbar=False, cmap='viridis')"
   ]
  },
  {
   "cell_type": "markdown",
   "metadata": {},
   "source": [
    "As we can observe in the above figure, there are missing values in the data.\n",
    "Now let's count the NA values for each feature"
   ]
  },
  {
   "cell_type": "code",
   "execution_count": 29,
   "metadata": {},
   "outputs": [
    {
     "name": "stdout",
     "output_type": "stream",
     "text": [
      "Loan_ID == 0\n",
      "Gender == 13\n",
      "Married == 3\n",
      "Dependents == 15\n",
      "Education == 0\n",
      "Self_Employed == 32\n",
      "ApplicantIncome == 0\n",
      "CoapplicantIncome == 0\n",
      "LoanAmount == 22\n",
      "Loan_Amount_Term == 14\n",
      "Credit_History == 50\n",
      "Property_Area == 0\n",
      "Loan_Status == 0\n"
     ]
    }
   ],
   "source": [
    "for i in data.columns:\n",
    "    print(\"{} == {}\".format(i, data[i].isnull().sum()))    "
   ]
  },
  {
   "cell_type": "markdown",
   "metadata": {},
   "source": [
    "#### Checking labels of the predictors with missing values"
   ]
  },
  {
   "cell_type": "code",
   "execution_count": 39,
   "metadata": {},
   "outputs": [],
   "source": [
    "missing_predictors = ['Gender', 'Married', 'Dependents', 'Self_Employed', 'Loan_Amount_Term']"
   ]
  },
  {
   "cell_type": "code",
   "execution_count": 41,
   "metadata": {},
   "outputs": [
    {
     "name": "stdout",
     "output_type": "stream",
     "text": [
      "Gender == {nan, 'Female', 'Male'}\n",
      "Married == {'No', 'Yes', nan}\n",
      "Dependents == {nan, '2', '3+', '1', '0'}\n",
      "Self_Employed == {'No', 'Yes', nan}\n",
      "Loan_Amount_Term == {nan, nan, nan, nan, nan, nan, nan, nan, nan, nan, nan, nan, nan, nan, 12.0, 36.0, 300.0, 180.0, 60.0, 84.0, 480.0, 360.0, 240.0, 120.0}\n"
     ]
    }
   ],
   "source": [
    "for i in missing_predictors:\n",
    "    print(\"{} == {}\".format(i, set(data[i]))) "
   ]
  },
  {
   "cell_type": "markdown",
   "metadata": {},
   "source": [
    "#### *Assumptions:*\n",
    "\n",
    "- *Gender: If not spcified, then 'Male'*\n",
    "- *Married: If not spcified, then 'No'*\n",
    "- *Dependents: If not spcified, then '0'*\n",
    "- *Self_Employed: If not spcified, then 'No'*\n",
    "- *Loan_Ampount_Term: If not spcified, then mean of all the values in this column*\n",
    "- *Credit_History: If not spcified, then '1'*\n",
    "- *Loan_Amount: If not spcified, then mean of all the values in this column*"
   ]
  },
  {
   "cell_type": "markdown",
   "metadata": {},
   "source": [
    "#### Data preprocessing to deal with missing values "
   ]
  },
  {
   "cell_type": "markdown",
   "metadata": {},
   "source": [
    "Initailly, dividing the data in train and test sets"
   ]
  },
  {
   "cell_type": "code",
   "execution_count": 47,
   "metadata": {},
   "outputs": [],
   "source": [
    "from sklearn.model_selection import train_test_split"
   ]
  },
  {
   "cell_type": "code",
   "execution_count": 48,
   "metadata": {},
   "outputs": [],
   "source": [
    "predictor_var = ['Gender', 'Married', 'Dependents', 'Education','Self_Employed','ApplicantIncome', 'Loan_Amount_Term',\n",
    "                'CoapplicantIncome','LoanAmount','Credit_History', 'Property_Area']"
   ]
  },
  {
   "cell_type": "code",
   "execution_count": 51,
   "metadata": {},
   "outputs": [],
   "source": [
    "X_train, X_test, y_train, y_test = train_test_split(data[predictor_var], data['Loan_Status'], \n",
    "                                                                    test_size=0.25, random_state=42)"
   ]
  },
  {
   "cell_type": "code",
   "execution_count": 52,
   "metadata": {},
   "outputs": [
    {
     "data": {
      "text/plain": [
       "(460, 11)"
      ]
     },
     "execution_count": 52,
     "metadata": {},
     "output_type": "execute_result"
    }
   ],
   "source": [
    "X_train.shape"
   ]
  },
  {
   "cell_type": "code",
   "execution_count": 54,
   "metadata": {},
   "outputs": [],
   "source": [
    "X_train['Gender'] = X_train['Gender'].fillna('Male')\n",
    "X_train['Married'] = X_train['Married'].fillna('No')\n",
    "X_train['Dependents'] = X_train['Dependents'].fillna('0')\n",
    "X_train['Self_Employed'] = X_train['Self_Employed'].fillna('0')\n",
    "X_train['Loan_Amount_Term'] = X_train['Loan_Amount_Term'].fillna(X_train['Loan_Amount_Term'].mean())\n",
    "X_train['Credit_History'] = X_train['Credit_History'].fillna('1')\n",
    "X_train['LoanAmount'] = X_train['LoanAmount'].fillna(X_train['LoanAmount'].mean())"
   ]
  },
  {
   "cell_type": "code",
   "execution_count": 57,
   "metadata": {},
   "outputs": [],
   "source": [
    "#sns.heatmap(data=X_train.isna(), yticklabels=False, cbar=False, cmap='viridis')"
   ]
  },
  {
   "cell_type": "markdown",
   "metadata": {},
   "source": [
    "Converting string label values to numeric"
   ]
  },
  {
   "cell_type": "code",
   "execution_count": 63,
   "metadata": {},
   "outputs": [
    {
     "name": "stdout",
     "output_type": "stream",
     "text": [
      "Gender:{'Female', 'Male'}\n",
      "Married:{'No', 'Yes'}\n",
      "Education:{'Graduate', 'Not Graduate'}\n",
      "Self_Employed:{'No', 'Yes', '0'}\n",
      "Property_Area:{'Semiurban', 'Urban', 'Rural'}\n",
      "Dependents:{'2', '1', '3+', '0'}\n"
     ]
    }
   ],
   "source": [
    "label_columns = ['Gender', 'Married', 'Education', 'Self_Employed', 'Property_Area', 'Dependents']\n",
    "\n",
    "for i in label_columns:\n",
    "    print(\"{}:{}\".format(i, set(X_train[i])))"
   ]
  },
  {
   "cell_type": "code",
   "execution_count": 64,
   "metadata": {},
   "outputs": [],
   "source": [
    "gender_val = {'Female': 0, 'Male': 1}\n",
    "married_val = {'No':0, 'Yes':1}\n",
    "dependant_val = {'2':2, '3+':3, '1':1, '0':0}\n",
    "self_emp_val = {'No':0, 'Yes':1}\n",
    "education_val = {'Graduate':1, 'Not Graduate':0}\n",
    "property_area_val = {'Semiurban':2, 'Urban':1, 'Rural':0}"
   ]
  },
  {
   "cell_type": "code",
   "execution_count": 65,
   "metadata": {},
   "outputs": [],
   "source": [
    "X_train.replace({'Gender':gender_val,\n",
    "                'Married': married_val,\n",
    "                'Dependents':dependant_val,\n",
    "                'Self_Employed':self_emp_val,\n",
    "                'Education':education_val,\n",
    "                'Property_Area':property_area_val}, inplace = True)"
   ]
  },
  {
   "cell_type": "code",
   "execution_count": 68,
   "metadata": {},
   "outputs": [
    {
     "data": {
      "text/plain": [
       "Gender                 int64\n",
       "Married                int64\n",
       "Dependents             int64\n",
       "Education              int64\n",
       "Self_Employed         object\n",
       "ApplicantIncome        int64\n",
       "Loan_Amount_Term     float64\n",
       "CoapplicantIncome    float64\n",
       "LoanAmount           float64\n",
       "Credit_History        object\n",
       "Property_Area          int64\n",
       "dtype: object"
      ]
     },
     "execution_count": 68,
     "metadata": {},
     "output_type": "execute_result"
    }
   ],
   "source": [
    "X_train.dtypes"
   ]
  },
  {
   "cell_type": "code",
   "execution_count": 69,
   "metadata": {},
   "outputs": [
    {
     "data": {
      "text/html": [
       "<div>\n",
       "<style scoped>\n",
       "    .dataframe tbody tr th:only-of-type {\n",
       "        vertical-align: middle;\n",
       "    }\n",
       "\n",
       "    .dataframe tbody tr th {\n",
       "        vertical-align: top;\n",
       "    }\n",
       "\n",
       "    .dataframe thead th {\n",
       "        text-align: right;\n",
       "    }\n",
       "</style>\n",
       "<table border=\"1\" class=\"dataframe\">\n",
       "  <thead>\n",
       "    <tr style=\"text-align: right;\">\n",
       "      <th></th>\n",
       "      <th>Gender</th>\n",
       "      <th>Married</th>\n",
       "      <th>Dependents</th>\n",
       "      <th>Education</th>\n",
       "      <th>Self_Employed</th>\n",
       "      <th>ApplicantIncome</th>\n",
       "      <th>Loan_Amount_Term</th>\n",
       "      <th>CoapplicantIncome</th>\n",
       "      <th>LoanAmount</th>\n",
       "      <th>Credit_History</th>\n",
       "      <th>Property_Area</th>\n",
       "    </tr>\n",
       "  </thead>\n",
       "  <tbody>\n",
       "    <tr>\n",
       "      <th>92</th>\n",
       "      <td>1</td>\n",
       "      <td>1</td>\n",
       "      <td>2</td>\n",
       "      <td>0</td>\n",
       "      <td>0</td>\n",
       "      <td>3273</td>\n",
       "      <td>360.0</td>\n",
       "      <td>1820.0</td>\n",
       "      <td>81.0</td>\n",
       "      <td>1</td>\n",
       "      <td>1</td>\n",
       "    </tr>\n",
       "    <tr>\n",
       "      <th>304</th>\n",
       "      <td>1</td>\n",
       "      <td>0</td>\n",
       "      <td>0</td>\n",
       "      <td>1</td>\n",
       "      <td>0</td>\n",
       "      <td>4000</td>\n",
       "      <td>360.0</td>\n",
       "      <td>2500.0</td>\n",
       "      <td>140.0</td>\n",
       "      <td>1</td>\n",
       "      <td>0</td>\n",
       "    </tr>\n",
       "    <tr>\n",
       "      <th>68</th>\n",
       "      <td>1</td>\n",
       "      <td>1</td>\n",
       "      <td>3</td>\n",
       "      <td>0</td>\n",
       "      <td>1</td>\n",
       "      <td>7100</td>\n",
       "      <td>60.0</td>\n",
       "      <td>0.0</td>\n",
       "      <td>125.0</td>\n",
       "      <td>1</td>\n",
       "      <td>1</td>\n",
       "    </tr>\n",
       "    <tr>\n",
       "      <th>15</th>\n",
       "      <td>1</td>\n",
       "      <td>0</td>\n",
       "      <td>0</td>\n",
       "      <td>1</td>\n",
       "      <td>0</td>\n",
       "      <td>4950</td>\n",
       "      <td>360.0</td>\n",
       "      <td>0.0</td>\n",
       "      <td>125.0</td>\n",
       "      <td>1</td>\n",
       "      <td>1</td>\n",
       "    </tr>\n",
       "    <tr>\n",
       "      <th>211</th>\n",
       "      <td>1</td>\n",
       "      <td>1</td>\n",
       "      <td>3</td>\n",
       "      <td>1</td>\n",
       "      <td>0</td>\n",
       "      <td>3430</td>\n",
       "      <td>360.0</td>\n",
       "      <td>1250.0</td>\n",
       "      <td>128.0</td>\n",
       "      <td>0</td>\n",
       "      <td>2</td>\n",
       "    </tr>\n",
       "  </tbody>\n",
       "</table>\n",
       "</div>"
      ],
      "text/plain": [
       "     Gender  Married  Dependents  Education Self_Employed  ApplicantIncome  \\\n",
       "92        1        1           2          0             0             3273   \n",
       "304       1        0           0          1             0             4000   \n",
       "68        1        1           3          0             1             7100   \n",
       "15        1        0           0          1             0             4950   \n",
       "211       1        1           3          1             0             3430   \n",
       "\n",
       "     Loan_Amount_Term  CoapplicantIncome  LoanAmount Credit_History  \\\n",
       "92              360.0             1820.0        81.0              1   \n",
       "304             360.0             2500.0       140.0              1   \n",
       "68               60.0                0.0       125.0              1   \n",
       "15              360.0                0.0       125.0              1   \n",
       "211             360.0             1250.0       128.0              0   \n",
       "\n",
       "     Property_Area  \n",
       "92               1  \n",
       "304              0  \n",
       "68               1  \n",
       "15               1  \n",
       "211              2  "
      ]
     },
     "execution_count": 69,
     "metadata": {},
     "output_type": "execute_result"
    }
   ],
   "source": [
    "X_train.head()"
   ]
  },
  {
   "cell_type": "code",
   "execution_count": 71,
   "metadata": {},
   "outputs": [],
   "source": [
    "#sns.heatmap(data=X_train.isna(), yticklabels=False, cbar=False, cmap='viridis')"
   ]
  },
  {
   "cell_type": "code",
   "execution_count": 72,
   "metadata": {},
   "outputs": [],
   "source": [
    "X_train = X_train.as_matrix()"
   ]
  },
  {
   "cell_type": "code",
   "execution_count": 78,
   "metadata": {},
   "outputs": [
    {
     "name": "stdout",
     "output_type": "stream",
     "text": [
      "[[1 1 2 ... 81.0 1.0 1]\n",
      " [1 0 0 ... 140.0 1.0 0]\n",
      " [1 1 3 ... 125.0 1.0 1]\n",
      " ...\n",
      " [0 0 0 ... 30.0 1.0 1]\n",
      " [0 0 0 ... 147.21846846846847 1.0 2]\n",
      " [1 1 0 ... 147.21846846846847 1.0 1]]\n",
      "\n",
      "\n",
      "(460, 11)\n"
     ]
    }
   ],
   "source": [
    "print(X_train)\n",
    "print('\\n')\n",
    "print(X_train.shape)"
   ]
  },
  {
   "cell_type": "markdown",
   "metadata": {},
   "source": [
    "We will create a custom preprocessor as discussed earlier in this notebook so that it will help us in building better pipeline and future (as API) deployments"
   ]
  },
  {
   "cell_type": "code",
   "execution_count": 114,
   "metadata": {},
   "outputs": [],
   "source": [
    "from sklearn.base import BaseEstimator, TransformerMixin\n",
    "\n",
    "class PreProcessor(BaseEstimator, TransformerMixin):\n",
    "    \n",
    "    def __init__(self):\n",
    "        pass\n",
    "    \n",
    "    def transform(self, df):\n",
    "        \n",
    "        predictor_var = ['Gender', 'Married', 'Dependents', 'Education','Self_Employed','ApplicantIncome', 'Loan_Amount_Term',\n",
    "                'CoapplicantIncome','LoanAmount','Credit_History', 'Property_Area']\n",
    "        df = df[predictor_var]\n",
    "        df['Gender'] = df['Gender'].fillna('Male')\n",
    "        df['Married'] = df['Married'].fillna('No')\n",
    "        df['Dependents'] = df['Dependents'].fillna('0')\n",
    "        df['Self_Employed'] = df['Self_Employed'].fillna('0')\n",
    "        df['Loan_Amount_Term'] = df['Loan_Amount_Term'].fillna(self.term_mean)\n",
    "        df['Credit_History'] = df['Credit_History'].fillna('1')\n",
    "        df['LoanAmount'] = df['LoanAmount'].fillna(self.amt_mean)\n",
    "        \n",
    "        gender_val = {'Female': 0, 'Male': 1}\n",
    "        married_val = {'No':0, 'Yes':1}\n",
    "        dependant_val = {'2':2, '3+':3, '1':1, '0':0}\n",
    "        self_emp_val = {'No':0, 'Yes':1}\n",
    "        education_val = {'Graduate':1, 'Not Graduate':0}\n",
    "        property_area_val = {'Semiurban':2, 'Urban':1, 'Rural':0}\n",
    "        \n",
    "        df.replace({'Gender':gender_val,\n",
    "                'Married': married_val,\n",
    "                'Dependents':dependant_val,\n",
    "                'Self_Employed':self_emp_val,\n",
    "                'Education':education_val,\n",
    "                'Property_Area':property_area_val}, inplace = True)\n",
    "        \n",
    "        #print(df.as_matrix())\n",
    "        return df.as_matrix()\n",
    "    \n",
    "    def fit(self, df, y=None, **fit_params):\n",
    "        \n",
    "        self.term_mean = df['Loan_Amount_Term'].mean()\n",
    "        self.amt_mean = df['LoanAmount'].mean()\n",
    "        #print(self.term_mean, self.amt_mean)\n",
    "        return self\n",
    "        "
   ]
  },
  {
   "cell_type": "markdown",
   "metadata": {},
   "source": [
    "Let's check if this preprocessor works for our use case (it should because we already did all the steps before to clean th data impute values)"
   ]
  },
  {
   "cell_type": "code",
   "execution_count": 115,
   "metadata": {},
   "outputs": [],
   "source": [
    "X_train, X_test, y_train, y_test = train_test_split(data[predictor_var], data['Loan_Status'], \n",
    "                                                                    test_size=0.25, random_state=42)"
   ]
  },
  {
   "cell_type": "code",
   "execution_count": 116,
   "metadata": {},
   "outputs": [],
   "source": [
    "preprocess = PreProcessor()"
   ]
  },
  {
   "cell_type": "code",
   "execution_count": 117,
   "metadata": {},
   "outputs": [
    {
     "data": {
      "text/plain": [
       "PreProcessor()"
      ]
     },
     "execution_count": 117,
     "metadata": {},
     "output_type": "execute_result"
    }
   ],
   "source": [
    "preprocess.fit(X_train)"
   ]
  },
  {
   "cell_type": "code",
   "execution_count": 119,
   "metadata": {},
   "outputs": [],
   "source": [
    "X_train_transformed = preprocess.transform(X_train)"
   ]
  },
  {
   "cell_type": "code",
   "execution_count": 120,
   "metadata": {},
   "outputs": [
    {
     "data": {
      "text/plain": [
       "(460, 11)"
      ]
     },
     "execution_count": 120,
     "metadata": {},
     "output_type": "execute_result"
    }
   ],
   "source": [
    "X_train_transformed.shape"
   ]
  },
  {
   "cell_type": "code",
   "execution_count": 121,
   "metadata": {},
   "outputs": [],
   "source": [
    "X_test_transformed = preprocess.transform(X_test)"
   ]
  },
  {
   "cell_type": "code",
   "execution_count": 122,
   "metadata": {},
   "outputs": [
    {
     "data": {
      "text/plain": [
       "(154, 11)"
      ]
     },
     "execution_count": 122,
     "metadata": {},
     "output_type": "execute_result"
    }
   ],
   "source": [
    "X_test_transformed.shape"
   ]
  },
  {
   "cell_type": "code",
   "execution_count": 105,
   "metadata": {},
   "outputs": [],
   "source": [
    "y_test = y_test.replace({'Y':1, 'N':0}).as_matrix()\n",
    "y_train = y_train.replace({'Y':1, 'N':0}).as_matrix()"
   ]
  },
  {
   "cell_type": "code",
   "execution_count": 107,
   "metadata": {},
   "outputs": [],
   "source": [
    "from sklearn.ensemble import RandomForestClassifier\n",
    "from sklearn.pipeline import make_pipeline"
   ]
  },
  {
   "cell_type": "code",
   "execution_count": 108,
   "metadata": {},
   "outputs": [],
   "source": [
    "param_grid = {\"randomforestclassifier__n_estimators\" : [10, 20, 30],\n",
    "             \"randomforestclassifier__max_depth\" : [None, 6, 8, 10],\n",
    "             \"randomforestclassifier__max_leaf_nodes\": [None, 5, 10, 20], \n",
    "             \"randomforestclassifier__min_impurity_split\": [0.1, 0.2, 0.3]}"
   ]
  },
  {
   "cell_type": "code",
   "execution_count": 140,
   "metadata": {},
   "outputs": [],
   "source": [
    "pipe = make_pipeline(PreProcessor(), \n",
    "                     RandomForestClassifier())"
   ]
  },
  {
   "cell_type": "code",
   "execution_count": 141,
   "metadata": {},
   "outputs": [
    {
     "data": {
      "text/plain": [
       "Pipeline(memory=None,\n",
       "     steps=[('preprocessor', PreProcessor()), ('randomforestclassifier', RandomForestClassifier(bootstrap=True, class_weight=None, criterion='gini',\n",
       "            max_depth=None, max_features='auto', max_leaf_nodes=None,\n",
       "            min_impurity_decrease=0.0, min_impurity_split=None,\n",
       "            min_samples_leaf=1, min_samples_split=2,\n",
       "            min_weight_fraction_leaf=0.0, n_estimators=10, n_jobs=1,\n",
       "            oob_score=False, random_state=None, verbose=0,\n",
       "            warm_start=False))])"
      ]
     },
     "execution_count": 141,
     "metadata": {},
     "output_type": "execute_result"
    }
   ],
   "source": [
    "pipe"
   ]
  },
  {
   "cell_type": "code",
   "execution_count": 142,
   "metadata": {},
   "outputs": [],
   "source": [
    "from sklearn.model_selection import GridSearchCV"
   ]
  },
  {
   "cell_type": "code",
   "execution_count": 143,
   "metadata": {},
   "outputs": [],
   "source": [
    "grid = GridSearchCV(estimator=pipe, param_grid=param_grid, cv=3)"
   ]
  },
  {
   "cell_type": "code",
   "execution_count": 144,
   "metadata": {},
   "outputs": [
    {
     "data": {
      "text/plain": [
       "GridSearchCV(cv=3, error_score='raise',\n",
       "       estimator=Pipeline(memory=None,\n",
       "     steps=[('preprocessor', PreProcessor()), ('randomforestclassifier', RandomForestClassifier(bootstrap=True, class_weight=None, criterion='gini',\n",
       "            max_depth=None, max_features='auto', max_leaf_nodes=None,\n",
       "            min_impurity_decrease=0.0, min_impuri..._jobs=1,\n",
       "            oob_score=False, random_state=None, verbose=0,\n",
       "            warm_start=False))]),\n",
       "       fit_params=None, iid=True, n_jobs=1,\n",
       "       param_grid={'randomforestclassifier__n_estimators': [10, 20, 30], 'randomforestclassifier__max_depth': [None, 6, 8, 10], 'randomforestclassifier__max_leaf_nodes': [None, 5, 10, 20], 'randomforestclassifier__min_impurity_split': [0.1, 0.2, 0.3]},\n",
       "       pre_dispatch='2*n_jobs', refit=True, return_train_score='warn',\n",
       "       scoring=None, verbose=0)"
      ]
     },
     "execution_count": 144,
     "metadata": {},
     "output_type": "execute_result"
    }
   ],
   "source": [
    "grid"
   ]
  },
  {
   "cell_type": "code",
   "execution_count": 145,
   "metadata": {},
   "outputs": [
    {
     "data": {
      "text/plain": [
       "GridSearchCV(cv=3, error_score='raise',\n",
       "       estimator=Pipeline(memory=None,\n",
       "     steps=[('preprocessor', PreProcessor()), ('randomforestclassifier', RandomForestClassifier(bootstrap=True, class_weight=None, criterion='gini',\n",
       "            max_depth=None, max_features='auto', max_leaf_nodes=None,\n",
       "            min_impurity_decrease=0.0, min_impuri..._jobs=1,\n",
       "            oob_score=False, random_state=None, verbose=0,\n",
       "            warm_start=False))]),\n",
       "       fit_params=None, iid=True, n_jobs=1,\n",
       "       param_grid={'randomforestclassifier__n_estimators': [10, 20, 30], 'randomforestclassifier__max_depth': [None, 6, 8, 10], 'randomforestclassifier__max_leaf_nodes': [None, 5, 10, 20], 'randomforestclassifier__min_impurity_split': [0.1, 0.2, 0.3]},\n",
       "       pre_dispatch='2*n_jobs', refit=True, return_train_score='warn',\n",
       "       scoring=None, verbose=0)"
      ]
     },
     "execution_count": 145,
     "metadata": {},
     "output_type": "execute_result"
    }
   ],
   "source": [
    "grid.fit(X_train, y_train)"
   ]
  },
  {
   "cell_type": "code",
   "execution_count": 146,
   "metadata": {},
   "outputs": [
    {
     "data": {
      "text/plain": [
       "{'randomforestclassifier__max_depth': None,\n",
       " 'randomforestclassifier__max_leaf_nodes': 5,\n",
       " 'randomforestclassifier__min_impurity_split': 0.3,\n",
       " 'randomforestclassifier__n_estimators': 10}"
      ]
     },
     "execution_count": 146,
     "metadata": {},
     "output_type": "execute_result"
    }
   ],
   "source": [
    "grid.best_params_"
   ]
  },
  {
   "cell_type": "code",
   "execution_count": 151,
   "metadata": {},
   "outputs": [
    {
     "name": "stdout",
     "output_type": "stream",
     "text": [
      "The grid score is: 0.773\n"
     ]
    }
   ],
   "source": [
    "print(\"The grid score is: {:.3f}\".format(grid.score(X_test, y_test)))"
   ]
  },
  {
   "cell_type": "markdown",
   "metadata": {},
   "source": [
    "Now loading the test data set"
   ]
  },
  {
   "cell_type": "code",
   "execution_count": 152,
   "metadata": {},
   "outputs": [],
   "source": [
    "test_data = pd.read_csv(\"/Users/akash-mac/Desktop/My Docs/Self-Projects/Datasets/Loan Prediction Problem/test.csv\")"
   ]
  },
  {
   "cell_type": "code",
   "execution_count": 192,
   "metadata": {},
   "outputs": [
    {
     "data": {
      "text/html": [
       "<div>\n",
       "<style scoped>\n",
       "    .dataframe tbody tr th:only-of-type {\n",
       "        vertical-align: middle;\n",
       "    }\n",
       "\n",
       "    .dataframe tbody tr th {\n",
       "        vertical-align: top;\n",
       "    }\n",
       "\n",
       "    .dataframe thead th {\n",
       "        text-align: right;\n",
       "    }\n",
       "</style>\n",
       "<table border=\"1\" class=\"dataframe\">\n",
       "  <thead>\n",
       "    <tr style=\"text-align: right;\">\n",
       "      <th></th>\n",
       "      <th>Loan_ID</th>\n",
       "      <th>Gender</th>\n",
       "      <th>Married</th>\n",
       "      <th>Dependents</th>\n",
       "      <th>Education</th>\n",
       "      <th>Self_Employed</th>\n",
       "      <th>ApplicantIncome</th>\n",
       "      <th>CoapplicantIncome</th>\n",
       "      <th>LoanAmount</th>\n",
       "      <th>Loan_Amount_Term</th>\n",
       "      <th>Credit_History</th>\n",
       "      <th>Property_Area</th>\n",
       "    </tr>\n",
       "  </thead>\n",
       "  <tbody>\n",
       "    <tr>\n",
       "      <th>0</th>\n",
       "      <td>LP001015</td>\n",
       "      <td>Male</td>\n",
       "      <td>Yes</td>\n",
       "      <td>0</td>\n",
       "      <td>Graduate</td>\n",
       "      <td>No</td>\n",
       "      <td>5720</td>\n",
       "      <td>0</td>\n",
       "      <td>110.0</td>\n",
       "      <td>360.0</td>\n",
       "      <td>1.0</td>\n",
       "      <td>Urban</td>\n",
       "    </tr>\n",
       "    <tr>\n",
       "      <th>1</th>\n",
       "      <td>LP001022</td>\n",
       "      <td>Male</td>\n",
       "      <td>Yes</td>\n",
       "      <td>1</td>\n",
       "      <td>Graduate</td>\n",
       "      <td>No</td>\n",
       "      <td>3076</td>\n",
       "      <td>1500</td>\n",
       "      <td>126.0</td>\n",
       "      <td>360.0</td>\n",
       "      <td>1.0</td>\n",
       "      <td>Urban</td>\n",
       "    </tr>\n",
       "    <tr>\n",
       "      <th>2</th>\n",
       "      <td>LP001031</td>\n",
       "      <td>Male</td>\n",
       "      <td>Yes</td>\n",
       "      <td>2</td>\n",
       "      <td>Graduate</td>\n",
       "      <td>No</td>\n",
       "      <td>5000</td>\n",
       "      <td>1800</td>\n",
       "      <td>208.0</td>\n",
       "      <td>360.0</td>\n",
       "      <td>1.0</td>\n",
       "      <td>Urban</td>\n",
       "    </tr>\n",
       "    <tr>\n",
       "      <th>3</th>\n",
       "      <td>LP001035</td>\n",
       "      <td>Male</td>\n",
       "      <td>Yes</td>\n",
       "      <td>2</td>\n",
       "      <td>Graduate</td>\n",
       "      <td>No</td>\n",
       "      <td>2340</td>\n",
       "      <td>2546</td>\n",
       "      <td>100.0</td>\n",
       "      <td>360.0</td>\n",
       "      <td>NaN</td>\n",
       "      <td>Urban</td>\n",
       "    </tr>\n",
       "    <tr>\n",
       "      <th>4</th>\n",
       "      <td>LP001051</td>\n",
       "      <td>Male</td>\n",
       "      <td>No</td>\n",
       "      <td>0</td>\n",
       "      <td>Not Graduate</td>\n",
       "      <td>No</td>\n",
       "      <td>3276</td>\n",
       "      <td>0</td>\n",
       "      <td>78.0</td>\n",
       "      <td>360.0</td>\n",
       "      <td>1.0</td>\n",
       "      <td>Urban</td>\n",
       "    </tr>\n",
       "  </tbody>\n",
       "</table>\n",
       "</div>"
      ],
      "text/plain": [
       "    Loan_ID Gender Married Dependents     Education Self_Employed  \\\n",
       "0  LP001015   Male     Yes          0      Graduate            No   \n",
       "1  LP001022   Male     Yes          1      Graduate            No   \n",
       "2  LP001031   Male     Yes          2      Graduate            No   \n",
       "3  LP001035   Male     Yes          2      Graduate            No   \n",
       "4  LP001051   Male      No          0  Not Graduate            No   \n",
       "\n",
       "   ApplicantIncome  CoapplicantIncome  LoanAmount  Loan_Amount_Term  \\\n",
       "0             5720                  0       110.0             360.0   \n",
       "1             3076               1500       126.0             360.0   \n",
       "2             5000               1800       208.0             360.0   \n",
       "3             2340               2546       100.0             360.0   \n",
       "4             3276                  0        78.0             360.0   \n",
       "\n",
       "   Credit_History Property_Area  \n",
       "0             1.0         Urban  \n",
       "1             1.0         Urban  \n",
       "2             1.0         Urban  \n",
       "3             NaN         Urban  \n",
       "4             1.0         Urban  "
      ]
     },
     "execution_count": 192,
     "metadata": {},
     "output_type": "execute_result"
    }
   ],
   "source": [
    "test_data.head()"
   ]
  },
  {
   "cell_type": "code",
   "execution_count": 157,
   "metadata": {},
   "outputs": [],
   "source": [
    "pred_val = grid.predict(test_data)"
   ]
  },
  {
   "cell_type": "code",
   "execution_count": 163,
   "metadata": {},
   "outputs": [
    {
     "data": {
      "text/plain": [
       "array(['Y', 'Y', 'Y', 'Y', 'Y', 'Y', 'Y', 'N', 'Y', 'Y', 'Y', 'Y', 'Y',\n",
       "       'N', 'Y', 'Y', 'Y', 'Y', 'Y', 'Y'], dtype=object)"
      ]
     },
     "execution_count": 163,
     "metadata": {},
     "output_type": "execute_result"
    }
   ],
   "source": [
    "pred_val[:20]"
   ]
  },
  {
   "cell_type": "markdown",
   "metadata": {},
   "source": [
    "Observing above output, our model is ready with a score of 77% "
   ]
  },
  {
   "cell_type": "markdown",
   "metadata": {},
   "source": [
    "### Serialization Deserialization of the model"
   ]
  },
  {
   "cell_type": "markdown",
   "metadata": {},
   "source": [
    "Using Python standard pickle approch to serialize the model so that if can easy for it to use in another environment i.e. wherever the model is depolyed. In this case **Flask**"
   ]
  },
  {
   "cell_type": "markdown",
   "metadata": {},
   "source": [
    "    Importing required packages to serialize the model"
   ]
  },
  {
   "cell_type": "code",
   "execution_count": 178,
   "metadata": {},
   "outputs": [],
   "source": [
    "import dill as pickle"
   ]
  },
  {
   "cell_type": "code",
   "execution_count": 179,
   "metadata": {},
   "outputs": [],
   "source": [
    "filename = 'loan_pred_prob_model_v1.pk'"
   ]
  },
  {
   "cell_type": "code",
   "execution_count": 181,
   "metadata": {},
   "outputs": [],
   "source": [
    "with open ('/Users/akash-mac/Desktop/My Docs/Self-Projects/Datasets/Loan Prediction Problem/'+filename, 'wb') as file:\n",
    "    pickle.dump(grid, file)"
   ]
  },
  {
   "cell_type": "markdown",
   "metadata": {},
   "source": [
    "Now that the model is pickled and will be saved in the given location. The next step is to create a flask wrapper around the pickled model."
   ]
  },
  {
   "cell_type": "markdown",
   "metadata": {},
   "source": [
    "Before creating the wrapper, let's check if our pickled model can be deserialzed and can be used to predict loan status; Loan Status."
   ]
  },
  {
   "cell_type": "code",
   "execution_count": 188,
   "metadata": {
    "scrolled": true
   },
   "outputs": [],
   "source": [
    "with open('/Users/akash-mac/Desktop/My Docs/Self-Projects/Datasets/Loan Prediction Problem/'+filename, 'rb') as f:\n",
    "    loaded_model = pickle.load(f)\n",
    "predictions = list(loaded_model.predict(test_data))"
   ]
  },
  {
   "cell_type": "code",
   "execution_count": 189,
   "metadata": {},
   "outputs": [
    {
     "data": {
      "text/plain": [
       "['Y', 'Y', 'Y', 'Y', 'Y', 'Y', 'Y', 'N', 'Y', 'Y']"
      ]
     },
     "execution_count": 189,
     "metadata": {},
     "output_type": "execute_result"
    }
   ],
   "source": [
    "predictions[:10]"
   ]
  },
  {
   "cell_type": "markdown",
   "metadata": {},
   "source": [
    "As we can see in the above cell, the model works perfectly after deserialization."
   ]
  },
  {
   "cell_type": "markdown",
   "metadata": {},
   "source": [
    "Creating a server file which acts like a flask wrapper to the model name as server.py. You can find it in the master on github. It contains a method called *apicall()* in which it takes test data as json a file and sent to the deserliazed model to predict loan status and then dispayed as a data frame with their respective loan Ids. (with http response codes off course!!)"
   ]
  },
  {
   "cell_type": "markdown",
   "metadata": {},
   "source": [
    "Let's check if the deployed model on flask works or not"
   ]
  },
  {
   "cell_type": "code",
   "execution_count": 191,
   "metadata": {},
   "outputs": [],
   "source": [
    "import json\n",
    "import requests"
   ]
  },
  {
   "cell_type": "code",
   "execution_count": 209,
   "metadata": {},
   "outputs": [],
   "source": [
    "# setting the accept and request responses\n",
    "header = {'Content-Type' : 'application/json',\n",
    "         'Accept': 'application/json'}\n",
    "\n",
    "#Reading the test data and converting it into json\n",
    "\n",
    "test = test_data.to_json(orient='records')"
   ]
  },
  {
   "cell_type": "code",
   "execution_count": 210,
   "metadata": {},
   "outputs": [
    {
     "data": {
      "text/plain": [
       "'[{\"Loan_ID\":\"LP001015\",\"Gender\":\"Male\",\"Married\":\"Yes\",\"Dependents\":\"0\",\"Education\":\"Graduate\",\"Self_Employed\":\"No\",\"ApplicantIncome\":5720,\"CoapplicantIncome\":0,\"LoanAmount\":110.0,\"Loan_Amount_Term\":360.0,\"Credit_History\":1.0,\"Property_Area\":\"Urban\"},{\"Loan_ID\":\"LP001022\",\"Gender\":\"Male\",\"Married\":\"Yes\",\"Dependents\":\"1\",\"Education\":\"Graduate\",\"Self_Employed\":\"No\",\"ApplicantIncome\":3076,\"CoapplicantIncome\":1500,\"LoanAmount\":126.0,\"Loan_Amount_Term\":360.0,\"Credit_History\":1.0,\"Property_Area\":\"Urban\"},{\"Loan_ID\":\"LP001031\",\"Gender\":\"Male\",\"Married\":\"Yes\",\"Dependents\":\"2\",\"Education\":\"Graduate\",\"Self_Employed\":\"No\",\"ApplicantIncome\":5000,\"CoapplicantIncome\":1800,\"LoanAmount\":208.0,\"Loan_Amount_Term\":360.0,\"Credit_History\":1.0,\"Property_Area\":\"Urban\"},{\"Loan_ID\":\"LP001035\",\"Gender\":\"Male\",\"Married\":\"Yes\",\"Dependents\":\"2\",\"Education\":\"Graduate\",\"Self_Employed\":\"No\",\"ApplicantIncome\":2340,\"CoapplicantIncome\":2546,\"LoanAmount\":100.0,\"Loan_Amount_Term\":360.0,\"Credit_History\":null,\"Property_Area\":\"Urban\"},{\"Loan_ID\":\"LP001051\",\"Gender\":\"Male\",\"Married\":\"No\",\"Dependents\":\"0\",\"Education\":\"Not Graduate\",\"Self_Employed\":\"No\",\"ApplicantIncome\":3276,\"CoapplicantIncome\":0,\"LoanAmount\":78.0,\"Loan_Amount_Term\":360.0,\"Credit_History\":1.0,\"Property_Area\":\"Urban\"},{\"Loan_ID\":\"LP001054\",\"Gender\":\"Male\",\"Married\":\"Yes\",\"Dependents\":\"0\",\"Education\":\"Not Graduate\",\"Self_Employed\":\"Yes\",\"ApplicantIncome\":2165,\"CoapplicantIncome\":3422,\"LoanAmount\":152.0,\"Loan_Amount_Term\":360.0,\"Credit_History\":1.0,\"Property_Area\":\"Urban\"},{\"Loan_ID\":\"LP001055\",\"Gender\":\"Female\",\"Married\":\"No\",\"Dependents\":\"1\",\"Education\":\"Not Graduate\",\"Self_Employed\":\"No\",\"ApplicantIncome\":2226,\"CoapplicantIncome\":0,\"LoanAmount\":59.0,\"Loan_Amount_Term\":360.0,\"Credit_History\":1.0,\"Property_Area\":\"Semiurban\"},{\"Loan_ID\":\"LP001056\",\"Gender\":\"Male\",\"Married\":\"Yes\",\"Dependents\":\"2\",\"Education\":\"Not Graduate\",\"Self_Employed\":\"No\",\"ApplicantIncome\":3881,\"CoapplicantIncome\":0,\"LoanAmount\":147.0,\"Loan_Amount_Term\":360.0,\"Credit_History\":0.0,\"Property_Area\":\"Rural\"},{\"Loan_ID\":\"LP001059\",\"Gender\":\"Male\",\"Married\":\"Yes\",\"Dependents\":\"2\",\"Education\":\"Graduate\",\"Self_Employed\":null,\"ApplicantIncome\":13633,\"CoapplicantIncome\":0,\"LoanAmount\":280.0,\"Loan_Amount_Term\":240.0,\"Credit_History\":1.0,\"Property_Area\":\"Urban\"},{\"Loan_ID\":\"LP001067\",\"Gender\":\"Male\",\"Married\":\"No\",\"Dependents\":\"0\",\"Education\":\"Not Graduate\",\"Self_Employed\":\"No\",\"ApplicantIncome\":2400,\"CoapplicantIncome\":2400,\"LoanAmount\":123.0,\"Loan_Amount_Term\":360.0,\"Credit_History\":1.0,\"Property_Area\":\"Semiurban\"},{\"Loan_ID\":\"LP001078\",\"Gender\":\"Male\",\"Married\":\"No\",\"Dependents\":\"0\",\"Education\":\"Not Graduate\",\"Self_Employed\":\"No\",\"ApplicantIncome\":3091,\"CoapplicantIncome\":0,\"LoanAmount\":90.0,\"Loan_Amount_Term\":360.0,\"Credit_History\":1.0,\"Property_Area\":\"Urban\"},{\"Loan_ID\":\"LP001082\",\"Gender\":\"Male\",\"Married\":\"Yes\",\"Dependents\":\"1\",\"Education\":\"Graduate\",\"Self_Employed\":null,\"ApplicantIncome\":2185,\"CoapplicantIncome\":1516,\"LoanAmount\":162.0,\"Loan_Amount_Term\":360.0,\"Credit_History\":1.0,\"Property_Area\":\"Semiurban\"},{\"Loan_ID\":\"LP001083\",\"Gender\":\"Male\",\"Married\":\"No\",\"Dependents\":\"3+\",\"Education\":\"Graduate\",\"Self_Employed\":\"No\",\"ApplicantIncome\":4166,\"CoapplicantIncome\":0,\"LoanAmount\":40.0,\"Loan_Amount_Term\":180.0,\"Credit_History\":null,\"Property_Area\":\"Urban\"},{\"Loan_ID\":\"LP001094\",\"Gender\":\"Male\",\"Married\":\"Yes\",\"Dependents\":\"2\",\"Education\":\"Graduate\",\"Self_Employed\":null,\"ApplicantIncome\":12173,\"CoapplicantIncome\":0,\"LoanAmount\":166.0,\"Loan_Amount_Term\":360.0,\"Credit_History\":0.0,\"Property_Area\":\"Semiurban\"},{\"Loan_ID\":\"LP001096\",\"Gender\":\"Female\",\"Married\":\"No\",\"Dependents\":\"0\",\"Education\":\"Graduate\",\"Self_Employed\":\"No\",\"ApplicantIncome\":4666,\"CoapplicantIncome\":0,\"LoanAmount\":124.0,\"Loan_Amount_Term\":360.0,\"Credit_History\":1.0,\"Property_Area\":\"Semiurban\"},{\"Loan_ID\":\"LP001099\",\"Gender\":\"Male\",\"Married\":\"No\",\"Dependents\":\"1\",\"Education\":\"Graduate\",\"Self_Employed\":\"No\",\"ApplicantIncome\":5667,\"CoapplicantIncome\":0,\"LoanAmount\":131.0,\"Loan_Amount_Term\":360.0,\"Credit_History\":1.0,\"Property_Area\":\"Urban\"},{\"Loan_ID\":\"LP001105\",\"Gender\":\"Male\",\"Married\":\"Yes\",\"Dependents\":\"2\",\"Education\":\"Graduate\",\"Self_Employed\":\"No\",\"ApplicantIncome\":4583,\"CoapplicantIncome\":2916,\"LoanAmount\":200.0,\"Loan_Amount_Term\":360.0,\"Credit_History\":1.0,\"Property_Area\":\"Urban\"},{\"Loan_ID\":\"LP001107\",\"Gender\":\"Male\",\"Married\":\"Yes\",\"Dependents\":\"3+\",\"Education\":\"Graduate\",\"Self_Employed\":\"No\",\"ApplicantIncome\":3786,\"CoapplicantIncome\":333,\"LoanAmount\":126.0,\"Loan_Amount_Term\":360.0,\"Credit_History\":1.0,\"Property_Area\":\"Semiurban\"},{\"Loan_ID\":\"LP001108\",\"Gender\":\"Male\",\"Married\":\"Yes\",\"Dependents\":\"0\",\"Education\":\"Graduate\",\"Self_Employed\":\"No\",\"ApplicantIncome\":9226,\"CoapplicantIncome\":7916,\"LoanAmount\":300.0,\"Loan_Amount_Term\":360.0,\"Credit_History\":1.0,\"Property_Area\":\"Urban\"},{\"Loan_ID\":\"LP001115\",\"Gender\":\"Male\",\"Married\":\"No\",\"Dependents\":\"0\",\"Education\":\"Graduate\",\"Self_Employed\":\"No\",\"ApplicantIncome\":1300,\"CoapplicantIncome\":3470,\"LoanAmount\":100.0,\"Loan_Amount_Term\":180.0,\"Credit_History\":1.0,\"Property_Area\":\"Semiurban\"},{\"Loan_ID\":\"LP001121\",\"Gender\":\"Male\",\"Married\":\"Yes\",\"Dependents\":\"1\",\"Education\":\"Not Graduate\",\"Self_Employed\":\"No\",\"ApplicantIncome\":1888,\"CoapplicantIncome\":1620,\"LoanAmount\":48.0,\"Loan_Amount_Term\":360.0,\"Credit_History\":1.0,\"Property_Area\":\"Urban\"},{\"Loan_ID\":\"LP001124\",\"Gender\":\"Female\",\"Married\":\"No\",\"Dependents\":\"3+\",\"Education\":\"Not Graduate\",\"Self_Employed\":\"No\",\"ApplicantIncome\":2083,\"CoapplicantIncome\":0,\"LoanAmount\":28.0,\"Loan_Amount_Term\":180.0,\"Credit_History\":1.0,\"Property_Area\":\"Urban\"},{\"Loan_ID\":\"LP001128\",\"Gender\":null,\"Married\":\"No\",\"Dependents\":\"0\",\"Education\":\"Graduate\",\"Self_Employed\":\"No\",\"ApplicantIncome\":3909,\"CoapplicantIncome\":0,\"LoanAmount\":101.0,\"Loan_Amount_Term\":360.0,\"Credit_History\":1.0,\"Property_Area\":\"Urban\"},{\"Loan_ID\":\"LP001135\",\"Gender\":\"Female\",\"Married\":\"No\",\"Dependents\":\"0\",\"Education\":\"Not Graduate\",\"Self_Employed\":\"No\",\"ApplicantIncome\":3765,\"CoapplicantIncome\":0,\"LoanAmount\":125.0,\"Loan_Amount_Term\":360.0,\"Credit_History\":1.0,\"Property_Area\":\"Urban\"},{\"Loan_ID\":\"LP001149\",\"Gender\":\"Male\",\"Married\":\"Yes\",\"Dependents\":\"0\",\"Education\":\"Graduate\",\"Self_Employed\":\"No\",\"ApplicantIncome\":5400,\"CoapplicantIncome\":4380,\"LoanAmount\":290.0,\"Loan_Amount_Term\":360.0,\"Credit_History\":1.0,\"Property_Area\":\"Urban\"},{\"Loan_ID\":\"LP001153\",\"Gender\":\"Male\",\"Married\":\"No\",\"Dependents\":\"0\",\"Education\":\"Graduate\",\"Self_Employed\":\"No\",\"ApplicantIncome\":0,\"CoapplicantIncome\":24000,\"LoanAmount\":148.0,\"Loan_Amount_Term\":360.0,\"Credit_History\":0.0,\"Property_Area\":\"Rural\"},{\"Loan_ID\":\"LP001163\",\"Gender\":\"Male\",\"Married\":\"Yes\",\"Dependents\":\"2\",\"Education\":\"Graduate\",\"Self_Employed\":\"No\",\"ApplicantIncome\":4363,\"CoapplicantIncome\":1250,\"LoanAmount\":140.0,\"Loan_Amount_Term\":360.0,\"Credit_History\":null,\"Property_Area\":\"Urban\"},{\"Loan_ID\":\"LP001169\",\"Gender\":\"Male\",\"Married\":\"Yes\",\"Dependents\":\"0\",\"Education\":\"Graduate\",\"Self_Employed\":\"No\",\"ApplicantIncome\":7500,\"CoapplicantIncome\":3750,\"LoanAmount\":275.0,\"Loan_Amount_Term\":360.0,\"Credit_History\":1.0,\"Property_Area\":\"Urban\"},{\"Loan_ID\":\"LP001174\",\"Gender\":\"Male\",\"Married\":\"Yes\",\"Dependents\":\"0\",\"Education\":\"Graduate\",\"Self_Employed\":\"No\",\"ApplicantIncome\":3772,\"CoapplicantIncome\":833,\"LoanAmount\":57.0,\"Loan_Amount_Term\":360.0,\"Credit_History\":null,\"Property_Area\":\"Semiurban\"},{\"Loan_ID\":\"LP001176\",\"Gender\":\"Male\",\"Married\":\"No\",\"Dependents\":\"0\",\"Education\":\"Graduate\",\"Self_Employed\":\"No\",\"ApplicantIncome\":2942,\"CoapplicantIncome\":2382,\"LoanAmount\":125.0,\"Loan_Amount_Term\":180.0,\"Credit_History\":1.0,\"Property_Area\":\"Urban\"},{\"Loan_ID\":\"LP001177\",\"Gender\":\"Female\",\"Married\":\"No\",\"Dependents\":\"0\",\"Education\":\"Not Graduate\",\"Self_Employed\":\"No\",\"ApplicantIncome\":2478,\"CoapplicantIncome\":0,\"LoanAmount\":75.0,\"Loan_Amount_Term\":360.0,\"Credit_History\":1.0,\"Property_Area\":\"Semiurban\"},{\"Loan_ID\":\"LP001183\",\"Gender\":\"Male\",\"Married\":\"Yes\",\"Dependents\":\"2\",\"Education\":\"Graduate\",\"Self_Employed\":\"No\",\"ApplicantIncome\":6250,\"CoapplicantIncome\":820,\"LoanAmount\":192.0,\"Loan_Amount_Term\":360.0,\"Credit_History\":1.0,\"Property_Area\":\"Urban\"},{\"Loan_ID\":\"LP001185\",\"Gender\":\"Male\",\"Married\":\"No\",\"Dependents\":\"0\",\"Education\":\"Graduate\",\"Self_Employed\":\"No\",\"ApplicantIncome\":3268,\"CoapplicantIncome\":1683,\"LoanAmount\":152.0,\"Loan_Amount_Term\":360.0,\"Credit_History\":1.0,\"Property_Area\":\"Semiurban\"},{\"Loan_ID\":\"LP001187\",\"Gender\":\"Male\",\"Married\":\"Yes\",\"Dependents\":\"0\",\"Education\":\"Graduate\",\"Self_Employed\":\"No\",\"ApplicantIncome\":2783,\"CoapplicantIncome\":2708,\"LoanAmount\":158.0,\"Loan_Amount_Term\":360.0,\"Credit_History\":1.0,\"Property_Area\":\"Urban\"},{\"Loan_ID\":\"LP001190\",\"Gender\":\"Male\",\"Married\":\"Yes\",\"Dependents\":\"0\",\"Education\":\"Graduate\",\"Self_Employed\":\"No\",\"ApplicantIncome\":2740,\"CoapplicantIncome\":1541,\"LoanAmount\":101.0,\"Loan_Amount_Term\":360.0,\"Credit_History\":1.0,\"Property_Area\":\"Urban\"},{\"Loan_ID\":\"LP001203\",\"Gender\":\"Male\",\"Married\":\"No\",\"Dependents\":\"0\",\"Education\":\"Graduate\",\"Self_Employed\":\"No\",\"ApplicantIncome\":3150,\"CoapplicantIncome\":0,\"LoanAmount\":176.0,\"Loan_Amount_Term\":360.0,\"Credit_History\":0.0,\"Property_Area\":\"Semiurban\"},{\"Loan_ID\":\"LP001208\",\"Gender\":\"Male\",\"Married\":\"Yes\",\"Dependents\":\"2\",\"Education\":\"Graduate\",\"Self_Employed\":null,\"ApplicantIncome\":7350,\"CoapplicantIncome\":4029,\"LoanAmount\":185.0,\"Loan_Amount_Term\":180.0,\"Credit_History\":1.0,\"Property_Area\":\"Urban\"},{\"Loan_ID\":\"LP001210\",\"Gender\":\"Male\",\"Married\":\"Yes\",\"Dependents\":\"0\",\"Education\":\"Graduate\",\"Self_Employed\":\"Yes\",\"ApplicantIncome\":2267,\"CoapplicantIncome\":2792,\"LoanAmount\":90.0,\"Loan_Amount_Term\":360.0,\"Credit_History\":1.0,\"Property_Area\":\"Urban\"},{\"Loan_ID\":\"LP001211\",\"Gender\":\"Male\",\"Married\":\"No\",\"Dependents\":\"0\",\"Education\":\"Graduate\",\"Self_Employed\":\"Yes\",\"ApplicantIncome\":5833,\"CoapplicantIncome\":0,\"LoanAmount\":116.0,\"Loan_Amount_Term\":360.0,\"Credit_History\":1.0,\"Property_Area\":\"Urban\"},{\"Loan_ID\":\"LP001219\",\"Gender\":\"Male\",\"Married\":\"No\",\"Dependents\":\"0\",\"Education\":\"Graduate\",\"Self_Employed\":\"No\",\"ApplicantIncome\":3643,\"CoapplicantIncome\":1963,\"LoanAmount\":138.0,\"Loan_Amount_Term\":360.0,\"Credit_History\":1.0,\"Property_Area\":\"Urban\"},{\"Loan_ID\":\"LP001220\",\"Gender\":\"Male\",\"Married\":\"Yes\",\"Dependents\":\"0\",\"Education\":\"Graduate\",\"Self_Employed\":\"No\",\"ApplicantIncome\":5629,\"CoapplicantIncome\":818,\"LoanAmount\":100.0,\"Loan_Amount_Term\":360.0,\"Credit_History\":1.0,\"Property_Area\":\"Urban\"},{\"Loan_ID\":\"LP001221\",\"Gender\":\"Female\",\"Married\":\"No\",\"Dependents\":\"0\",\"Education\":\"Graduate\",\"Self_Employed\":\"No\",\"ApplicantIncome\":3644,\"CoapplicantIncome\":0,\"LoanAmount\":110.0,\"Loan_Amount_Term\":360.0,\"Credit_History\":1.0,\"Property_Area\":\"Urban\"},{\"Loan_ID\":\"LP001226\",\"Gender\":\"Male\",\"Married\":\"Yes\",\"Dependents\":\"0\",\"Education\":\"Not Graduate\",\"Self_Employed\":\"No\",\"ApplicantIncome\":1750,\"CoapplicantIncome\":2024,\"LoanAmount\":90.0,\"Loan_Amount_Term\":360.0,\"Credit_History\":1.0,\"Property_Area\":\"Semiurban\"},{\"Loan_ID\":\"LP001230\",\"Gender\":\"Male\",\"Married\":\"No\",\"Dependents\":\"0\",\"Education\":\"Graduate\",\"Self_Employed\":\"No\",\"ApplicantIncome\":6500,\"CoapplicantIncome\":2600,\"LoanAmount\":200.0,\"Loan_Amount_Term\":360.0,\"Credit_History\":1.0,\"Property_Area\":\"Semiurban\"},{\"Loan_ID\":\"LP001231\",\"Gender\":\"Female\",\"Married\":\"No\",\"Dependents\":\"0\",\"Education\":\"Graduate\",\"Self_Employed\":\"No\",\"ApplicantIncome\":3666,\"CoapplicantIncome\":0,\"LoanAmount\":84.0,\"Loan_Amount_Term\":360.0,\"Credit_History\":1.0,\"Property_Area\":\"Urban\"},{\"Loan_ID\":\"LP001232\",\"Gender\":\"Male\",\"Married\":\"Yes\",\"Dependents\":\"0\",\"Education\":\"Graduate\",\"Self_Employed\":\"No\",\"ApplicantIncome\":4260,\"CoapplicantIncome\":3900,\"LoanAmount\":185.0,\"Loan_Amount_Term\":null,\"Credit_History\":null,\"Property_Area\":\"Urban\"},{\"Loan_ID\":\"LP001237\",\"Gender\":\"Male\",\"Married\":\"Yes\",\"Dependents\":null,\"Education\":\"Not Graduate\",\"Self_Employed\":\"No\",\"ApplicantIncome\":4163,\"CoapplicantIncome\":1475,\"LoanAmount\":162.0,\"Loan_Amount_Term\":360.0,\"Credit_History\":1.0,\"Property_Area\":\"Urban\"},{\"Loan_ID\":\"LP001242\",\"Gender\":\"Male\",\"Married\":\"No\",\"Dependents\":\"0\",\"Education\":\"Not Graduate\",\"Self_Employed\":\"No\",\"ApplicantIncome\":2356,\"CoapplicantIncome\":1902,\"LoanAmount\":108.0,\"Loan_Amount_Term\":360.0,\"Credit_History\":1.0,\"Property_Area\":\"Semiurban\"},{\"Loan_ID\":\"LP001268\",\"Gender\":\"Male\",\"Married\":\"No\",\"Dependents\":\"0\",\"Education\":\"Graduate\",\"Self_Employed\":\"No\",\"ApplicantIncome\":6792,\"CoapplicantIncome\":3338,\"LoanAmount\":187.0,\"Loan_Amount_Term\":null,\"Credit_History\":1.0,\"Property_Area\":\"Urban\"},{\"Loan_ID\":\"LP001270\",\"Gender\":\"Male\",\"Married\":\"Yes\",\"Dependents\":\"3+\",\"Education\":\"Not Graduate\",\"Self_Employed\":\"Yes\",\"ApplicantIncome\":8000,\"CoapplicantIncome\":250,\"LoanAmount\":187.0,\"Loan_Amount_Term\":360.0,\"Credit_History\":1.0,\"Property_Area\":\"Semiurban\"},{\"Loan_ID\":\"LP001284\",\"Gender\":\"Male\",\"Married\":\"Yes\",\"Dependents\":\"1\",\"Education\":\"Graduate\",\"Self_Employed\":\"No\",\"ApplicantIncome\":2419,\"CoapplicantIncome\":1707,\"LoanAmount\":124.0,\"Loan_Amount_Term\":360.0,\"Credit_History\":1.0,\"Property_Area\":\"Urban\"},{\"Loan_ID\":\"LP001287\",\"Gender\":null,\"Married\":\"Yes\",\"Dependents\":\"3+\",\"Education\":\"Not Graduate\",\"Self_Employed\":\"No\",\"ApplicantIncome\":3500,\"CoapplicantIncome\":833,\"LoanAmount\":120.0,\"Loan_Amount_Term\":360.0,\"Credit_History\":1.0,\"Property_Area\":\"Semiurban\"},{\"Loan_ID\":\"LP001291\",\"Gender\":\"Male\",\"Married\":\"Yes\",\"Dependents\":\"1\",\"Education\":\"Graduate\",\"Self_Employed\":\"No\",\"ApplicantIncome\":3500,\"CoapplicantIncome\":3077,\"LoanAmount\":160.0,\"Loan_Amount_Term\":360.0,\"Credit_History\":1.0,\"Property_Area\":\"Semiurban\"},{\"Loan_ID\":\"LP001298\",\"Gender\":\"Male\",\"Married\":\"Yes\",\"Dependents\":\"2\",\"Education\":\"Graduate\",\"Self_Employed\":\"No\",\"ApplicantIncome\":4116,\"CoapplicantIncome\":1000,\"LoanAmount\":30.0,\"Loan_Amount_Term\":180.0,\"Credit_History\":1.0,\"Property_Area\":\"Urban\"},{\"Loan_ID\":\"LP001312\",\"Gender\":\"Male\",\"Married\":\"Yes\",\"Dependents\":\"0\",\"Education\":\"Not Graduate\",\"Self_Employed\":\"Yes\",\"ApplicantIncome\":5293,\"CoapplicantIncome\":0,\"LoanAmount\":92.0,\"Loan_Amount_Term\":360.0,\"Credit_History\":1.0,\"Property_Area\":\"Urban\"},{\"Loan_ID\":\"LP001313\",\"Gender\":\"Male\",\"Married\":\"No\",\"Dependents\":\"0\",\"Education\":\"Graduate\",\"Self_Employed\":\"No\",\"ApplicantIncome\":2750,\"CoapplicantIncome\":0,\"LoanAmount\":130.0,\"Loan_Amount_Term\":360.0,\"Credit_History\":0.0,\"Property_Area\":\"Urban\"},{\"Loan_ID\":\"LP001317\",\"Gender\":\"Female\",\"Married\":\"No\",\"Dependents\":\"0\",\"Education\":\"Not Graduate\",\"Self_Employed\":\"No\",\"ApplicantIncome\":4402,\"CoapplicantIncome\":0,\"LoanAmount\":130.0,\"Loan_Amount_Term\":360.0,\"Credit_History\":1.0,\"Property_Area\":\"Rural\"},{\"Loan_ID\":\"LP001321\",\"Gender\":\"Male\",\"Married\":\"Yes\",\"Dependents\":\"2\",\"Education\":\"Graduate\",\"Self_Employed\":\"No\",\"ApplicantIncome\":3613,\"CoapplicantIncome\":3539,\"LoanAmount\":134.0,\"Loan_Amount_Term\":180.0,\"Credit_History\":1.0,\"Property_Area\":\"Semiurban\"},{\"Loan_ID\":\"LP001323\",\"Gender\":\"Female\",\"Married\":\"Yes\",\"Dependents\":\"2\",\"Education\":\"Graduate\",\"Self_Employed\":\"No\",\"ApplicantIncome\":2779,\"CoapplicantIncome\":3664,\"LoanAmount\":176.0,\"Loan_Amount_Term\":360.0,\"Credit_History\":0.0,\"Property_Area\":\"Semiurban\"},{\"Loan_ID\":\"LP001324\",\"Gender\":\"Male\",\"Married\":\"Yes\",\"Dependents\":\"3+\",\"Education\":\"Graduate\",\"Self_Employed\":\"No\",\"ApplicantIncome\":4720,\"CoapplicantIncome\":0,\"LoanAmount\":90.0,\"Loan_Amount_Term\":180.0,\"Credit_History\":1.0,\"Property_Area\":\"Semiurban\"},{\"Loan_ID\":\"LP001332\",\"Gender\":\"Male\",\"Married\":\"Yes\",\"Dependents\":\"0\",\"Education\":\"Not Graduate\",\"Self_Employed\":\"No\",\"ApplicantIncome\":2415,\"CoapplicantIncome\":1721,\"LoanAmount\":110.0,\"Loan_Amount_Term\":360.0,\"Credit_History\":1.0,\"Property_Area\":\"Semiurban\"},{\"Loan_ID\":\"LP001335\",\"Gender\":\"Male\",\"Married\":\"Yes\",\"Dependents\":\"0\",\"Education\":\"Graduate\",\"Self_Employed\":\"Yes\",\"ApplicantIncome\":7016,\"CoapplicantIncome\":292,\"LoanAmount\":125.0,\"Loan_Amount_Term\":360.0,\"Credit_History\":1.0,\"Property_Area\":\"Urban\"},{\"Loan_ID\":\"LP001338\",\"Gender\":\"Female\",\"Married\":\"No\",\"Dependents\":\"2\",\"Education\":\"Graduate\",\"Self_Employed\":\"No\",\"ApplicantIncome\":4968,\"CoapplicantIncome\":0,\"LoanAmount\":189.0,\"Loan_Amount_Term\":360.0,\"Credit_History\":1.0,\"Property_Area\":\"Semiurban\"},{\"Loan_ID\":\"LP001347\",\"Gender\":\"Female\",\"Married\":\"No\",\"Dependents\":\"0\",\"Education\":\"Graduate\",\"Self_Employed\":\"No\",\"ApplicantIncome\":2101,\"CoapplicantIncome\":1500,\"LoanAmount\":108.0,\"Loan_Amount_Term\":360.0,\"Credit_History\":0.0,\"Property_Area\":\"Rural\"},{\"Loan_ID\":\"LP001348\",\"Gender\":\"Male\",\"Married\":\"Yes\",\"Dependents\":\"3+\",\"Education\":\"Not Graduate\",\"Self_Employed\":\"No\",\"ApplicantIncome\":4490,\"CoapplicantIncome\":0,\"LoanAmount\":125.0,\"Loan_Amount_Term\":360.0,\"Credit_History\":1.0,\"Property_Area\":\"Urban\"},{\"Loan_ID\":\"LP001351\",\"Gender\":\"Male\",\"Married\":\"Yes\",\"Dependents\":\"0\",\"Education\":\"Graduate\",\"Self_Employed\":\"No\",\"ApplicantIncome\":2917,\"CoapplicantIncome\":3583,\"LoanAmount\":138.0,\"Loan_Amount_Term\":360.0,\"Credit_History\":1.0,\"Property_Area\":\"Semiurban\"},{\"Loan_ID\":\"LP001352\",\"Gender\":\"Male\",\"Married\":\"Yes\",\"Dependents\":\"0\",\"Education\":\"Not Graduate\",\"Self_Employed\":\"No\",\"ApplicantIncome\":4700,\"CoapplicantIncome\":0,\"LoanAmount\":135.0,\"Loan_Amount_Term\":360.0,\"Credit_History\":0.0,\"Property_Area\":\"Semiurban\"},{\"Loan_ID\":\"LP001358\",\"Gender\":\"Male\",\"Married\":\"Yes\",\"Dependents\":\"0\",\"Education\":\"Graduate\",\"Self_Employed\":\"No\",\"ApplicantIncome\":3445,\"CoapplicantIncome\":0,\"LoanAmount\":130.0,\"Loan_Amount_Term\":360.0,\"Credit_History\":0.0,\"Property_Area\":\"Semiurban\"},{\"Loan_ID\":\"LP001359\",\"Gender\":\"Male\",\"Married\":\"Yes\",\"Dependents\":\"0\",\"Education\":\"Graduate\",\"Self_Employed\":\"No\",\"ApplicantIncome\":7666,\"CoapplicantIncome\":0,\"LoanAmount\":187.0,\"Loan_Amount_Term\":360.0,\"Credit_History\":1.0,\"Property_Area\":\"Semiurban\"},{\"Loan_ID\":\"LP001361\",\"Gender\":\"Male\",\"Married\":\"Yes\",\"Dependents\":\"0\",\"Education\":\"Graduate\",\"Self_Employed\":\"No\",\"ApplicantIncome\":2458,\"CoapplicantIncome\":5105,\"LoanAmount\":188.0,\"Loan_Amount_Term\":360.0,\"Credit_History\":0.0,\"Property_Area\":\"Rural\"},{\"Loan_ID\":\"LP001366\",\"Gender\":\"Female\",\"Married\":\"No\",\"Dependents\":null,\"Education\":\"Graduate\",\"Self_Employed\":\"No\",\"ApplicantIncome\":3250,\"CoapplicantIncome\":0,\"LoanAmount\":95.0,\"Loan_Amount_Term\":360.0,\"Credit_History\":1.0,\"Property_Area\":\"Semiurban\"},{\"Loan_ID\":\"LP001368\",\"Gender\":\"Male\",\"Married\":\"No\",\"Dependents\":\"0\",\"Education\":\"Graduate\",\"Self_Employed\":\"No\",\"ApplicantIncome\":4463,\"CoapplicantIncome\":0,\"LoanAmount\":65.0,\"Loan_Amount_Term\":360.0,\"Credit_History\":1.0,\"Property_Area\":\"Semiurban\"},{\"Loan_ID\":\"LP001375\",\"Gender\":\"Male\",\"Married\":\"Yes\",\"Dependents\":\"1\",\"Education\":\"Graduate\",\"Self_Employed\":null,\"ApplicantIncome\":4083,\"CoapplicantIncome\":1775,\"LoanAmount\":139.0,\"Loan_Amount_Term\":60.0,\"Credit_History\":1.0,\"Property_Area\":\"Urban\"},{\"Loan_ID\":\"LP001380\",\"Gender\":\"Male\",\"Married\":\"Yes\",\"Dependents\":\"0\",\"Education\":\"Graduate\",\"Self_Employed\":\"Yes\",\"ApplicantIncome\":3900,\"CoapplicantIncome\":2094,\"LoanAmount\":232.0,\"Loan_Amount_Term\":360.0,\"Credit_History\":1.0,\"Property_Area\":\"Rural\"},{\"Loan_ID\":\"LP001386\",\"Gender\":\"Male\",\"Married\":\"Yes\",\"Dependents\":\"0\",\"Education\":\"Not Graduate\",\"Self_Employed\":\"No\",\"ApplicantIncome\":4750,\"CoapplicantIncome\":3583,\"LoanAmount\":144.0,\"Loan_Amount_Term\":360.0,\"Credit_History\":1.0,\"Property_Area\":\"Semiurban\"},{\"Loan_ID\":\"LP001400\",\"Gender\":\"Male\",\"Married\":\"No\",\"Dependents\":\"0\",\"Education\":\"Graduate\",\"Self_Employed\":\"No\",\"ApplicantIncome\":3583,\"CoapplicantIncome\":3435,\"LoanAmount\":155.0,\"Loan_Amount_Term\":360.0,\"Credit_History\":1.0,\"Property_Area\":\"Urban\"},{\"Loan_ID\":\"LP001407\",\"Gender\":\"Male\",\"Married\":\"Yes\",\"Dependents\":\"0\",\"Education\":\"Graduate\",\"Self_Employed\":\"No\",\"ApplicantIncome\":3189,\"CoapplicantIncome\":2367,\"LoanAmount\":186.0,\"Loan_Amount_Term\":360.0,\"Credit_History\":1.0,\"Property_Area\":\"Urban\"},{\"Loan_ID\":\"LP001413\",\"Gender\":\"Male\",\"Married\":\"No\",\"Dependents\":\"0\",\"Education\":\"Graduate\",\"Self_Employed\":\"Yes\",\"ApplicantIncome\":6356,\"CoapplicantIncome\":0,\"LoanAmount\":50.0,\"Loan_Amount_Term\":360.0,\"Credit_History\":1.0,\"Property_Area\":\"Rural\"},{\"Loan_ID\":\"LP001415\",\"Gender\":\"Male\",\"Married\":\"Yes\",\"Dependents\":\"1\",\"Education\":\"Graduate\",\"Self_Employed\":\"No\",\"ApplicantIncome\":3413,\"CoapplicantIncome\":4053,\"LoanAmount\":null,\"Loan_Amount_Term\":360.0,\"Credit_History\":1.0,\"Property_Area\":\"Semiurban\"},{\"Loan_ID\":\"LP001419\",\"Gender\":\"Female\",\"Married\":\"Yes\",\"Dependents\":\"0\",\"Education\":\"Graduate\",\"Self_Employed\":\"No\",\"ApplicantIncome\":7950,\"CoapplicantIncome\":0,\"LoanAmount\":185.0,\"Loan_Amount_Term\":360.0,\"Credit_History\":1.0,\"Property_Area\":\"Urban\"},{\"Loan_ID\":\"LP001420\",\"Gender\":\"Male\",\"Married\":\"Yes\",\"Dependents\":\"3+\",\"Education\":\"Graduate\",\"Self_Employed\":\"No\",\"ApplicantIncome\":3829,\"CoapplicantIncome\":1103,\"LoanAmount\":163.0,\"Loan_Amount_Term\":360.0,\"Credit_History\":0.0,\"Property_Area\":\"Urban\"},{\"Loan_ID\":\"LP001428\",\"Gender\":\"Male\",\"Married\":\"Yes\",\"Dependents\":\"3+\",\"Education\":\"Graduate\",\"Self_Employed\":\"No\",\"ApplicantIncome\":72529,\"CoapplicantIncome\":0,\"LoanAmount\":360.0,\"Loan_Amount_Term\":360.0,\"Credit_History\":1.0,\"Property_Area\":\"Urban\"},{\"Loan_ID\":\"LP001445\",\"Gender\":\"Male\",\"Married\":\"Yes\",\"Dependents\":\"2\",\"Education\":\"Not Graduate\",\"Self_Employed\":\"No\",\"ApplicantIncome\":4136,\"CoapplicantIncome\":0,\"LoanAmount\":149.0,\"Loan_Amount_Term\":480.0,\"Credit_History\":0.0,\"Property_Area\":\"Rural\"},{\"Loan_ID\":\"LP001446\",\"Gender\":\"Male\",\"Married\":\"Yes\",\"Dependents\":\"0\",\"Education\":\"Graduate\",\"Self_Employed\":\"No\",\"ApplicantIncome\":8449,\"CoapplicantIncome\":0,\"LoanAmount\":257.0,\"Loan_Amount_Term\":360.0,\"Credit_History\":1.0,\"Property_Area\":\"Rural\"},{\"Loan_ID\":\"LP001450\",\"Gender\":\"Male\",\"Married\":\"Yes\",\"Dependents\":\"0\",\"Education\":\"Graduate\",\"Self_Employed\":\"No\",\"ApplicantIncome\":4456,\"CoapplicantIncome\":0,\"LoanAmount\":131.0,\"Loan_Amount_Term\":180.0,\"Credit_History\":0.0,\"Property_Area\":\"Semiurban\"},{\"Loan_ID\":\"LP001452\",\"Gender\":\"Male\",\"Married\":\"Yes\",\"Dependents\":\"2\",\"Education\":\"Graduate\",\"Self_Employed\":\"No\",\"ApplicantIncome\":4635,\"CoapplicantIncome\":8000,\"LoanAmount\":102.0,\"Loan_Amount_Term\":180.0,\"Credit_History\":1.0,\"Property_Area\":\"Rural\"},{\"Loan_ID\":\"LP001455\",\"Gender\":\"Male\",\"Married\":\"Yes\",\"Dependents\":\"0\",\"Education\":\"Graduate\",\"Self_Employed\":\"No\",\"ApplicantIncome\":3571,\"CoapplicantIncome\":1917,\"LoanAmount\":135.0,\"Loan_Amount_Term\":360.0,\"Credit_History\":1.0,\"Property_Area\":\"Urban\"},{\"Loan_ID\":\"LP001466\",\"Gender\":\"Male\",\"Married\":\"No\",\"Dependents\":\"0\",\"Education\":\"Graduate\",\"Self_Employed\":\"No\",\"ApplicantIncome\":3066,\"CoapplicantIncome\":0,\"LoanAmount\":95.0,\"Loan_Amount_Term\":360.0,\"Credit_History\":1.0,\"Property_Area\":\"Semiurban\"},{\"Loan_ID\":\"LP001471\",\"Gender\":\"Male\",\"Married\":\"No\",\"Dependents\":\"2\",\"Education\":\"Not Graduate\",\"Self_Employed\":\"No\",\"ApplicantIncome\":3235,\"CoapplicantIncome\":2015,\"LoanAmount\":77.0,\"Loan_Amount_Term\":360.0,\"Credit_History\":1.0,\"Property_Area\":\"Semiurban\"},{\"Loan_ID\":\"LP001472\",\"Gender\":\"Female\",\"Married\":\"No\",\"Dependents\":\"0\",\"Education\":\"Graduate\",\"Self_Employed\":null,\"ApplicantIncome\":5058,\"CoapplicantIncome\":0,\"LoanAmount\":200.0,\"Loan_Amount_Term\":360.0,\"Credit_History\":1.0,\"Property_Area\":\"Rural\"},{\"Loan_ID\":\"LP001475\",\"Gender\":\"Male\",\"Married\":\"Yes\",\"Dependents\":\"0\",\"Education\":\"Graduate\",\"Self_Employed\":\"Yes\",\"ApplicantIncome\":3188,\"CoapplicantIncome\":2286,\"LoanAmount\":130.0,\"Loan_Amount_Term\":360.0,\"Credit_History\":null,\"Property_Area\":\"Rural\"},{\"Loan_ID\":\"LP001483\",\"Gender\":\"Male\",\"Married\":\"Yes\",\"Dependents\":\"3+\",\"Education\":\"Graduate\",\"Self_Employed\":\"No\",\"ApplicantIncome\":13518,\"CoapplicantIncome\":0,\"LoanAmount\":390.0,\"Loan_Amount_Term\":360.0,\"Credit_History\":1.0,\"Property_Area\":\"Rural\"},{\"Loan_ID\":\"LP001486\",\"Gender\":\"Male\",\"Married\":\"Yes\",\"Dependents\":\"1\",\"Education\":\"Graduate\",\"Self_Employed\":\"No\",\"ApplicantIncome\":4364,\"CoapplicantIncome\":2500,\"LoanAmount\":185.0,\"Loan_Amount_Term\":360.0,\"Credit_History\":1.0,\"Property_Area\":\"Semiurban\"},{\"Loan_ID\":\"LP001490\",\"Gender\":\"Male\",\"Married\":\"Yes\",\"Dependents\":\"2\",\"Education\":\"Not Graduate\",\"Self_Employed\":\"No\",\"ApplicantIncome\":4766,\"CoapplicantIncome\":1646,\"LoanAmount\":100.0,\"Loan_Amount_Term\":360.0,\"Credit_History\":1.0,\"Property_Area\":\"Semiurban\"},{\"Loan_ID\":\"LP001496\",\"Gender\":\"Male\",\"Married\":\"Yes\",\"Dependents\":\"1\",\"Education\":\"Graduate\",\"Self_Employed\":\"No\",\"ApplicantIncome\":4609,\"CoapplicantIncome\":2333,\"LoanAmount\":123.0,\"Loan_Amount_Term\":360.0,\"Credit_History\":0.0,\"Property_Area\":\"Semiurban\"},{\"Loan_ID\":\"LP001499\",\"Gender\":\"Female\",\"Married\":\"Yes\",\"Dependents\":\"3+\",\"Education\":\"Graduate\",\"Self_Employed\":\"No\",\"ApplicantIncome\":6260,\"CoapplicantIncome\":0,\"LoanAmount\":110.0,\"Loan_Amount_Term\":360.0,\"Credit_History\":1.0,\"Property_Area\":\"Semiurban\"},{\"Loan_ID\":\"LP001500\",\"Gender\":\"Male\",\"Married\":\"Yes\",\"Dependents\":\"1\",\"Education\":\"Graduate\",\"Self_Employed\":\"No\",\"ApplicantIncome\":3333,\"CoapplicantIncome\":4200,\"LoanAmount\":256.0,\"Loan_Amount_Term\":360.0,\"Credit_History\":1.0,\"Property_Area\":\"Urban\"},{\"Loan_ID\":\"LP001501\",\"Gender\":\"Male\",\"Married\":\"Yes\",\"Dependents\":\"0\",\"Education\":\"Graduate\",\"Self_Employed\":\"No\",\"ApplicantIncome\":3500,\"CoapplicantIncome\":3250,\"LoanAmount\":140.0,\"Loan_Amount_Term\":360.0,\"Credit_History\":1.0,\"Property_Area\":\"Semiurban\"},{\"Loan_ID\":\"LP001517\",\"Gender\":\"Male\",\"Married\":\"Yes\",\"Dependents\":\"3+\",\"Education\":\"Graduate\",\"Self_Employed\":\"No\",\"ApplicantIncome\":9719,\"CoapplicantIncome\":0,\"LoanAmount\":61.0,\"Loan_Amount_Term\":360.0,\"Credit_History\":1.0,\"Property_Area\":\"Urban\"},{\"Loan_ID\":\"LP001527\",\"Gender\":\"Male\",\"Married\":\"Yes\",\"Dependents\":\"3+\",\"Education\":\"Graduate\",\"Self_Employed\":\"No\",\"ApplicantIncome\":6835,\"CoapplicantIncome\":0,\"LoanAmount\":188.0,\"Loan_Amount_Term\":360.0,\"Credit_History\":null,\"Property_Area\":\"Semiurban\"},{\"Loan_ID\":\"LP001534\",\"Gender\":\"Male\",\"Married\":\"No\",\"Dependents\":\"0\",\"Education\":\"Graduate\",\"Self_Employed\":\"No\",\"ApplicantIncome\":4452,\"CoapplicantIncome\":0,\"LoanAmount\":131.0,\"Loan_Amount_Term\":360.0,\"Credit_History\":1.0,\"Property_Area\":\"Rural\"},{\"Loan_ID\":\"LP001542\",\"Gender\":\"Female\",\"Married\":\"Yes\",\"Dependents\":\"0\",\"Education\":\"Graduate\",\"Self_Employed\":\"No\",\"ApplicantIncome\":2262,\"CoapplicantIncome\":0,\"LoanAmount\":null,\"Loan_Amount_Term\":480.0,\"Credit_History\":0.0,\"Property_Area\":\"Semiurban\"},{\"Loan_ID\":\"LP001547\",\"Gender\":\"Male\",\"Married\":\"Yes\",\"Dependents\":\"1\",\"Education\":\"Graduate\",\"Self_Employed\":\"No\",\"ApplicantIncome\":3901,\"CoapplicantIncome\":0,\"LoanAmount\":116.0,\"Loan_Amount_Term\":360.0,\"Credit_History\":1.0,\"Property_Area\":\"Urban\"},{\"Loan_ID\":\"LP001548\",\"Gender\":\"Male\",\"Married\":\"Yes\",\"Dependents\":\"2\",\"Education\":\"Not Graduate\",\"Self_Employed\":\"No\",\"ApplicantIncome\":2687,\"CoapplicantIncome\":0,\"LoanAmount\":50.0,\"Loan_Amount_Term\":180.0,\"Credit_History\":1.0,\"Property_Area\":\"Rural\"},{\"Loan_ID\":\"LP001558\",\"Gender\":\"Male\",\"Married\":\"No\",\"Dependents\":\"0\",\"Education\":\"Graduate\",\"Self_Employed\":\"No\",\"ApplicantIncome\":2243,\"CoapplicantIncome\":2233,\"LoanAmount\":107.0,\"Loan_Amount_Term\":360.0,\"Credit_History\":null,\"Property_Area\":\"Semiurban\"},{\"Loan_ID\":\"LP001561\",\"Gender\":\"Female\",\"Married\":\"Yes\",\"Dependents\":\"0\",\"Education\":\"Graduate\",\"Self_Employed\":\"No\",\"ApplicantIncome\":3417,\"CoapplicantIncome\":1287,\"LoanAmount\":200.0,\"Loan_Amount_Term\":360.0,\"Credit_History\":1.0,\"Property_Area\":\"Semiurban\"},{\"Loan_ID\":\"LP001563\",\"Gender\":null,\"Married\":\"No\",\"Dependents\":\"0\",\"Education\":\"Graduate\",\"Self_Employed\":\"No\",\"ApplicantIncome\":1596,\"CoapplicantIncome\":1760,\"LoanAmount\":119.0,\"Loan_Amount_Term\":360.0,\"Credit_History\":0.0,\"Property_Area\":\"Urban\"},{\"Loan_ID\":\"LP001567\",\"Gender\":\"Male\",\"Married\":\"Yes\",\"Dependents\":\"3+\",\"Education\":\"Graduate\",\"Self_Employed\":\"No\",\"ApplicantIncome\":4513,\"CoapplicantIncome\":0,\"LoanAmount\":120.0,\"Loan_Amount_Term\":360.0,\"Credit_History\":1.0,\"Property_Area\":\"Rural\"},{\"Loan_ID\":\"LP001568\",\"Gender\":\"Male\",\"Married\":\"Yes\",\"Dependents\":\"0\",\"Education\":\"Graduate\",\"Self_Employed\":\"No\",\"ApplicantIncome\":4500,\"CoapplicantIncome\":0,\"LoanAmount\":140.0,\"Loan_Amount_Term\":360.0,\"Credit_History\":1.0,\"Property_Area\":\"Semiurban\"},{\"Loan_ID\":\"LP001573\",\"Gender\":\"Male\",\"Married\":\"Yes\",\"Dependents\":\"0\",\"Education\":\"Not Graduate\",\"Self_Employed\":\"No\",\"ApplicantIncome\":4523,\"CoapplicantIncome\":1350,\"LoanAmount\":165.0,\"Loan_Amount_Term\":360.0,\"Credit_History\":1.0,\"Property_Area\":\"Urban\"},{\"Loan_ID\":\"LP001584\",\"Gender\":\"Female\",\"Married\":\"No\",\"Dependents\":\"0\",\"Education\":\"Graduate\",\"Self_Employed\":\"Yes\",\"ApplicantIncome\":4742,\"CoapplicantIncome\":0,\"LoanAmount\":108.0,\"Loan_Amount_Term\":360.0,\"Credit_History\":1.0,\"Property_Area\":\"Semiurban\"},{\"Loan_ID\":\"LP001587\",\"Gender\":\"Male\",\"Married\":\"Yes\",\"Dependents\":null,\"Education\":\"Graduate\",\"Self_Employed\":\"No\",\"ApplicantIncome\":4082,\"CoapplicantIncome\":0,\"LoanAmount\":93.0,\"Loan_Amount_Term\":360.0,\"Credit_History\":1.0,\"Property_Area\":\"Semiurban\"},{\"Loan_ID\":\"LP001589\",\"Gender\":\"Female\",\"Married\":\"No\",\"Dependents\":\"0\",\"Education\":\"Graduate\",\"Self_Employed\":\"No\",\"ApplicantIncome\":3417,\"CoapplicantIncome\":0,\"LoanAmount\":102.0,\"Loan_Amount_Term\":360.0,\"Credit_History\":1.0,\"Property_Area\":\"Urban\"},{\"Loan_ID\":\"LP001591\",\"Gender\":\"Female\",\"Married\":\"Yes\",\"Dependents\":\"2\",\"Education\":\"Graduate\",\"Self_Employed\":\"No\",\"ApplicantIncome\":2922,\"CoapplicantIncome\":3396,\"LoanAmount\":122.0,\"Loan_Amount_Term\":360.0,\"Credit_History\":1.0,\"Property_Area\":\"Semiurban\"},{\"Loan_ID\":\"LP001599\",\"Gender\":\"Male\",\"Married\":\"Yes\",\"Dependents\":\"0\",\"Education\":\"Graduate\",\"Self_Employed\":\"No\",\"ApplicantIncome\":4167,\"CoapplicantIncome\":4754,\"LoanAmount\":160.0,\"Loan_Amount_Term\":360.0,\"Credit_History\":1.0,\"Property_Area\":\"Rural\"},{\"Loan_ID\":\"LP001601\",\"Gender\":\"Male\",\"Married\":\"No\",\"Dependents\":\"3+\",\"Education\":\"Graduate\",\"Self_Employed\":\"No\",\"ApplicantIncome\":4243,\"CoapplicantIncome\":4123,\"LoanAmount\":157.0,\"Loan_Amount_Term\":360.0,\"Credit_History\":null,\"Property_Area\":\"Semiurban\"},{\"Loan_ID\":\"LP001607\",\"Gender\":\"Female\",\"Married\":\"No\",\"Dependents\":\"0\",\"Education\":\"Not Graduate\",\"Self_Employed\":\"No\",\"ApplicantIncome\":0,\"CoapplicantIncome\":1760,\"LoanAmount\":180.0,\"Loan_Amount_Term\":360.0,\"Credit_History\":1.0,\"Property_Area\":\"Semiurban\"},{\"Loan_ID\":\"LP001611\",\"Gender\":\"Male\",\"Married\":\"Yes\",\"Dependents\":\"1\",\"Education\":\"Graduate\",\"Self_Employed\":\"No\",\"ApplicantIncome\":1516,\"CoapplicantIncome\":2900,\"LoanAmount\":80.0,\"Loan_Amount_Term\":null,\"Credit_History\":0.0,\"Property_Area\":\"Rural\"},{\"Loan_ID\":\"LP001613\",\"Gender\":\"Female\",\"Married\":\"No\",\"Dependents\":\"0\",\"Education\":\"Graduate\",\"Self_Employed\":\"No\",\"ApplicantIncome\":1762,\"CoapplicantIncome\":2666,\"LoanAmount\":104.0,\"Loan_Amount_Term\":360.0,\"Credit_History\":0.0,\"Property_Area\":\"Urban\"},{\"Loan_ID\":\"LP001622\",\"Gender\":\"Male\",\"Married\":\"Yes\",\"Dependents\":\"2\",\"Education\":\"Graduate\",\"Self_Employed\":\"No\",\"ApplicantIncome\":724,\"CoapplicantIncome\":3510,\"LoanAmount\":213.0,\"Loan_Amount_Term\":360.0,\"Credit_History\":0.0,\"Property_Area\":\"Rural\"},{\"Loan_ID\":\"LP001627\",\"Gender\":\"Male\",\"Married\":\"No\",\"Dependents\":\"0\",\"Education\":\"Graduate\",\"Self_Employed\":\"No\",\"ApplicantIncome\":3125,\"CoapplicantIncome\":0,\"LoanAmount\":65.0,\"Loan_Amount_Term\":360.0,\"Credit_History\":1.0,\"Property_Area\":\"Urban\"},{\"Loan_ID\":\"LP001650\",\"Gender\":\"Male\",\"Married\":\"Yes\",\"Dependents\":\"0\",\"Education\":\"Graduate\",\"Self_Employed\":\"No\",\"ApplicantIncome\":2333,\"CoapplicantIncome\":3803,\"LoanAmount\":146.0,\"Loan_Amount_Term\":360.0,\"Credit_History\":1.0,\"Property_Area\":\"Rural\"},{\"Loan_ID\":\"LP001651\",\"Gender\":\"Male\",\"Married\":\"Yes\",\"Dependents\":\"3+\",\"Education\":\"Graduate\",\"Self_Employed\":\"No\",\"ApplicantIncome\":3350,\"CoapplicantIncome\":1560,\"LoanAmount\":135.0,\"Loan_Amount_Term\":360.0,\"Credit_History\":1.0,\"Property_Area\":\"Urban\"},{\"Loan_ID\":\"LP001652\",\"Gender\":\"Male\",\"Married\":\"No\",\"Dependents\":\"0\",\"Education\":\"Graduate\",\"Self_Employed\":\"No\",\"ApplicantIncome\":2500,\"CoapplicantIncome\":6414,\"LoanAmount\":187.0,\"Loan_Amount_Term\":360.0,\"Credit_History\":0.0,\"Property_Area\":\"Rural\"},{\"Loan_ID\":\"LP001655\",\"Gender\":\"Female\",\"Married\":\"No\",\"Dependents\":\"0\",\"Education\":\"Graduate\",\"Self_Employed\":\"No\",\"ApplicantIncome\":12500,\"CoapplicantIncome\":0,\"LoanAmount\":300.0,\"Loan_Amount_Term\":360.0,\"Credit_History\":0.0,\"Property_Area\":\"Urban\"},{\"Loan_ID\":\"LP001660\",\"Gender\":\"Male\",\"Married\":\"No\",\"Dependents\":\"0\",\"Education\":\"Graduate\",\"Self_Employed\":\"No\",\"ApplicantIncome\":4667,\"CoapplicantIncome\":0,\"LoanAmount\":120.0,\"Loan_Amount_Term\":360.0,\"Credit_History\":1.0,\"Property_Area\":\"Semiurban\"},{\"Loan_ID\":\"LP001662\",\"Gender\":\"Male\",\"Married\":\"No\",\"Dependents\":\"0\",\"Education\":\"Graduate\",\"Self_Employed\":\"No\",\"ApplicantIncome\":6500,\"CoapplicantIncome\":0,\"LoanAmount\":71.0,\"Loan_Amount_Term\":360.0,\"Credit_History\":0.0,\"Property_Area\":\"Urban\"},{\"Loan_ID\":\"LP001663\",\"Gender\":\"Male\",\"Married\":\"Yes\",\"Dependents\":\"2\",\"Education\":\"Graduate\",\"Self_Employed\":\"No\",\"ApplicantIncome\":7500,\"CoapplicantIncome\":0,\"LoanAmount\":225.0,\"Loan_Amount_Term\":360.0,\"Credit_History\":1.0,\"Property_Area\":\"Urban\"},{\"Loan_ID\":\"LP001667\",\"Gender\":\"Male\",\"Married\":\"No\",\"Dependents\":\"0\",\"Education\":\"Graduate\",\"Self_Employed\":\"No\",\"ApplicantIncome\":3073,\"CoapplicantIncome\":0,\"LoanAmount\":70.0,\"Loan_Amount_Term\":180.0,\"Credit_History\":1.0,\"Property_Area\":\"Urban\"},{\"Loan_ID\":\"LP001695\",\"Gender\":\"Male\",\"Married\":\"Yes\",\"Dependents\":\"1\",\"Education\":\"Not Graduate\",\"Self_Employed\":\"No\",\"ApplicantIncome\":3321,\"CoapplicantIncome\":2088,\"LoanAmount\":70.0,\"Loan_Amount_Term\":null,\"Credit_History\":1.0,\"Property_Area\":\"Semiurban\"},{\"Loan_ID\":\"LP001703\",\"Gender\":\"Male\",\"Married\":\"Yes\",\"Dependents\":\"0\",\"Education\":\"Graduate\",\"Self_Employed\":\"No\",\"ApplicantIncome\":3333,\"CoapplicantIncome\":1270,\"LoanAmount\":124.0,\"Loan_Amount_Term\":360.0,\"Credit_History\":1.0,\"Property_Area\":\"Urban\"},{\"Loan_ID\":\"LP001718\",\"Gender\":\"Male\",\"Married\":\"No\",\"Dependents\":\"0\",\"Education\":\"Graduate\",\"Self_Employed\":\"No\",\"ApplicantIncome\":3391,\"CoapplicantIncome\":0,\"LoanAmount\":132.0,\"Loan_Amount_Term\":360.0,\"Credit_History\":1.0,\"Property_Area\":\"Rural\"},{\"Loan_ID\":\"LP001728\",\"Gender\":\"Male\",\"Married\":\"Yes\",\"Dependents\":\"1\",\"Education\":\"Graduate\",\"Self_Employed\":\"Yes\",\"ApplicantIncome\":3343,\"CoapplicantIncome\":1517,\"LoanAmount\":105.0,\"Loan_Amount_Term\":360.0,\"Credit_History\":1.0,\"Property_Area\":\"Rural\"},{\"Loan_ID\":\"LP001735\",\"Gender\":\"Female\",\"Married\":\"No\",\"Dependents\":\"1\",\"Education\":\"Graduate\",\"Self_Employed\":\"No\",\"ApplicantIncome\":3620,\"CoapplicantIncome\":0,\"LoanAmount\":90.0,\"Loan_Amount_Term\":360.0,\"Credit_History\":1.0,\"Property_Area\":\"Urban\"},{\"Loan_ID\":\"LP001737\",\"Gender\":\"Male\",\"Married\":\"No\",\"Dependents\":\"0\",\"Education\":\"Graduate\",\"Self_Employed\":\"No\",\"ApplicantIncome\":4000,\"CoapplicantIncome\":0,\"LoanAmount\":83.0,\"Loan_Amount_Term\":84.0,\"Credit_History\":1.0,\"Property_Area\":\"Urban\"},{\"Loan_ID\":\"LP001739\",\"Gender\":\"Male\",\"Married\":\"Yes\",\"Dependents\":\"0\",\"Education\":\"Graduate\",\"Self_Employed\":\"No\",\"ApplicantIncome\":4258,\"CoapplicantIncome\":0,\"LoanAmount\":125.0,\"Loan_Amount_Term\":360.0,\"Credit_History\":1.0,\"Property_Area\":\"Urban\"},{\"Loan_ID\":\"LP001742\",\"Gender\":\"Male\",\"Married\":\"Yes\",\"Dependents\":\"2\",\"Education\":\"Graduate\",\"Self_Employed\":\"No\",\"ApplicantIncome\":4500,\"CoapplicantIncome\":0,\"LoanAmount\":147.0,\"Loan_Amount_Term\":360.0,\"Credit_History\":1.0,\"Property_Area\":\"Rural\"},{\"Loan_ID\":\"LP001757\",\"Gender\":\"Male\",\"Married\":\"Yes\",\"Dependents\":\"1\",\"Education\":\"Graduate\",\"Self_Employed\":\"No\",\"ApplicantIncome\":2014,\"CoapplicantIncome\":2925,\"LoanAmount\":120.0,\"Loan_Amount_Term\":360.0,\"Credit_History\":1.0,\"Property_Area\":\"Rural\"},{\"Loan_ID\":\"LP001769\",\"Gender\":null,\"Married\":\"No\",\"Dependents\":null,\"Education\":\"Graduate\",\"Self_Employed\":\"No\",\"ApplicantIncome\":3333,\"CoapplicantIncome\":1250,\"LoanAmount\":110.0,\"Loan_Amount_Term\":360.0,\"Credit_History\":1.0,\"Property_Area\":\"Semiurban\"},{\"Loan_ID\":\"LP001771\",\"Gender\":\"Female\",\"Married\":\"No\",\"Dependents\":\"3+\",\"Education\":\"Graduate\",\"Self_Employed\":\"No\",\"ApplicantIncome\":4083,\"CoapplicantIncome\":0,\"LoanAmount\":103.0,\"Loan_Amount_Term\":360.0,\"Credit_History\":null,\"Property_Area\":\"Semiurban\"},{\"Loan_ID\":\"LP001785\",\"Gender\":\"Male\",\"Married\":\"No\",\"Dependents\":\"0\",\"Education\":\"Graduate\",\"Self_Employed\":\"No\",\"ApplicantIncome\":4727,\"CoapplicantIncome\":0,\"LoanAmount\":150.0,\"Loan_Amount_Term\":360.0,\"Credit_History\":0.0,\"Property_Area\":\"Rural\"},{\"Loan_ID\":\"LP001787\",\"Gender\":\"Male\",\"Married\":\"Yes\",\"Dependents\":\"3+\",\"Education\":\"Graduate\",\"Self_Employed\":\"No\",\"ApplicantIncome\":3089,\"CoapplicantIncome\":2999,\"LoanAmount\":100.0,\"Loan_Amount_Term\":240.0,\"Credit_History\":1.0,\"Property_Area\":\"Rural\"},{\"Loan_ID\":\"LP001789\",\"Gender\":\"Male\",\"Married\":\"Yes\",\"Dependents\":\"3+\",\"Education\":\"Not Graduate\",\"Self_Employed\":null,\"ApplicantIncome\":6794,\"CoapplicantIncome\":528,\"LoanAmount\":139.0,\"Loan_Amount_Term\":360.0,\"Credit_History\":0.0,\"Property_Area\":\"Urban\"},{\"Loan_ID\":\"LP001791\",\"Gender\":\"Male\",\"Married\":\"Yes\",\"Dependents\":\"0\",\"Education\":\"Graduate\",\"Self_Employed\":\"Yes\",\"ApplicantIncome\":32000,\"CoapplicantIncome\":0,\"LoanAmount\":550.0,\"Loan_Amount_Term\":360.0,\"Credit_History\":null,\"Property_Area\":\"Semiurban\"},{\"Loan_ID\":\"LP001794\",\"Gender\":\"Male\",\"Married\":\"Yes\",\"Dependents\":\"2\",\"Education\":\"Graduate\",\"Self_Employed\":\"Yes\",\"ApplicantIncome\":10890,\"CoapplicantIncome\":0,\"LoanAmount\":260.0,\"Loan_Amount_Term\":12.0,\"Credit_History\":1.0,\"Property_Area\":\"Rural\"},{\"Loan_ID\":\"LP001797\",\"Gender\":\"Female\",\"Married\":\"No\",\"Dependents\":\"0\",\"Education\":\"Graduate\",\"Self_Employed\":\"No\",\"ApplicantIncome\":12941,\"CoapplicantIncome\":0,\"LoanAmount\":150.0,\"Loan_Amount_Term\":300.0,\"Credit_History\":1.0,\"Property_Area\":\"Urban\"},{\"Loan_ID\":\"LP001815\",\"Gender\":\"Male\",\"Married\":\"No\",\"Dependents\":\"0\",\"Education\":\"Not Graduate\",\"Self_Employed\":\"No\",\"ApplicantIncome\":3276,\"CoapplicantIncome\":0,\"LoanAmount\":90.0,\"Loan_Amount_Term\":360.0,\"Credit_History\":1.0,\"Property_Area\":\"Semiurban\"},{\"Loan_ID\":\"LP001817\",\"Gender\":\"Male\",\"Married\":\"No\",\"Dependents\":\"0\",\"Education\":\"Not Graduate\",\"Self_Employed\":\"Yes\",\"ApplicantIncome\":8703,\"CoapplicantIncome\":0,\"LoanAmount\":199.0,\"Loan_Amount_Term\":360.0,\"Credit_History\":0.0,\"Property_Area\":\"Rural\"},{\"Loan_ID\":\"LP001818\",\"Gender\":\"Male\",\"Married\":\"Yes\",\"Dependents\":\"1\",\"Education\":\"Graduate\",\"Self_Employed\":\"No\",\"ApplicantIncome\":4742,\"CoapplicantIncome\":717,\"LoanAmount\":139.0,\"Loan_Amount_Term\":360.0,\"Credit_History\":1.0,\"Property_Area\":\"Semiurban\"},{\"Loan_ID\":\"LP001822\",\"Gender\":\"Male\",\"Married\":\"No\",\"Dependents\":\"0\",\"Education\":\"Graduate\",\"Self_Employed\":\"No\",\"ApplicantIncome\":5900,\"CoapplicantIncome\":0,\"LoanAmount\":150.0,\"Loan_Amount_Term\":360.0,\"Credit_History\":1.0,\"Property_Area\":\"Urban\"},{\"Loan_ID\":\"LP001827\",\"Gender\":\"Male\",\"Married\":\"No\",\"Dependents\":\"0\",\"Education\":\"Graduate\",\"Self_Employed\":\"No\",\"ApplicantIncome\":3071,\"CoapplicantIncome\":4309,\"LoanAmount\":180.0,\"Loan_Amount_Term\":360.0,\"Credit_History\":1.0,\"Property_Area\":\"Urban\"},{\"Loan_ID\":\"LP001831\",\"Gender\":\"Male\",\"Married\":\"Yes\",\"Dependents\":\"0\",\"Education\":\"Graduate\",\"Self_Employed\":\"No\",\"ApplicantIncome\":2783,\"CoapplicantIncome\":1456,\"LoanAmount\":113.0,\"Loan_Amount_Term\":360.0,\"Credit_History\":1.0,\"Property_Area\":\"Urban\"},{\"Loan_ID\":\"LP001842\",\"Gender\":\"Male\",\"Married\":\"No\",\"Dependents\":\"0\",\"Education\":\"Graduate\",\"Self_Employed\":\"No\",\"ApplicantIncome\":5000,\"CoapplicantIncome\":0,\"LoanAmount\":148.0,\"Loan_Amount_Term\":360.0,\"Credit_History\":1.0,\"Property_Area\":\"Rural\"},{\"Loan_ID\":\"LP001853\",\"Gender\":\"Male\",\"Married\":\"Yes\",\"Dependents\":\"1\",\"Education\":\"Not Graduate\",\"Self_Employed\":\"No\",\"ApplicantIncome\":2463,\"CoapplicantIncome\":2360,\"LoanAmount\":117.0,\"Loan_Amount_Term\":360.0,\"Credit_History\":0.0,\"Property_Area\":\"Urban\"},{\"Loan_ID\":\"LP001855\",\"Gender\":\"Male\",\"Married\":\"Yes\",\"Dependents\":\"2\",\"Education\":\"Graduate\",\"Self_Employed\":\"No\",\"ApplicantIncome\":4855,\"CoapplicantIncome\":0,\"LoanAmount\":72.0,\"Loan_Amount_Term\":360.0,\"Credit_History\":1.0,\"Property_Area\":\"Rural\"},{\"Loan_ID\":\"LP001857\",\"Gender\":\"Male\",\"Married\":\"No\",\"Dependents\":\"0\",\"Education\":\"Not Graduate\",\"Self_Employed\":\"Yes\",\"ApplicantIncome\":1599,\"CoapplicantIncome\":2474,\"LoanAmount\":125.0,\"Loan_Amount_Term\":300.0,\"Credit_History\":1.0,\"Property_Area\":\"Semiurban\"},{\"Loan_ID\":\"LP001862\",\"Gender\":\"Male\",\"Married\":\"Yes\",\"Dependents\":\"2\",\"Education\":\"Graduate\",\"Self_Employed\":\"Yes\",\"ApplicantIncome\":4246,\"CoapplicantIncome\":4246,\"LoanAmount\":214.0,\"Loan_Amount_Term\":360.0,\"Credit_History\":1.0,\"Property_Area\":\"Urban\"},{\"Loan_ID\":\"LP001867\",\"Gender\":\"Male\",\"Married\":\"Yes\",\"Dependents\":\"0\",\"Education\":\"Graduate\",\"Self_Employed\":\"No\",\"ApplicantIncome\":4333,\"CoapplicantIncome\":2291,\"LoanAmount\":133.0,\"Loan_Amount_Term\":350.0,\"Credit_History\":1.0,\"Property_Area\":\"Rural\"},{\"Loan_ID\":\"LP001878\",\"Gender\":\"Male\",\"Married\":\"No\",\"Dependents\":\"1\",\"Education\":\"Graduate\",\"Self_Employed\":\"No\",\"ApplicantIncome\":5823,\"CoapplicantIncome\":2529,\"LoanAmount\":187.0,\"Loan_Amount_Term\":360.0,\"Credit_History\":1.0,\"Property_Area\":\"Semiurban\"},{\"Loan_ID\":\"LP001881\",\"Gender\":\"Male\",\"Married\":\"Yes\",\"Dependents\":\"0\",\"Education\":\"Not Graduate\",\"Self_Employed\":\"No\",\"ApplicantIncome\":7895,\"CoapplicantIncome\":0,\"LoanAmount\":143.0,\"Loan_Amount_Term\":360.0,\"Credit_History\":1.0,\"Property_Area\":\"Rural\"},{\"Loan_ID\":\"LP001886\",\"Gender\":\"Male\",\"Married\":\"No\",\"Dependents\":\"0\",\"Education\":\"Graduate\",\"Self_Employed\":\"No\",\"ApplicantIncome\":4150,\"CoapplicantIncome\":4256,\"LoanAmount\":209.0,\"Loan_Amount_Term\":360.0,\"Credit_History\":1.0,\"Property_Area\":\"Rural\"},{\"Loan_ID\":\"LP001906\",\"Gender\":\"Male\",\"Married\":\"No\",\"Dependents\":\"0\",\"Education\":\"Graduate\",\"Self_Employed\":null,\"ApplicantIncome\":2964,\"CoapplicantIncome\":0,\"LoanAmount\":84.0,\"Loan_Amount_Term\":360.0,\"Credit_History\":0.0,\"Property_Area\":\"Semiurban\"},{\"Loan_ID\":\"LP001909\",\"Gender\":\"Male\",\"Married\":\"No\",\"Dependents\":\"0\",\"Education\":\"Graduate\",\"Self_Employed\":\"No\",\"ApplicantIncome\":5583,\"CoapplicantIncome\":0,\"LoanAmount\":116.0,\"Loan_Amount_Term\":360.0,\"Credit_History\":1.0,\"Property_Area\":\"Urban\"},{\"Loan_ID\":\"LP001911\",\"Gender\":\"Female\",\"Married\":\"No\",\"Dependents\":\"0\",\"Education\":\"Graduate\",\"Self_Employed\":\"No\",\"ApplicantIncome\":2708,\"CoapplicantIncome\":0,\"LoanAmount\":65.0,\"Loan_Amount_Term\":360.0,\"Credit_History\":1.0,\"Property_Area\":\"Rural\"},{\"Loan_ID\":\"LP001921\",\"Gender\":\"Male\",\"Married\":\"No\",\"Dependents\":\"1\",\"Education\":\"Graduate\",\"Self_Employed\":\"No\",\"ApplicantIncome\":3180,\"CoapplicantIncome\":2370,\"LoanAmount\":80.0,\"Loan_Amount_Term\":240.0,\"Credit_History\":null,\"Property_Area\":\"Rural\"},{\"Loan_ID\":\"LP001923\",\"Gender\":\"Male\",\"Married\":\"No\",\"Dependents\":\"0\",\"Education\":\"Not Graduate\",\"Self_Employed\":\"No\",\"ApplicantIncome\":2268,\"CoapplicantIncome\":0,\"LoanAmount\":170.0,\"Loan_Amount_Term\":360.0,\"Credit_History\":0.0,\"Property_Area\":\"Semiurban\"},{\"Loan_ID\":\"LP001933\",\"Gender\":\"Male\",\"Married\":\"No\",\"Dependents\":\"2\",\"Education\":\"Not Graduate\",\"Self_Employed\":\"No\",\"ApplicantIncome\":1141,\"CoapplicantIncome\":2017,\"LoanAmount\":120.0,\"Loan_Amount_Term\":360.0,\"Credit_History\":0.0,\"Property_Area\":\"Urban\"},{\"Loan_ID\":\"LP001943\",\"Gender\":\"Male\",\"Married\":\"Yes\",\"Dependents\":\"0\",\"Education\":\"Graduate\",\"Self_Employed\":\"No\",\"ApplicantIncome\":3042,\"CoapplicantIncome\":3167,\"LoanAmount\":135.0,\"Loan_Amount_Term\":360.0,\"Credit_History\":1.0,\"Property_Area\":\"Urban\"},{\"Loan_ID\":\"LP001950\",\"Gender\":\"Female\",\"Married\":\"Yes\",\"Dependents\":\"3+\",\"Education\":\"Graduate\",\"Self_Employed\":null,\"ApplicantIncome\":1750,\"CoapplicantIncome\":2935,\"LoanAmount\":94.0,\"Loan_Amount_Term\":360.0,\"Credit_History\":0.0,\"Property_Area\":\"Semiurban\"},{\"Loan_ID\":\"LP001959\",\"Gender\":\"Female\",\"Married\":\"Yes\",\"Dependents\":\"1\",\"Education\":\"Graduate\",\"Self_Employed\":\"No\",\"ApplicantIncome\":3564,\"CoapplicantIncome\":0,\"LoanAmount\":79.0,\"Loan_Amount_Term\":360.0,\"Credit_History\":1.0,\"Property_Area\":\"Rural\"},{\"Loan_ID\":\"LP001961\",\"Gender\":\"Female\",\"Married\":\"No\",\"Dependents\":\"0\",\"Education\":\"Graduate\",\"Self_Employed\":\"No\",\"ApplicantIncome\":3958,\"CoapplicantIncome\":0,\"LoanAmount\":110.0,\"Loan_Amount_Term\":360.0,\"Credit_History\":1.0,\"Property_Area\":\"Rural\"},{\"Loan_ID\":\"LP001973\",\"Gender\":\"Male\",\"Married\":\"Yes\",\"Dependents\":\"2\",\"Education\":\"Not Graduate\",\"Self_Employed\":\"No\",\"ApplicantIncome\":4483,\"CoapplicantIncome\":0,\"LoanAmount\":130.0,\"Loan_Amount_Term\":360.0,\"Credit_History\":1.0,\"Property_Area\":\"Rural\"},{\"Loan_ID\":\"LP001975\",\"Gender\":\"Male\",\"Married\":\"Yes\",\"Dependents\":\"0\",\"Education\":\"Graduate\",\"Self_Employed\":\"No\",\"ApplicantIncome\":5225,\"CoapplicantIncome\":0,\"LoanAmount\":143.0,\"Loan_Amount_Term\":360.0,\"Credit_History\":1.0,\"Property_Area\":\"Rural\"},{\"Loan_ID\":\"LP001979\",\"Gender\":\"Male\",\"Married\":\"No\",\"Dependents\":\"0\",\"Education\":\"Graduate\",\"Self_Employed\":\"No\",\"ApplicantIncome\":3017,\"CoapplicantIncome\":2845,\"LoanAmount\":159.0,\"Loan_Amount_Term\":180.0,\"Credit_History\":0.0,\"Property_Area\":\"Urban\"},{\"Loan_ID\":\"LP001995\",\"Gender\":\"Male\",\"Married\":\"Yes\",\"Dependents\":\"0\",\"Education\":\"Not Graduate\",\"Self_Employed\":\"No\",\"ApplicantIncome\":2431,\"CoapplicantIncome\":1820,\"LoanAmount\":110.0,\"Loan_Amount_Term\":360.0,\"Credit_History\":0.0,\"Property_Area\":\"Rural\"},{\"Loan_ID\":\"LP001999\",\"Gender\":\"Male\",\"Married\":\"Yes\",\"Dependents\":\"2\",\"Education\":\"Graduate\",\"Self_Employed\":null,\"ApplicantIncome\":4912,\"CoapplicantIncome\":4614,\"LoanAmount\":160.0,\"Loan_Amount_Term\":360.0,\"Credit_History\":1.0,\"Property_Area\":\"Rural\"},{\"Loan_ID\":\"LP002007\",\"Gender\":\"Male\",\"Married\":\"Yes\",\"Dependents\":\"2\",\"Education\":\"Not Graduate\",\"Self_Employed\":\"No\",\"ApplicantIncome\":2500,\"CoapplicantIncome\":3333,\"LoanAmount\":131.0,\"Loan_Amount_Term\":360.0,\"Credit_History\":1.0,\"Property_Area\":\"Urban\"},{\"Loan_ID\":\"LP002009\",\"Gender\":\"Female\",\"Married\":\"No\",\"Dependents\":\"0\",\"Education\":\"Graduate\",\"Self_Employed\":\"No\",\"ApplicantIncome\":2918,\"CoapplicantIncome\":0,\"LoanAmount\":65.0,\"Loan_Amount_Term\":360.0,\"Credit_History\":null,\"Property_Area\":\"Rural\"},{\"Loan_ID\":\"LP002016\",\"Gender\":\"Male\",\"Married\":\"Yes\",\"Dependents\":\"2\",\"Education\":\"Graduate\",\"Self_Employed\":\"No\",\"ApplicantIncome\":5128,\"CoapplicantIncome\":0,\"LoanAmount\":143.0,\"Loan_Amount_Term\":360.0,\"Credit_History\":1.0,\"Property_Area\":\"Rural\"},{\"Loan_ID\":\"LP002017\",\"Gender\":\"Male\",\"Married\":\"Yes\",\"Dependents\":\"3+\",\"Education\":\"Graduate\",\"Self_Employed\":\"No\",\"ApplicantIncome\":15312,\"CoapplicantIncome\":0,\"LoanAmount\":187.0,\"Loan_Amount_Term\":360.0,\"Credit_History\":null,\"Property_Area\":\"Urban\"},{\"Loan_ID\":\"LP002018\",\"Gender\":\"Male\",\"Married\":\"Yes\",\"Dependents\":\"2\",\"Education\":\"Graduate\",\"Self_Employed\":\"No\",\"ApplicantIncome\":3958,\"CoapplicantIncome\":2632,\"LoanAmount\":160.0,\"Loan_Amount_Term\":360.0,\"Credit_History\":1.0,\"Property_Area\":\"Semiurban\"},{\"Loan_ID\":\"LP002027\",\"Gender\":\"Male\",\"Married\":\"Yes\",\"Dependents\":\"0\",\"Education\":\"Graduate\",\"Self_Employed\":\"No\",\"ApplicantIncome\":4334,\"CoapplicantIncome\":2945,\"LoanAmount\":165.0,\"Loan_Amount_Term\":360.0,\"Credit_History\":1.0,\"Property_Area\":\"Semiurban\"},{\"Loan_ID\":\"LP002028\",\"Gender\":\"Male\",\"Married\":\"Yes\",\"Dependents\":\"2\",\"Education\":\"Graduate\",\"Self_Employed\":\"No\",\"ApplicantIncome\":4358,\"CoapplicantIncome\":0,\"LoanAmount\":110.0,\"Loan_Amount_Term\":360.0,\"Credit_History\":1.0,\"Property_Area\":\"Urban\"},{\"Loan_ID\":\"LP002042\",\"Gender\":\"Female\",\"Married\":\"Yes\",\"Dependents\":\"1\",\"Education\":\"Graduate\",\"Self_Employed\":\"No\",\"ApplicantIncome\":4000,\"CoapplicantIncome\":3917,\"LoanAmount\":173.0,\"Loan_Amount_Term\":360.0,\"Credit_History\":1.0,\"Property_Area\":\"Rural\"},{\"Loan_ID\":\"LP002045\",\"Gender\":\"Male\",\"Married\":\"Yes\",\"Dependents\":\"3+\",\"Education\":\"Graduate\",\"Self_Employed\":\"No\",\"ApplicantIncome\":10166,\"CoapplicantIncome\":750,\"LoanAmount\":150.0,\"Loan_Amount_Term\":null,\"Credit_History\":1.0,\"Property_Area\":\"Urban\"},{\"Loan_ID\":\"LP002046\",\"Gender\":\"Male\",\"Married\":\"Yes\",\"Dependents\":\"0\",\"Education\":\"Not Graduate\",\"Self_Employed\":\"No\",\"ApplicantIncome\":4483,\"CoapplicantIncome\":0,\"LoanAmount\":135.0,\"Loan_Amount_Term\":360.0,\"Credit_History\":null,\"Property_Area\":\"Semiurban\"},{\"Loan_ID\":\"LP002047\",\"Gender\":\"Male\",\"Married\":\"Yes\",\"Dependents\":\"2\",\"Education\":\"Not Graduate\",\"Self_Employed\":\"No\",\"ApplicantIncome\":4521,\"CoapplicantIncome\":1184,\"LoanAmount\":150.0,\"Loan_Amount_Term\":360.0,\"Credit_History\":1.0,\"Property_Area\":\"Semiurban\"},{\"Loan_ID\":\"LP002056\",\"Gender\":\"Male\",\"Married\":\"Yes\",\"Dependents\":\"2\",\"Education\":\"Graduate\",\"Self_Employed\":\"No\",\"ApplicantIncome\":9167,\"CoapplicantIncome\":0,\"LoanAmount\":235.0,\"Loan_Amount_Term\":360.0,\"Credit_History\":1.0,\"Property_Area\":\"Semiurban\"},{\"Loan_ID\":\"LP002057\",\"Gender\":\"Male\",\"Married\":\"Yes\",\"Dependents\":\"0\",\"Education\":\"Not Graduate\",\"Self_Employed\":\"No\",\"ApplicantIncome\":13083,\"CoapplicantIncome\":0,\"LoanAmount\":null,\"Loan_Amount_Term\":360.0,\"Credit_History\":1.0,\"Property_Area\":\"Rural\"},{\"Loan_ID\":\"LP002059\",\"Gender\":\"Male\",\"Married\":\"Yes\",\"Dependents\":\"2\",\"Education\":\"Graduate\",\"Self_Employed\":\"No\",\"ApplicantIncome\":7874,\"CoapplicantIncome\":3967,\"LoanAmount\":336.0,\"Loan_Amount_Term\":360.0,\"Credit_History\":1.0,\"Property_Area\":\"Rural\"},{\"Loan_ID\":\"LP002062\",\"Gender\":\"Female\",\"Married\":\"Yes\",\"Dependents\":\"1\",\"Education\":\"Graduate\",\"Self_Employed\":\"No\",\"ApplicantIncome\":4333,\"CoapplicantIncome\":0,\"LoanAmount\":132.0,\"Loan_Amount_Term\":84.0,\"Credit_History\":1.0,\"Property_Area\":\"Rural\"},{\"Loan_ID\":\"LP002064\",\"Gender\":\"Male\",\"Married\":\"No\",\"Dependents\":\"0\",\"Education\":\"Graduate\",\"Self_Employed\":\"No\",\"ApplicantIncome\":4083,\"CoapplicantIncome\":0,\"LoanAmount\":96.0,\"Loan_Amount_Term\":360.0,\"Credit_History\":1.0,\"Property_Area\":\"Urban\"},{\"Loan_ID\":\"LP002069\",\"Gender\":\"Male\",\"Married\":\"Yes\",\"Dependents\":\"2\",\"Education\":\"Not Graduate\",\"Self_Employed\":null,\"ApplicantIncome\":3785,\"CoapplicantIncome\":2912,\"LoanAmount\":180.0,\"Loan_Amount_Term\":360.0,\"Credit_History\":0.0,\"Property_Area\":\"Rural\"},{\"Loan_ID\":\"LP002070\",\"Gender\":\"Male\",\"Married\":\"Yes\",\"Dependents\":\"3+\",\"Education\":\"Not Graduate\",\"Self_Employed\":\"No\",\"ApplicantIncome\":2654,\"CoapplicantIncome\":1998,\"LoanAmount\":128.0,\"Loan_Amount_Term\":360.0,\"Credit_History\":0.0,\"Property_Area\":\"Rural\"},{\"Loan_ID\":\"LP002077\",\"Gender\":\"Male\",\"Married\":\"Yes\",\"Dependents\":\"1\",\"Education\":\"Graduate\",\"Self_Employed\":\"No\",\"ApplicantIncome\":10000,\"CoapplicantIncome\":2690,\"LoanAmount\":412.0,\"Loan_Amount_Term\":360.0,\"Credit_History\":1.0,\"Property_Area\":\"Semiurban\"},{\"Loan_ID\":\"LP002083\",\"Gender\":\"Male\",\"Married\":\"No\",\"Dependents\":\"0\",\"Education\":\"Graduate\",\"Self_Employed\":\"Yes\",\"ApplicantIncome\":5833,\"CoapplicantIncome\":0,\"LoanAmount\":116.0,\"Loan_Amount_Term\":360.0,\"Credit_History\":1.0,\"Property_Area\":\"Urban\"},{\"Loan_ID\":\"LP002090\",\"Gender\":\"Male\",\"Married\":\"Yes\",\"Dependents\":\"1\",\"Education\":\"Graduate\",\"Self_Employed\":\"No\",\"ApplicantIncome\":4796,\"CoapplicantIncome\":0,\"LoanAmount\":114.0,\"Loan_Amount_Term\":360.0,\"Credit_History\":0.0,\"Property_Area\":\"Semiurban\"},{\"Loan_ID\":\"LP002096\",\"Gender\":\"Male\",\"Married\":\"Yes\",\"Dependents\":\"0\",\"Education\":\"Not Graduate\",\"Self_Employed\":\"No\",\"ApplicantIncome\":2000,\"CoapplicantIncome\":1600,\"LoanAmount\":115.0,\"Loan_Amount_Term\":360.0,\"Credit_History\":1.0,\"Property_Area\":\"Rural\"},{\"Loan_ID\":\"LP002099\",\"Gender\":\"Male\",\"Married\":\"Yes\",\"Dependents\":\"2\",\"Education\":\"Graduate\",\"Self_Employed\":\"No\",\"ApplicantIncome\":2540,\"CoapplicantIncome\":700,\"LoanAmount\":104.0,\"Loan_Amount_Term\":360.0,\"Credit_History\":0.0,\"Property_Area\":\"Urban\"},{\"Loan_ID\":\"LP002102\",\"Gender\":\"Male\",\"Married\":\"Yes\",\"Dependents\":\"0\",\"Education\":\"Graduate\",\"Self_Employed\":\"Yes\",\"ApplicantIncome\":1900,\"CoapplicantIncome\":1442,\"LoanAmount\":88.0,\"Loan_Amount_Term\":360.0,\"Credit_History\":1.0,\"Property_Area\":\"Rural\"},{\"Loan_ID\":\"LP002105\",\"Gender\":\"Male\",\"Married\":\"Yes\",\"Dependents\":\"0\",\"Education\":\"Graduate\",\"Self_Employed\":\"Yes\",\"ApplicantIncome\":8706,\"CoapplicantIncome\":0,\"LoanAmount\":108.0,\"Loan_Amount_Term\":480.0,\"Credit_History\":1.0,\"Property_Area\":\"Rural\"},{\"Loan_ID\":\"LP002107\",\"Gender\":\"Male\",\"Married\":\"Yes\",\"Dependents\":\"3+\",\"Education\":\"Not Graduate\",\"Self_Employed\":\"No\",\"ApplicantIncome\":2855,\"CoapplicantIncome\":542,\"LoanAmount\":90.0,\"Loan_Amount_Term\":360.0,\"Credit_History\":1.0,\"Property_Area\":\"Urban\"},{\"Loan_ID\":\"LP002111\",\"Gender\":\"Male\",\"Married\":\"Yes\",\"Dependents\":null,\"Education\":\"Graduate\",\"Self_Employed\":\"No\",\"ApplicantIncome\":3016,\"CoapplicantIncome\":1300,\"LoanAmount\":100.0,\"Loan_Amount_Term\":360.0,\"Credit_History\":null,\"Property_Area\":\"Urban\"},{\"Loan_ID\":\"LP002117\",\"Gender\":\"Female\",\"Married\":\"Yes\",\"Dependents\":\"0\",\"Education\":\"Graduate\",\"Self_Employed\":\"No\",\"ApplicantIncome\":3159,\"CoapplicantIncome\":2374,\"LoanAmount\":108.0,\"Loan_Amount_Term\":360.0,\"Credit_History\":1.0,\"Property_Area\":\"Semiurban\"},{\"Loan_ID\":\"LP002118\",\"Gender\":\"Female\",\"Married\":\"No\",\"Dependents\":\"0\",\"Education\":\"Graduate\",\"Self_Employed\":\"No\",\"ApplicantIncome\":1937,\"CoapplicantIncome\":1152,\"LoanAmount\":78.0,\"Loan_Amount_Term\":360.0,\"Credit_History\":1.0,\"Property_Area\":\"Semiurban\"},{\"Loan_ID\":\"LP002123\",\"Gender\":\"Male\",\"Married\":\"Yes\",\"Dependents\":\"0\",\"Education\":\"Graduate\",\"Self_Employed\":\"No\",\"ApplicantIncome\":2613,\"CoapplicantIncome\":2417,\"LoanAmount\":123.0,\"Loan_Amount_Term\":360.0,\"Credit_History\":1.0,\"Property_Area\":\"Semiurban\"},{\"Loan_ID\":\"LP002125\",\"Gender\":\"Male\",\"Married\":\"Yes\",\"Dependents\":\"1\",\"Education\":\"Graduate\",\"Self_Employed\":\"No\",\"ApplicantIncome\":4960,\"CoapplicantIncome\":2600,\"LoanAmount\":187.0,\"Loan_Amount_Term\":360.0,\"Credit_History\":1.0,\"Property_Area\":\"Semiurban\"},{\"Loan_ID\":\"LP002148\",\"Gender\":\"Male\",\"Married\":\"Yes\",\"Dependents\":\"1\",\"Education\":\"Graduate\",\"Self_Employed\":\"No\",\"ApplicantIncome\":3074,\"CoapplicantIncome\":1083,\"LoanAmount\":146.0,\"Loan_Amount_Term\":360.0,\"Credit_History\":1.0,\"Property_Area\":\"Semiurban\"},{\"Loan_ID\":\"LP002152\",\"Gender\":\"Female\",\"Married\":\"No\",\"Dependents\":\"0\",\"Education\":\"Graduate\",\"Self_Employed\":\"No\",\"ApplicantIncome\":4213,\"CoapplicantIncome\":0,\"LoanAmount\":80.0,\"Loan_Amount_Term\":360.0,\"Credit_History\":1.0,\"Property_Area\":\"Urban\"},{\"Loan_ID\":\"LP002165\",\"Gender\":null,\"Married\":\"No\",\"Dependents\":\"1\",\"Education\":\"Not Graduate\",\"Self_Employed\":\"No\",\"ApplicantIncome\":2038,\"CoapplicantIncome\":4027,\"LoanAmount\":100.0,\"Loan_Amount_Term\":360.0,\"Credit_History\":1.0,\"Property_Area\":\"Rural\"},{\"Loan_ID\":\"LP002167\",\"Gender\":\"Female\",\"Married\":\"No\",\"Dependents\":\"0\",\"Education\":\"Graduate\",\"Self_Employed\":\"No\",\"ApplicantIncome\":2362,\"CoapplicantIncome\":0,\"LoanAmount\":55.0,\"Loan_Amount_Term\":360.0,\"Credit_History\":1.0,\"Property_Area\":\"Urban\"},{\"Loan_ID\":\"LP002168\",\"Gender\":\"Male\",\"Married\":\"No\",\"Dependents\":\"0\",\"Education\":\"Graduate\",\"Self_Employed\":\"No\",\"ApplicantIncome\":5333,\"CoapplicantIncome\":2400,\"LoanAmount\":200.0,\"Loan_Amount_Term\":360.0,\"Credit_History\":0.0,\"Property_Area\":\"Rural\"},{\"Loan_ID\":\"LP002172\",\"Gender\":\"Male\",\"Married\":\"Yes\",\"Dependents\":\"3+\",\"Education\":\"Graduate\",\"Self_Employed\":\"Yes\",\"ApplicantIncome\":5384,\"CoapplicantIncome\":0,\"LoanAmount\":150.0,\"Loan_Amount_Term\":360.0,\"Credit_History\":1.0,\"Property_Area\":\"Semiurban\"},{\"Loan_ID\":\"LP002176\",\"Gender\":\"Male\",\"Married\":\"No\",\"Dependents\":\"0\",\"Education\":\"Graduate\",\"Self_Employed\":\"No\",\"ApplicantIncome\":5708,\"CoapplicantIncome\":0,\"LoanAmount\":150.0,\"Loan_Amount_Term\":360.0,\"Credit_History\":1.0,\"Property_Area\":\"Rural\"},{\"Loan_ID\":\"LP002183\",\"Gender\":\"Male\",\"Married\":\"Yes\",\"Dependents\":\"0\",\"Education\":\"Not Graduate\",\"Self_Employed\":\"No\",\"ApplicantIncome\":3754,\"CoapplicantIncome\":3719,\"LoanAmount\":118.0,\"Loan_Amount_Term\":null,\"Credit_History\":1.0,\"Property_Area\":\"Rural\"},{\"Loan_ID\":\"LP002184\",\"Gender\":\"Male\",\"Married\":\"Yes\",\"Dependents\":\"0\",\"Education\":\"Not Graduate\",\"Self_Employed\":\"No\",\"ApplicantIncome\":2914,\"CoapplicantIncome\":2130,\"LoanAmount\":150.0,\"Loan_Amount_Term\":300.0,\"Credit_History\":1.0,\"Property_Area\":\"Urban\"},{\"Loan_ID\":\"LP002186\",\"Gender\":\"Male\",\"Married\":\"Yes\",\"Dependents\":\"0\",\"Education\":\"Not Graduate\",\"Self_Employed\":\"No\",\"ApplicantIncome\":2747,\"CoapplicantIncome\":2458,\"LoanAmount\":118.0,\"Loan_Amount_Term\":36.0,\"Credit_History\":1.0,\"Property_Area\":\"Semiurban\"},{\"Loan_ID\":\"LP002192\",\"Gender\":\"Male\",\"Married\":\"Yes\",\"Dependents\":\"0\",\"Education\":\"Graduate\",\"Self_Employed\":\"No\",\"ApplicantIncome\":7830,\"CoapplicantIncome\":2183,\"LoanAmount\":212.0,\"Loan_Amount_Term\":360.0,\"Credit_History\":1.0,\"Property_Area\":\"Rural\"},{\"Loan_ID\":\"LP002195\",\"Gender\":\"Male\",\"Married\":\"Yes\",\"Dependents\":\"1\",\"Education\":\"Graduate\",\"Self_Employed\":\"Yes\",\"ApplicantIncome\":3507,\"CoapplicantIncome\":3148,\"LoanAmount\":212.0,\"Loan_Amount_Term\":360.0,\"Credit_History\":1.0,\"Property_Area\":\"Rural\"},{\"Loan_ID\":\"LP002208\",\"Gender\":\"Male\",\"Married\":\"Yes\",\"Dependents\":\"1\",\"Education\":\"Graduate\",\"Self_Employed\":\"No\",\"ApplicantIncome\":3747,\"CoapplicantIncome\":2139,\"LoanAmount\":125.0,\"Loan_Amount_Term\":360.0,\"Credit_History\":1.0,\"Property_Area\":\"Urban\"},{\"Loan_ID\":\"LP002212\",\"Gender\":\"Male\",\"Married\":\"Yes\",\"Dependents\":\"0\",\"Education\":\"Graduate\",\"Self_Employed\":\"No\",\"ApplicantIncome\":2166,\"CoapplicantIncome\":2166,\"LoanAmount\":108.0,\"Loan_Amount_Term\":360.0,\"Credit_History\":null,\"Property_Area\":\"Urban\"},{\"Loan_ID\":\"LP002240\",\"Gender\":\"Male\",\"Married\":\"Yes\",\"Dependents\":\"0\",\"Education\":\"Not Graduate\",\"Self_Employed\":\"No\",\"ApplicantIncome\":3500,\"CoapplicantIncome\":2168,\"LoanAmount\":149.0,\"Loan_Amount_Term\":360.0,\"Credit_History\":1.0,\"Property_Area\":\"Rural\"},{\"Loan_ID\":\"LP002245\",\"Gender\":\"Male\",\"Married\":\"Yes\",\"Dependents\":\"2\",\"Education\":\"Not Graduate\",\"Self_Employed\":\"No\",\"ApplicantIncome\":2896,\"CoapplicantIncome\":0,\"LoanAmount\":80.0,\"Loan_Amount_Term\":480.0,\"Credit_History\":1.0,\"Property_Area\":\"Urban\"},{\"Loan_ID\":\"LP002253\",\"Gender\":\"Female\",\"Married\":\"No\",\"Dependents\":\"1\",\"Education\":\"Graduate\",\"Self_Employed\":\"No\",\"ApplicantIncome\":5062,\"CoapplicantIncome\":0,\"LoanAmount\":152.0,\"Loan_Amount_Term\":300.0,\"Credit_History\":1.0,\"Property_Area\":\"Rural\"},{\"Loan_ID\":\"LP002256\",\"Gender\":\"Female\",\"Married\":\"No\",\"Dependents\":\"2\",\"Education\":\"Graduate\",\"Self_Employed\":\"Yes\",\"ApplicantIncome\":5184,\"CoapplicantIncome\":0,\"LoanAmount\":187.0,\"Loan_Amount_Term\":360.0,\"Credit_History\":0.0,\"Property_Area\":\"Semiurban\"},{\"Loan_ID\":\"LP002257\",\"Gender\":\"Female\",\"Married\":\"No\",\"Dependents\":\"0\",\"Education\":\"Graduate\",\"Self_Employed\":\"No\",\"ApplicantIncome\":2545,\"CoapplicantIncome\":0,\"LoanAmount\":74.0,\"Loan_Amount_Term\":360.0,\"Credit_History\":1.0,\"Property_Area\":\"Urban\"},{\"Loan_ID\":\"LP002264\",\"Gender\":\"Male\",\"Married\":\"Yes\",\"Dependents\":\"0\",\"Education\":\"Graduate\",\"Self_Employed\":\"No\",\"ApplicantIncome\":2553,\"CoapplicantIncome\":1768,\"LoanAmount\":102.0,\"Loan_Amount_Term\":360.0,\"Credit_History\":1.0,\"Property_Area\":\"Urban\"},{\"Loan_ID\":\"LP002270\",\"Gender\":\"Male\",\"Married\":\"Yes\",\"Dependents\":\"1\",\"Education\":\"Graduate\",\"Self_Employed\":\"No\",\"ApplicantIncome\":3436,\"CoapplicantIncome\":3809,\"LoanAmount\":100.0,\"Loan_Amount_Term\":360.0,\"Credit_History\":1.0,\"Property_Area\":\"Rural\"},{\"Loan_ID\":\"LP002279\",\"Gender\":\"Male\",\"Married\":\"No\",\"Dependents\":\"0\",\"Education\":\"Graduate\",\"Self_Employed\":\"No\",\"ApplicantIncome\":2412,\"CoapplicantIncome\":2755,\"LoanAmount\":130.0,\"Loan_Amount_Term\":360.0,\"Credit_History\":1.0,\"Property_Area\":\"Rural\"},{\"Loan_ID\":\"LP002286\",\"Gender\":\"Male\",\"Married\":\"Yes\",\"Dependents\":\"3+\",\"Education\":\"Not Graduate\",\"Self_Employed\":\"No\",\"ApplicantIncome\":5180,\"CoapplicantIncome\":0,\"LoanAmount\":125.0,\"Loan_Amount_Term\":360.0,\"Credit_History\":0.0,\"Property_Area\":\"Urban\"},{\"Loan_ID\":\"LP002294\",\"Gender\":\"Male\",\"Married\":\"No\",\"Dependents\":\"0\",\"Education\":\"Graduate\",\"Self_Employed\":\"No\",\"ApplicantIncome\":14911,\"CoapplicantIncome\":14507,\"LoanAmount\":130.0,\"Loan_Amount_Term\":360.0,\"Credit_History\":1.0,\"Property_Area\":\"Semiurban\"},{\"Loan_ID\":\"LP002298\",\"Gender\":null,\"Married\":\"No\",\"Dependents\":\"0\",\"Education\":\"Graduate\",\"Self_Employed\":\"Yes\",\"ApplicantIncome\":2860,\"CoapplicantIncome\":2988,\"LoanAmount\":138.0,\"Loan_Amount_Term\":360.0,\"Credit_History\":1.0,\"Property_Area\":\"Urban\"},{\"Loan_ID\":\"LP002306\",\"Gender\":\"Male\",\"Married\":\"Yes\",\"Dependents\":\"0\",\"Education\":\"Graduate\",\"Self_Employed\":\"No\",\"ApplicantIncome\":1173,\"CoapplicantIncome\":1594,\"LoanAmount\":28.0,\"Loan_Amount_Term\":180.0,\"Credit_History\":1.0,\"Property_Area\":\"Rural\"},{\"Loan_ID\":\"LP002310\",\"Gender\":\"Female\",\"Married\":\"No\",\"Dependents\":\"1\",\"Education\":\"Graduate\",\"Self_Employed\":\"No\",\"ApplicantIncome\":7600,\"CoapplicantIncome\":0,\"LoanAmount\":92.0,\"Loan_Amount_Term\":360.0,\"Credit_History\":1.0,\"Property_Area\":\"Semiurban\"},{\"Loan_ID\":\"LP002311\",\"Gender\":\"Female\",\"Married\":\"Yes\",\"Dependents\":\"0\",\"Education\":\"Graduate\",\"Self_Employed\":\"No\",\"ApplicantIncome\":2157,\"CoapplicantIncome\":1788,\"LoanAmount\":104.0,\"Loan_Amount_Term\":360.0,\"Credit_History\":1.0,\"Property_Area\":\"Urban\"},{\"Loan_ID\":\"LP002316\",\"Gender\":\"Male\",\"Married\":\"No\",\"Dependents\":\"0\",\"Education\":\"Graduate\",\"Self_Employed\":\"No\",\"ApplicantIncome\":2231,\"CoapplicantIncome\":2774,\"LoanAmount\":176.0,\"Loan_Amount_Term\":360.0,\"Credit_History\":0.0,\"Property_Area\":\"Urban\"},{\"Loan_ID\":\"LP002321\",\"Gender\":\"Female\",\"Married\":\"No\",\"Dependents\":\"0\",\"Education\":\"Graduate\",\"Self_Employed\":\"No\",\"ApplicantIncome\":2274,\"CoapplicantIncome\":5211,\"LoanAmount\":117.0,\"Loan_Amount_Term\":360.0,\"Credit_History\":0.0,\"Property_Area\":\"Semiurban\"},{\"Loan_ID\":\"LP002325\",\"Gender\":\"Male\",\"Married\":\"Yes\",\"Dependents\":\"2\",\"Education\":\"Not Graduate\",\"Self_Employed\":\"No\",\"ApplicantIncome\":6166,\"CoapplicantIncome\":13983,\"LoanAmount\":102.0,\"Loan_Amount_Term\":360.0,\"Credit_History\":1.0,\"Property_Area\":\"Rural\"},{\"Loan_ID\":\"LP002326\",\"Gender\":\"Male\",\"Married\":\"Yes\",\"Dependents\":\"2\",\"Education\":\"Not Graduate\",\"Self_Employed\":\"No\",\"ApplicantIncome\":2513,\"CoapplicantIncome\":1110,\"LoanAmount\":107.0,\"Loan_Amount_Term\":360.0,\"Credit_History\":1.0,\"Property_Area\":\"Semiurban\"},{\"Loan_ID\":\"LP002329\",\"Gender\":\"Male\",\"Married\":\"No\",\"Dependents\":\"0\",\"Education\":\"Graduate\",\"Self_Employed\":\"No\",\"ApplicantIncome\":4333,\"CoapplicantIncome\":0,\"LoanAmount\":66.0,\"Loan_Amount_Term\":480.0,\"Credit_History\":1.0,\"Property_Area\":\"Urban\"},{\"Loan_ID\":\"LP002333\",\"Gender\":\"Male\",\"Married\":\"No\",\"Dependents\":\"0\",\"Education\":\"Not Graduate\",\"Self_Employed\":\"No\",\"ApplicantIncome\":3844,\"CoapplicantIncome\":0,\"LoanAmount\":105.0,\"Loan_Amount_Term\":360.0,\"Credit_History\":1.0,\"Property_Area\":\"Urban\"},{\"Loan_ID\":\"LP002339\",\"Gender\":\"Male\",\"Married\":\"Yes\",\"Dependents\":\"0\",\"Education\":\"Graduate\",\"Self_Employed\":\"No\",\"ApplicantIncome\":3887,\"CoapplicantIncome\":1517,\"LoanAmount\":105.0,\"Loan_Amount_Term\":360.0,\"Credit_History\":0.0,\"Property_Area\":\"Semiurban\"},{\"Loan_ID\":\"LP002344\",\"Gender\":\"Male\",\"Married\":\"Yes\",\"Dependents\":\"0\",\"Education\":\"Graduate\",\"Self_Employed\":\"No\",\"ApplicantIncome\":3510,\"CoapplicantIncome\":828,\"LoanAmount\":105.0,\"Loan_Amount_Term\":360.0,\"Credit_History\":1.0,\"Property_Area\":\"Semiurban\"},{\"Loan_ID\":\"LP002346\",\"Gender\":\"Male\",\"Married\":\"Yes\",\"Dependents\":\"0\",\"Education\":\"Graduate\",\"Self_Employed\":null,\"ApplicantIncome\":2539,\"CoapplicantIncome\":1704,\"LoanAmount\":125.0,\"Loan_Amount_Term\":360.0,\"Credit_History\":0.0,\"Property_Area\":\"Rural\"},{\"Loan_ID\":\"LP002354\",\"Gender\":\"Female\",\"Married\":\"No\",\"Dependents\":\"0\",\"Education\":\"Not Graduate\",\"Self_Employed\":\"No\",\"ApplicantIncome\":2107,\"CoapplicantIncome\":0,\"LoanAmount\":64.0,\"Loan_Amount_Term\":360.0,\"Credit_History\":1.0,\"Property_Area\":\"Semiurban\"},{\"Loan_ID\":\"LP002355\",\"Gender\":null,\"Married\":\"Yes\",\"Dependents\":\"0\",\"Education\":\"Graduate\",\"Self_Employed\":\"No\",\"ApplicantIncome\":3186,\"CoapplicantIncome\":3145,\"LoanAmount\":150.0,\"Loan_Amount_Term\":180.0,\"Credit_History\":0.0,\"Property_Area\":\"Semiurban\"},{\"Loan_ID\":\"LP002358\",\"Gender\":\"Male\",\"Married\":\"Yes\",\"Dependents\":\"2\",\"Education\":\"Graduate\",\"Self_Employed\":\"Yes\",\"ApplicantIncome\":5000,\"CoapplicantIncome\":2166,\"LoanAmount\":150.0,\"Loan_Amount_Term\":360.0,\"Credit_History\":1.0,\"Property_Area\":\"Urban\"},{\"Loan_ID\":\"LP002360\",\"Gender\":\"Male\",\"Married\":\"Yes\",\"Dependents\":null,\"Education\":\"Graduate\",\"Self_Employed\":\"No\",\"ApplicantIncome\":10000,\"CoapplicantIncome\":0,\"LoanAmount\":null,\"Loan_Amount_Term\":360.0,\"Credit_History\":1.0,\"Property_Area\":\"Urban\"},{\"Loan_ID\":\"LP002375\",\"Gender\":\"Male\",\"Married\":\"Yes\",\"Dependents\":\"0\",\"Education\":\"Not Graduate\",\"Self_Employed\":\"Yes\",\"ApplicantIncome\":3943,\"CoapplicantIncome\":0,\"LoanAmount\":64.0,\"Loan_Amount_Term\":360.0,\"Credit_History\":1.0,\"Property_Area\":\"Semiurban\"},{\"Loan_ID\":\"LP002376\",\"Gender\":\"Male\",\"Married\":\"No\",\"Dependents\":\"0\",\"Education\":\"Graduate\",\"Self_Employed\":\"No\",\"ApplicantIncome\":2925,\"CoapplicantIncome\":0,\"LoanAmount\":40.0,\"Loan_Amount_Term\":180.0,\"Credit_History\":1.0,\"Property_Area\":\"Rural\"},{\"Loan_ID\":\"LP002383\",\"Gender\":\"Male\",\"Married\":\"Yes\",\"Dependents\":\"3+\",\"Education\":\"Graduate\",\"Self_Employed\":\"No\",\"ApplicantIncome\":3242,\"CoapplicantIncome\":437,\"LoanAmount\":142.0,\"Loan_Amount_Term\":480.0,\"Credit_History\":0.0,\"Property_Area\":\"Urban\"},{\"Loan_ID\":\"LP002385\",\"Gender\":\"Male\",\"Married\":\"Yes\",\"Dependents\":null,\"Education\":\"Graduate\",\"Self_Employed\":\"No\",\"ApplicantIncome\":3863,\"CoapplicantIncome\":0,\"LoanAmount\":70.0,\"Loan_Amount_Term\":300.0,\"Credit_History\":1.0,\"Property_Area\":\"Semiurban\"},{\"Loan_ID\":\"LP002389\",\"Gender\":\"Female\",\"Married\":\"No\",\"Dependents\":\"1\",\"Education\":\"Graduate\",\"Self_Employed\":\"No\",\"ApplicantIncome\":4028,\"CoapplicantIncome\":0,\"LoanAmount\":131.0,\"Loan_Amount_Term\":360.0,\"Credit_History\":1.0,\"Property_Area\":\"Semiurban\"},{\"Loan_ID\":\"LP002394\",\"Gender\":\"Male\",\"Married\":\"Yes\",\"Dependents\":\"2\",\"Education\":\"Graduate\",\"Self_Employed\":\"No\",\"ApplicantIncome\":4010,\"CoapplicantIncome\":1025,\"LoanAmount\":120.0,\"Loan_Amount_Term\":360.0,\"Credit_History\":1.0,\"Property_Area\":\"Urban\"},{\"Loan_ID\":\"LP002397\",\"Gender\":\"Female\",\"Married\":\"Yes\",\"Dependents\":\"1\",\"Education\":\"Graduate\",\"Self_Employed\":\"No\",\"ApplicantIncome\":3719,\"CoapplicantIncome\":1585,\"LoanAmount\":114.0,\"Loan_Amount_Term\":360.0,\"Credit_History\":1.0,\"Property_Area\":\"Urban\"},{\"Loan_ID\":\"LP002399\",\"Gender\":\"Male\",\"Married\":\"No\",\"Dependents\":\"0\",\"Education\":\"Graduate\",\"Self_Employed\":null,\"ApplicantIncome\":2858,\"CoapplicantIncome\":0,\"LoanAmount\":123.0,\"Loan_Amount_Term\":360.0,\"Credit_History\":0.0,\"Property_Area\":\"Rural\"},{\"Loan_ID\":\"LP002400\",\"Gender\":\"Female\",\"Married\":\"Yes\",\"Dependents\":\"0\",\"Education\":\"Graduate\",\"Self_Employed\":\"No\",\"ApplicantIncome\":3833,\"CoapplicantIncome\":0,\"LoanAmount\":92.0,\"Loan_Amount_Term\":360.0,\"Credit_History\":1.0,\"Property_Area\":\"Rural\"},{\"Loan_ID\":\"LP002402\",\"Gender\":\"Male\",\"Married\":\"Yes\",\"Dependents\":\"0\",\"Education\":\"Graduate\",\"Self_Employed\":\"No\",\"ApplicantIncome\":3333,\"CoapplicantIncome\":4288,\"LoanAmount\":160.0,\"Loan_Amount_Term\":360.0,\"Credit_History\":1.0,\"Property_Area\":\"Urban\"},{\"Loan_ID\":\"LP002412\",\"Gender\":\"Male\",\"Married\":\"Yes\",\"Dependents\":\"0\",\"Education\":\"Graduate\",\"Self_Employed\":\"No\",\"ApplicantIncome\":3007,\"CoapplicantIncome\":3725,\"LoanAmount\":151.0,\"Loan_Amount_Term\":360.0,\"Credit_History\":1.0,\"Property_Area\":\"Rural\"},{\"Loan_ID\":\"LP002415\",\"Gender\":\"Female\",\"Married\":\"No\",\"Dependents\":\"1\",\"Education\":\"Graduate\",\"Self_Employed\":null,\"ApplicantIncome\":1850,\"CoapplicantIncome\":4583,\"LoanAmount\":81.0,\"Loan_Amount_Term\":360.0,\"Credit_History\":null,\"Property_Area\":\"Rural\"},{\"Loan_ID\":\"LP002417\",\"Gender\":\"Male\",\"Married\":\"Yes\",\"Dependents\":\"3+\",\"Education\":\"Not Graduate\",\"Self_Employed\":\"No\",\"ApplicantIncome\":2792,\"CoapplicantIncome\":2619,\"LoanAmount\":171.0,\"Loan_Amount_Term\":360.0,\"Credit_History\":1.0,\"Property_Area\":\"Semiurban\"},{\"Loan_ID\":\"LP002420\",\"Gender\":\"Male\",\"Married\":\"Yes\",\"Dependents\":\"0\",\"Education\":\"Graduate\",\"Self_Employed\":\"No\",\"ApplicantIncome\":2982,\"CoapplicantIncome\":1550,\"LoanAmount\":110.0,\"Loan_Amount_Term\":360.0,\"Credit_History\":1.0,\"Property_Area\":\"Semiurban\"},{\"Loan_ID\":\"LP002425\",\"Gender\":\"Male\",\"Married\":\"No\",\"Dependents\":\"0\",\"Education\":\"Graduate\",\"Self_Employed\":\"No\",\"ApplicantIncome\":3417,\"CoapplicantIncome\":738,\"LoanAmount\":100.0,\"Loan_Amount_Term\":360.0,\"Credit_History\":null,\"Property_Area\":\"Rural\"},{\"Loan_ID\":\"LP002433\",\"Gender\":\"Male\",\"Married\":\"Yes\",\"Dependents\":\"1\",\"Education\":\"Graduate\",\"Self_Employed\":\"No\",\"ApplicantIncome\":18840,\"CoapplicantIncome\":0,\"LoanAmount\":234.0,\"Loan_Amount_Term\":360.0,\"Credit_History\":1.0,\"Property_Area\":\"Rural\"},{\"Loan_ID\":\"LP002440\",\"Gender\":\"Male\",\"Married\":\"Yes\",\"Dependents\":\"2\",\"Education\":\"Graduate\",\"Self_Employed\":\"No\",\"ApplicantIncome\":2995,\"CoapplicantIncome\":1120,\"LoanAmount\":184.0,\"Loan_Amount_Term\":360.0,\"Credit_History\":1.0,\"Property_Area\":\"Rural\"},{\"Loan_ID\":\"LP002441\",\"Gender\":\"Male\",\"Married\":\"No\",\"Dependents\":null,\"Education\":\"Graduate\",\"Self_Employed\":\"No\",\"ApplicantIncome\":3579,\"CoapplicantIncome\":3308,\"LoanAmount\":138.0,\"Loan_Amount_Term\":360.0,\"Credit_History\":null,\"Property_Area\":\"Semiurban\"},{\"Loan_ID\":\"LP002442\",\"Gender\":\"Female\",\"Married\":\"Yes\",\"Dependents\":\"1\",\"Education\":\"Not Graduate\",\"Self_Employed\":\"No\",\"ApplicantIncome\":3835,\"CoapplicantIncome\":1400,\"LoanAmount\":112.0,\"Loan_Amount_Term\":480.0,\"Credit_History\":0.0,\"Property_Area\":\"Urban\"},{\"Loan_ID\":\"LP002445\",\"Gender\":\"Female\",\"Married\":\"No\",\"Dependents\":\"1\",\"Education\":\"Not Graduate\",\"Self_Employed\":\"No\",\"ApplicantIncome\":3854,\"CoapplicantIncome\":3575,\"LoanAmount\":117.0,\"Loan_Amount_Term\":360.0,\"Credit_History\":1.0,\"Property_Area\":\"Rural\"},{\"Loan_ID\":\"LP002450\",\"Gender\":\"Male\",\"Married\":\"Yes\",\"Dependents\":\"2\",\"Education\":\"Graduate\",\"Self_Employed\":\"No\",\"ApplicantIncome\":5833,\"CoapplicantIncome\":750,\"LoanAmount\":49.0,\"Loan_Amount_Term\":360.0,\"Credit_History\":0.0,\"Property_Area\":\"Rural\"},{\"Loan_ID\":\"LP002471\",\"Gender\":\"Male\",\"Married\":\"No\",\"Dependents\":\"0\",\"Education\":\"Graduate\",\"Self_Employed\":\"No\",\"ApplicantIncome\":3508,\"CoapplicantIncome\":0,\"LoanAmount\":99.0,\"Loan_Amount_Term\":360.0,\"Credit_History\":1.0,\"Property_Area\":\"Rural\"},{\"Loan_ID\":\"LP002476\",\"Gender\":\"Female\",\"Married\":\"Yes\",\"Dependents\":\"3+\",\"Education\":\"Not Graduate\",\"Self_Employed\":\"No\",\"ApplicantIncome\":1635,\"CoapplicantIncome\":2444,\"LoanAmount\":99.0,\"Loan_Amount_Term\":360.0,\"Credit_History\":1.0,\"Property_Area\":\"Urban\"},{\"Loan_ID\":\"LP002482\",\"Gender\":\"Female\",\"Married\":\"No\",\"Dependents\":\"0\",\"Education\":\"Graduate\",\"Self_Employed\":\"Yes\",\"ApplicantIncome\":3333,\"CoapplicantIncome\":3916,\"LoanAmount\":212.0,\"Loan_Amount_Term\":360.0,\"Credit_History\":1.0,\"Property_Area\":\"Rural\"},{\"Loan_ID\":\"LP002485\",\"Gender\":\"Male\",\"Married\":\"No\",\"Dependents\":\"1\",\"Education\":\"Graduate\",\"Self_Employed\":\"No\",\"ApplicantIncome\":24797,\"CoapplicantIncome\":0,\"LoanAmount\":240.0,\"Loan_Amount_Term\":360.0,\"Credit_History\":1.0,\"Property_Area\":\"Semiurban\"},{\"Loan_ID\":\"LP002495\",\"Gender\":\"Male\",\"Married\":\"Yes\",\"Dependents\":\"2\",\"Education\":\"Graduate\",\"Self_Employed\":\"No\",\"ApplicantIncome\":5667,\"CoapplicantIncome\":440,\"LoanAmount\":130.0,\"Loan_Amount_Term\":360.0,\"Credit_History\":0.0,\"Property_Area\":\"Semiurban\"},{\"Loan_ID\":\"LP002496\",\"Gender\":\"Female\",\"Married\":\"No\",\"Dependents\":\"0\",\"Education\":\"Graduate\",\"Self_Employed\":\"No\",\"ApplicantIncome\":3500,\"CoapplicantIncome\":0,\"LoanAmount\":94.0,\"Loan_Amount_Term\":360.0,\"Credit_History\":0.0,\"Property_Area\":\"Semiurban\"},{\"Loan_ID\":\"LP002523\",\"Gender\":\"Male\",\"Married\":\"Yes\",\"Dependents\":\"3+\",\"Education\":\"Graduate\",\"Self_Employed\":\"No\",\"ApplicantIncome\":2773,\"CoapplicantIncome\":1497,\"LoanAmount\":108.0,\"Loan_Amount_Term\":360.0,\"Credit_History\":1.0,\"Property_Area\":\"Semiurban\"},{\"Loan_ID\":\"LP002542\",\"Gender\":\"Male\",\"Married\":\"Yes\",\"Dependents\":\"0\",\"Education\":\"Graduate\",\"Self_Employed\":null,\"ApplicantIncome\":6500,\"CoapplicantIncome\":0,\"LoanAmount\":144.0,\"Loan_Amount_Term\":360.0,\"Credit_History\":1.0,\"Property_Area\":\"Urban\"},{\"Loan_ID\":\"LP002550\",\"Gender\":\"Female\",\"Married\":\"No\",\"Dependents\":\"0\",\"Education\":\"Graduate\",\"Self_Employed\":\"No\",\"ApplicantIncome\":5769,\"CoapplicantIncome\":0,\"LoanAmount\":110.0,\"Loan_Amount_Term\":180.0,\"Credit_History\":1.0,\"Property_Area\":\"Semiurban\"},{\"Loan_ID\":\"LP002551\",\"Gender\":\"Male\",\"Married\":\"Yes\",\"Dependents\":\"3+\",\"Education\":\"Not Graduate\",\"Self_Employed\":null,\"ApplicantIncome\":3634,\"CoapplicantIncome\":910,\"LoanAmount\":176.0,\"Loan_Amount_Term\":360.0,\"Credit_History\":0.0,\"Property_Area\":\"Semiurban\"},{\"Loan_ID\":\"LP002553\",\"Gender\":null,\"Married\":\"No\",\"Dependents\":\"0\",\"Education\":\"Graduate\",\"Self_Employed\":\"No\",\"ApplicantIncome\":29167,\"CoapplicantIncome\":0,\"LoanAmount\":185.0,\"Loan_Amount_Term\":360.0,\"Credit_History\":1.0,\"Property_Area\":\"Semiurban\"},{\"Loan_ID\":\"LP002554\",\"Gender\":\"Male\",\"Married\":\"No\",\"Dependents\":\"0\",\"Education\":\"Graduate\",\"Self_Employed\":\"No\",\"ApplicantIncome\":2166,\"CoapplicantIncome\":2057,\"LoanAmount\":122.0,\"Loan_Amount_Term\":360.0,\"Credit_History\":1.0,\"Property_Area\":\"Semiurban\"},{\"Loan_ID\":\"LP002561\",\"Gender\":\"Male\",\"Married\":\"Yes\",\"Dependents\":\"0\",\"Education\":\"Graduate\",\"Self_Employed\":\"No\",\"ApplicantIncome\":5000,\"CoapplicantIncome\":0,\"LoanAmount\":126.0,\"Loan_Amount_Term\":360.0,\"Credit_History\":1.0,\"Property_Area\":\"Rural\"},{\"Loan_ID\":\"LP002566\",\"Gender\":\"Female\",\"Married\":\"No\",\"Dependents\":\"0\",\"Education\":\"Graduate\",\"Self_Employed\":\"No\",\"ApplicantIncome\":5530,\"CoapplicantIncome\":0,\"LoanAmount\":135.0,\"Loan_Amount_Term\":360.0,\"Credit_History\":null,\"Property_Area\":\"Urban\"},{\"Loan_ID\":\"LP002568\",\"Gender\":\"Male\",\"Married\":\"No\",\"Dependents\":\"0\",\"Education\":\"Not Graduate\",\"Self_Employed\":\"No\",\"ApplicantIncome\":9000,\"CoapplicantIncome\":0,\"LoanAmount\":122.0,\"Loan_Amount_Term\":360.0,\"Credit_History\":1.0,\"Property_Area\":\"Rural\"},{\"Loan_ID\":\"LP002570\",\"Gender\":\"Female\",\"Married\":\"Yes\",\"Dependents\":\"2\",\"Education\":\"Graduate\",\"Self_Employed\":\"No\",\"ApplicantIncome\":10000,\"CoapplicantIncome\":11666,\"LoanAmount\":460.0,\"Loan_Amount_Term\":360.0,\"Credit_History\":1.0,\"Property_Area\":\"Urban\"},{\"Loan_ID\":\"LP002572\",\"Gender\":\"Male\",\"Married\":\"Yes\",\"Dependents\":\"1\",\"Education\":\"Graduate\",\"Self_Employed\":null,\"ApplicantIncome\":8750,\"CoapplicantIncome\":0,\"LoanAmount\":297.0,\"Loan_Amount_Term\":360.0,\"Credit_History\":1.0,\"Property_Area\":\"Urban\"},{\"Loan_ID\":\"LP002581\",\"Gender\":\"Male\",\"Married\":\"Yes\",\"Dependents\":\"0\",\"Education\":\"Not Graduate\",\"Self_Employed\":\"No\",\"ApplicantIncome\":2157,\"CoapplicantIncome\":2730,\"LoanAmount\":140.0,\"Loan_Amount_Term\":360.0,\"Credit_History\":null,\"Property_Area\":\"Rural\"},{\"Loan_ID\":\"LP002584\",\"Gender\":\"Male\",\"Married\":\"No\",\"Dependents\":\"0\",\"Education\":\"Graduate\",\"Self_Employed\":null,\"ApplicantIncome\":1972,\"CoapplicantIncome\":4347,\"LoanAmount\":106.0,\"Loan_Amount_Term\":360.0,\"Credit_History\":1.0,\"Property_Area\":\"Rural\"},{\"Loan_ID\":\"LP002592\",\"Gender\":\"Male\",\"Married\":\"No\",\"Dependents\":\"0\",\"Education\":\"Graduate\",\"Self_Employed\":\"No\",\"ApplicantIncome\":4983,\"CoapplicantIncome\":0,\"LoanAmount\":141.0,\"Loan_Amount_Term\":360.0,\"Credit_History\":1.0,\"Property_Area\":\"Urban\"},{\"Loan_ID\":\"LP002593\",\"Gender\":\"Male\",\"Married\":\"Yes\",\"Dependents\":\"1\",\"Education\":\"Graduate\",\"Self_Employed\":\"No\",\"ApplicantIncome\":8333,\"CoapplicantIncome\":4000,\"LoanAmount\":null,\"Loan_Amount_Term\":360.0,\"Credit_History\":1.0,\"Property_Area\":\"Urban\"},{\"Loan_ID\":\"LP002599\",\"Gender\":\"Male\",\"Married\":\"Yes\",\"Dependents\":\"0\",\"Education\":\"Graduate\",\"Self_Employed\":\"No\",\"ApplicantIncome\":3667,\"CoapplicantIncome\":2000,\"LoanAmount\":170.0,\"Loan_Amount_Term\":360.0,\"Credit_History\":1.0,\"Property_Area\":\"Semiurban\"},{\"Loan_ID\":\"LP002604\",\"Gender\":\"Male\",\"Married\":\"Yes\",\"Dependents\":\"2\",\"Education\":\"Graduate\",\"Self_Employed\":\"No\",\"ApplicantIncome\":3166,\"CoapplicantIncome\":2833,\"LoanAmount\":145.0,\"Loan_Amount_Term\":360.0,\"Credit_History\":1.0,\"Property_Area\":\"Urban\"},{\"Loan_ID\":\"LP002605\",\"Gender\":\"Male\",\"Married\":\"No\",\"Dependents\":\"0\",\"Education\":\"Not Graduate\",\"Self_Employed\":\"No\",\"ApplicantIncome\":3271,\"CoapplicantIncome\":0,\"LoanAmount\":90.0,\"Loan_Amount_Term\":360.0,\"Credit_History\":1.0,\"Property_Area\":\"Rural\"},{\"Loan_ID\":\"LP002609\",\"Gender\":\"Female\",\"Married\":\"Yes\",\"Dependents\":\"0\",\"Education\":\"Graduate\",\"Self_Employed\":\"No\",\"ApplicantIncome\":2241,\"CoapplicantIncome\":2000,\"LoanAmount\":88.0,\"Loan_Amount_Term\":360.0,\"Credit_History\":0.0,\"Property_Area\":\"Urban\"},{\"Loan_ID\":\"LP002610\",\"Gender\":\"Male\",\"Married\":\"Yes\",\"Dependents\":\"1\",\"Education\":\"Not Graduate\",\"Self_Employed\":null,\"ApplicantIncome\":1792,\"CoapplicantIncome\":2565,\"LoanAmount\":128.0,\"Loan_Amount_Term\":360.0,\"Credit_History\":1.0,\"Property_Area\":\"Urban\"},{\"Loan_ID\":\"LP002612\",\"Gender\":\"Female\",\"Married\":\"Yes\",\"Dependents\":\"0\",\"Education\":\"Graduate\",\"Self_Employed\":\"No\",\"ApplicantIncome\":2666,\"CoapplicantIncome\":0,\"LoanAmount\":84.0,\"Loan_Amount_Term\":480.0,\"Credit_History\":1.0,\"Property_Area\":\"Semiurban\"},{\"Loan_ID\":\"LP002614\",\"Gender\":null,\"Married\":\"No\",\"Dependents\":\"0\",\"Education\":\"Graduate\",\"Self_Employed\":\"No\",\"ApplicantIncome\":6478,\"CoapplicantIncome\":0,\"LoanAmount\":108.0,\"Loan_Amount_Term\":360.0,\"Credit_History\":1.0,\"Property_Area\":\"Semiurban\"},{\"Loan_ID\":\"LP002630\",\"Gender\":\"Male\",\"Married\":\"No\",\"Dependents\":\"0\",\"Education\":\"Not Graduate\",\"Self_Employed\":null,\"ApplicantIncome\":3808,\"CoapplicantIncome\":0,\"LoanAmount\":83.0,\"Loan_Amount_Term\":360.0,\"Credit_History\":1.0,\"Property_Area\":\"Rural\"},{\"Loan_ID\":\"LP002635\",\"Gender\":\"Female\",\"Married\":\"Yes\",\"Dependents\":\"2\",\"Education\":\"Not Graduate\",\"Self_Employed\":\"No\",\"ApplicantIncome\":3729,\"CoapplicantIncome\":0,\"LoanAmount\":117.0,\"Loan_Amount_Term\":360.0,\"Credit_History\":1.0,\"Property_Area\":\"Semiurban\"},{\"Loan_ID\":\"LP002639\",\"Gender\":\"Male\",\"Married\":\"Yes\",\"Dependents\":\"2\",\"Education\":\"Graduate\",\"Self_Employed\":\"No\",\"ApplicantIncome\":4120,\"CoapplicantIncome\":0,\"LoanAmount\":128.0,\"Loan_Amount_Term\":360.0,\"Credit_History\":1.0,\"Property_Area\":\"Rural\"},{\"Loan_ID\":\"LP002644\",\"Gender\":\"Male\",\"Married\":\"Yes\",\"Dependents\":\"1\",\"Education\":\"Graduate\",\"Self_Employed\":\"Yes\",\"ApplicantIncome\":7500,\"CoapplicantIncome\":0,\"LoanAmount\":75.0,\"Loan_Amount_Term\":360.0,\"Credit_History\":1.0,\"Property_Area\":\"Urban\"},{\"Loan_ID\":\"LP002651\",\"Gender\":\"Male\",\"Married\":\"Yes\",\"Dependents\":\"1\",\"Education\":\"Graduate\",\"Self_Employed\":null,\"ApplicantIncome\":6300,\"CoapplicantIncome\":0,\"LoanAmount\":125.0,\"Loan_Amount_Term\":360.0,\"Credit_History\":0.0,\"Property_Area\":\"Urban\"},{\"Loan_ID\":\"LP002654\",\"Gender\":\"Female\",\"Married\":\"No\",\"Dependents\":null,\"Education\":\"Graduate\",\"Self_Employed\":\"Yes\",\"ApplicantIncome\":14987,\"CoapplicantIncome\":0,\"LoanAmount\":177.0,\"Loan_Amount_Term\":360.0,\"Credit_History\":1.0,\"Property_Area\":\"Rural\"},{\"Loan_ID\":\"LP002657\",\"Gender\":null,\"Married\":\"Yes\",\"Dependents\":\"1\",\"Education\":\"Not Graduate\",\"Self_Employed\":\"Yes\",\"ApplicantIncome\":570,\"CoapplicantIncome\":2125,\"LoanAmount\":68.0,\"Loan_Amount_Term\":360.0,\"Credit_History\":1.0,\"Property_Area\":\"Rural\"},{\"Loan_ID\":\"LP002711\",\"Gender\":\"Male\",\"Married\":\"Yes\",\"Dependents\":\"0\",\"Education\":\"Graduate\",\"Self_Employed\":\"No\",\"ApplicantIncome\":2600,\"CoapplicantIncome\":700,\"LoanAmount\":96.0,\"Loan_Amount_Term\":360.0,\"Credit_History\":1.0,\"Property_Area\":\"Semiurban\"},{\"Loan_ID\":\"LP002712\",\"Gender\":\"Male\",\"Married\":\"No\",\"Dependents\":\"2\",\"Education\":\"Not Graduate\",\"Self_Employed\":\"No\",\"ApplicantIncome\":2733,\"CoapplicantIncome\":1083,\"LoanAmount\":180.0,\"Loan_Amount_Term\":360.0,\"Credit_History\":null,\"Property_Area\":\"Semiurban\"},{\"Loan_ID\":\"LP002721\",\"Gender\":\"Male\",\"Married\":\"Yes\",\"Dependents\":\"2\",\"Education\":\"Graduate\",\"Self_Employed\":\"Yes\",\"ApplicantIncome\":7500,\"CoapplicantIncome\":0,\"LoanAmount\":183.0,\"Loan_Amount_Term\":360.0,\"Credit_History\":1.0,\"Property_Area\":\"Rural\"},{\"Loan_ID\":\"LP002735\",\"Gender\":\"Male\",\"Married\":\"Yes\",\"Dependents\":\"2\",\"Education\":\"Not Graduate\",\"Self_Employed\":\"No\",\"ApplicantIncome\":3859,\"CoapplicantIncome\":0,\"LoanAmount\":121.0,\"Loan_Amount_Term\":360.0,\"Credit_History\":1.0,\"Property_Area\":\"Rural\"},{\"Loan_ID\":\"LP002744\",\"Gender\":\"Male\",\"Married\":\"Yes\",\"Dependents\":\"1\",\"Education\":\"Graduate\",\"Self_Employed\":\"No\",\"ApplicantIncome\":6825,\"CoapplicantIncome\":0,\"LoanAmount\":162.0,\"Loan_Amount_Term\":360.0,\"Credit_History\":1.0,\"Property_Area\":\"Rural\"},{\"Loan_ID\":\"LP002745\",\"Gender\":\"Male\",\"Married\":\"Yes\",\"Dependents\":\"0\",\"Education\":\"Graduate\",\"Self_Employed\":\"No\",\"ApplicantIncome\":3708,\"CoapplicantIncome\":4700,\"LoanAmount\":132.0,\"Loan_Amount_Term\":360.0,\"Credit_History\":1.0,\"Property_Area\":\"Semiurban\"},{\"Loan_ID\":\"LP002746\",\"Gender\":\"Male\",\"Married\":\"No\",\"Dependents\":\"0\",\"Education\":\"Graduate\",\"Self_Employed\":\"No\",\"ApplicantIncome\":5314,\"CoapplicantIncome\":0,\"LoanAmount\":147.0,\"Loan_Amount_Term\":360.0,\"Credit_History\":1.0,\"Property_Area\":\"Urban\"},{\"Loan_ID\":\"LP002747\",\"Gender\":\"Female\",\"Married\":\"No\",\"Dependents\":\"3+\",\"Education\":\"Graduate\",\"Self_Employed\":\"No\",\"ApplicantIncome\":2366,\"CoapplicantIncome\":5272,\"LoanAmount\":153.0,\"Loan_Amount_Term\":360.0,\"Credit_History\":0.0,\"Property_Area\":\"Rural\"},{\"Loan_ID\":\"LP002754\",\"Gender\":\"Male\",\"Married\":\"No\",\"Dependents\":null,\"Education\":\"Graduate\",\"Self_Employed\":\"No\",\"ApplicantIncome\":2066,\"CoapplicantIncome\":2108,\"LoanAmount\":104.0,\"Loan_Amount_Term\":84.0,\"Credit_History\":1.0,\"Property_Area\":\"Urban\"},{\"Loan_ID\":\"LP002759\",\"Gender\":\"Male\",\"Married\":\"Yes\",\"Dependents\":\"2\",\"Education\":\"Graduate\",\"Self_Employed\":\"No\",\"ApplicantIncome\":5000,\"CoapplicantIncome\":0,\"LoanAmount\":149.0,\"Loan_Amount_Term\":360.0,\"Credit_History\":1.0,\"Property_Area\":\"Rural\"},{\"Loan_ID\":\"LP002760\",\"Gender\":\"Female\",\"Married\":\"No\",\"Dependents\":\"0\",\"Education\":\"Graduate\",\"Self_Employed\":\"No\",\"ApplicantIncome\":3767,\"CoapplicantIncome\":0,\"LoanAmount\":134.0,\"Loan_Amount_Term\":300.0,\"Credit_History\":1.0,\"Property_Area\":\"Urban\"},{\"Loan_ID\":\"LP002766\",\"Gender\":\"Female\",\"Married\":\"Yes\",\"Dependents\":\"0\",\"Education\":\"Graduate\",\"Self_Employed\":\"No\",\"ApplicantIncome\":7859,\"CoapplicantIncome\":879,\"LoanAmount\":165.0,\"Loan_Amount_Term\":180.0,\"Credit_History\":1.0,\"Property_Area\":\"Semiurban\"},{\"Loan_ID\":\"LP002769\",\"Gender\":\"Female\",\"Married\":\"Yes\",\"Dependents\":\"0\",\"Education\":\"Graduate\",\"Self_Employed\":\"No\",\"ApplicantIncome\":4283,\"CoapplicantIncome\":0,\"LoanAmount\":120.0,\"Loan_Amount_Term\":360.0,\"Credit_History\":1.0,\"Property_Area\":\"Rural\"},{\"Loan_ID\":\"LP002774\",\"Gender\":\"Male\",\"Married\":\"Yes\",\"Dependents\":\"0\",\"Education\":\"Not Graduate\",\"Self_Employed\":\"No\",\"ApplicantIncome\":1700,\"CoapplicantIncome\":2900,\"LoanAmount\":67.0,\"Loan_Amount_Term\":360.0,\"Credit_History\":0.0,\"Property_Area\":\"Urban\"},{\"Loan_ID\":\"LP002775\",\"Gender\":null,\"Married\":\"No\",\"Dependents\":\"0\",\"Education\":\"Not Graduate\",\"Self_Employed\":\"No\",\"ApplicantIncome\":4768,\"CoapplicantIncome\":0,\"LoanAmount\":125.0,\"Loan_Amount_Term\":360.0,\"Credit_History\":1.0,\"Property_Area\":\"Rural\"},{\"Loan_ID\":\"LP002781\",\"Gender\":\"Male\",\"Married\":\"No\",\"Dependents\":\"0\",\"Education\":\"Graduate\",\"Self_Employed\":\"No\",\"ApplicantIncome\":3083,\"CoapplicantIncome\":2738,\"LoanAmount\":120.0,\"Loan_Amount_Term\":360.0,\"Credit_History\":1.0,\"Property_Area\":\"Urban\"},{\"Loan_ID\":\"LP002782\",\"Gender\":\"Male\",\"Married\":\"Yes\",\"Dependents\":\"1\",\"Education\":\"Graduate\",\"Self_Employed\":\"No\",\"ApplicantIncome\":2667,\"CoapplicantIncome\":1542,\"LoanAmount\":148.0,\"Loan_Amount_Term\":360.0,\"Credit_History\":1.0,\"Property_Area\":\"Rural\"},{\"Loan_ID\":\"LP002786\",\"Gender\":\"Female\",\"Married\":\"Yes\",\"Dependents\":\"0\",\"Education\":\"Not Graduate\",\"Self_Employed\":\"No\",\"ApplicantIncome\":1647,\"CoapplicantIncome\":1762,\"LoanAmount\":181.0,\"Loan_Amount_Term\":360.0,\"Credit_History\":1.0,\"Property_Area\":\"Urban\"},{\"Loan_ID\":\"LP002790\",\"Gender\":\"Male\",\"Married\":\"Yes\",\"Dependents\":\"3+\",\"Education\":\"Graduate\",\"Self_Employed\":\"No\",\"ApplicantIncome\":3400,\"CoapplicantIncome\":0,\"LoanAmount\":80.0,\"Loan_Amount_Term\":120.0,\"Credit_History\":1.0,\"Property_Area\":\"Urban\"},{\"Loan_ID\":\"LP002791\",\"Gender\":\"Male\",\"Married\":\"No\",\"Dependents\":\"1\",\"Education\":\"Graduate\",\"Self_Employed\":null,\"ApplicantIncome\":16000,\"CoapplicantIncome\":5000,\"LoanAmount\":40.0,\"Loan_Amount_Term\":360.0,\"Credit_History\":1.0,\"Property_Area\":\"Semiurban\"},{\"Loan_ID\":\"LP002793\",\"Gender\":\"Male\",\"Married\":\"Yes\",\"Dependents\":\"0\",\"Education\":\"Graduate\",\"Self_Employed\":\"No\",\"ApplicantIncome\":5333,\"CoapplicantIncome\":0,\"LoanAmount\":90.0,\"Loan_Amount_Term\":360.0,\"Credit_History\":1.0,\"Property_Area\":\"Rural\"},{\"Loan_ID\":\"LP002802\",\"Gender\":\"Male\",\"Married\":\"No\",\"Dependents\":\"0\",\"Education\":\"Graduate\",\"Self_Employed\":\"No\",\"ApplicantIncome\":2875,\"CoapplicantIncome\":2416,\"LoanAmount\":95.0,\"Loan_Amount_Term\":6.0,\"Credit_History\":0.0,\"Property_Area\":\"Semiurban\"},{\"Loan_ID\":\"LP002803\",\"Gender\":\"Male\",\"Married\":\"Yes\",\"Dependents\":\"1\",\"Education\":\"Not Graduate\",\"Self_Employed\":null,\"ApplicantIncome\":2600,\"CoapplicantIncome\":618,\"LoanAmount\":122.0,\"Loan_Amount_Term\":360.0,\"Credit_History\":1.0,\"Property_Area\":\"Semiurban\"},{\"Loan_ID\":\"LP002805\",\"Gender\":\"Male\",\"Married\":\"Yes\",\"Dependents\":\"2\",\"Education\":\"Graduate\",\"Self_Employed\":\"No\",\"ApplicantIncome\":5041,\"CoapplicantIncome\":700,\"LoanAmount\":150.0,\"Loan_Amount_Term\":360.0,\"Credit_History\":1.0,\"Property_Area\":\"Urban\"},{\"Loan_ID\":\"LP002806\",\"Gender\":\"Male\",\"Married\":\"Yes\",\"Dependents\":\"3+\",\"Education\":\"Graduate\",\"Self_Employed\":\"Yes\",\"ApplicantIncome\":6958,\"CoapplicantIncome\":1411,\"LoanAmount\":150.0,\"Loan_Amount_Term\":360.0,\"Credit_History\":1.0,\"Property_Area\":\"Rural\"},{\"Loan_ID\":\"LP002816\",\"Gender\":\"Male\",\"Married\":\"Yes\",\"Dependents\":\"1\",\"Education\":\"Graduate\",\"Self_Employed\":\"No\",\"ApplicantIncome\":3500,\"CoapplicantIncome\":1658,\"LoanAmount\":104.0,\"Loan_Amount_Term\":360.0,\"Credit_History\":null,\"Property_Area\":\"Semiurban\"},{\"Loan_ID\":\"LP002823\",\"Gender\":\"Male\",\"Married\":\"Yes\",\"Dependents\":\"0\",\"Education\":\"Graduate\",\"Self_Employed\":\"No\",\"ApplicantIncome\":5509,\"CoapplicantIncome\":0,\"LoanAmount\":143.0,\"Loan_Amount_Term\":360.0,\"Credit_History\":1.0,\"Property_Area\":\"Rural\"},{\"Loan_ID\":\"LP002825\",\"Gender\":\"Male\",\"Married\":\"Yes\",\"Dependents\":\"3+\",\"Education\":\"Graduate\",\"Self_Employed\":\"No\",\"ApplicantIncome\":9699,\"CoapplicantIncome\":0,\"LoanAmount\":300.0,\"Loan_Amount_Term\":360.0,\"Credit_History\":1.0,\"Property_Area\":\"Urban\"},{\"Loan_ID\":\"LP002826\",\"Gender\":\"Female\",\"Married\":\"Yes\",\"Dependents\":\"1\",\"Education\":\"Not Graduate\",\"Self_Employed\":\"No\",\"ApplicantIncome\":3621,\"CoapplicantIncome\":2717,\"LoanAmount\":171.0,\"Loan_Amount_Term\":360.0,\"Credit_History\":1.0,\"Property_Area\":\"Urban\"},{\"Loan_ID\":\"LP002843\",\"Gender\":\"Female\",\"Married\":\"Yes\",\"Dependents\":\"0\",\"Education\":\"Graduate\",\"Self_Employed\":\"No\",\"ApplicantIncome\":4709,\"CoapplicantIncome\":0,\"LoanAmount\":113.0,\"Loan_Amount_Term\":360.0,\"Credit_History\":1.0,\"Property_Area\":\"Semiurban\"},{\"Loan_ID\":\"LP002849\",\"Gender\":\"Male\",\"Married\":\"Yes\",\"Dependents\":\"0\",\"Education\":\"Graduate\",\"Self_Employed\":\"No\",\"ApplicantIncome\":1516,\"CoapplicantIncome\":1951,\"LoanAmount\":35.0,\"Loan_Amount_Term\":360.0,\"Credit_History\":1.0,\"Property_Area\":\"Semiurban\"},{\"Loan_ID\":\"LP002850\",\"Gender\":\"Male\",\"Married\":\"No\",\"Dependents\":\"2\",\"Education\":\"Graduate\",\"Self_Employed\":\"No\",\"ApplicantIncome\":2400,\"CoapplicantIncome\":0,\"LoanAmount\":46.0,\"Loan_Amount_Term\":360.0,\"Credit_History\":1.0,\"Property_Area\":\"Urban\"},{\"Loan_ID\":\"LP002853\",\"Gender\":\"Female\",\"Married\":\"No\",\"Dependents\":\"0\",\"Education\":\"Not Graduate\",\"Self_Employed\":\"No\",\"ApplicantIncome\":3015,\"CoapplicantIncome\":2000,\"LoanAmount\":145.0,\"Loan_Amount_Term\":360.0,\"Credit_History\":null,\"Property_Area\":\"Urban\"},{\"Loan_ID\":\"LP002856\",\"Gender\":\"Male\",\"Married\":\"Yes\",\"Dependents\":\"0\",\"Education\":\"Graduate\",\"Self_Employed\":\"No\",\"ApplicantIncome\":2292,\"CoapplicantIncome\":1558,\"LoanAmount\":119.0,\"Loan_Amount_Term\":360.0,\"Credit_History\":1.0,\"Property_Area\":\"Urban\"},{\"Loan_ID\":\"LP002857\",\"Gender\":\"Male\",\"Married\":\"Yes\",\"Dependents\":\"1\",\"Education\":\"Graduate\",\"Self_Employed\":\"Yes\",\"ApplicantIncome\":2360,\"CoapplicantIncome\":3355,\"LoanAmount\":87.0,\"Loan_Amount_Term\":240.0,\"Credit_History\":1.0,\"Property_Area\":\"Rural\"},{\"Loan_ID\":\"LP002858\",\"Gender\":\"Female\",\"Married\":\"No\",\"Dependents\":\"0\",\"Education\":\"Graduate\",\"Self_Employed\":\"No\",\"ApplicantIncome\":4333,\"CoapplicantIncome\":2333,\"LoanAmount\":162.0,\"Loan_Amount_Term\":360.0,\"Credit_History\":0.0,\"Property_Area\":\"Rural\"},{\"Loan_ID\":\"LP002860\",\"Gender\":\"Male\",\"Married\":\"Yes\",\"Dependents\":\"0\",\"Education\":\"Graduate\",\"Self_Employed\":\"Yes\",\"ApplicantIncome\":2623,\"CoapplicantIncome\":4831,\"LoanAmount\":122.0,\"Loan_Amount_Term\":180.0,\"Credit_History\":1.0,\"Property_Area\":\"Semiurban\"},{\"Loan_ID\":\"LP002867\",\"Gender\":\"Male\",\"Married\":\"No\",\"Dependents\":\"0\",\"Education\":\"Graduate\",\"Self_Employed\":\"Yes\",\"ApplicantIncome\":3972,\"CoapplicantIncome\":4275,\"LoanAmount\":187.0,\"Loan_Amount_Term\":360.0,\"Credit_History\":1.0,\"Property_Area\":\"Rural\"},{\"Loan_ID\":\"LP002869\",\"Gender\":\"Male\",\"Married\":\"Yes\",\"Dependents\":\"3+\",\"Education\":\"Not Graduate\",\"Self_Employed\":\"No\",\"ApplicantIncome\":3522,\"CoapplicantIncome\":0,\"LoanAmount\":81.0,\"Loan_Amount_Term\":180.0,\"Credit_History\":1.0,\"Property_Area\":\"Rural\"},{\"Loan_ID\":\"LP002870\",\"Gender\":\"Male\",\"Married\":\"Yes\",\"Dependents\":\"1\",\"Education\":\"Graduate\",\"Self_Employed\":\"No\",\"ApplicantIncome\":4700,\"CoapplicantIncome\":0,\"LoanAmount\":80.0,\"Loan_Amount_Term\":360.0,\"Credit_History\":1.0,\"Property_Area\":\"Urban\"},{\"Loan_ID\":\"LP002876\",\"Gender\":\"Male\",\"Married\":\"No\",\"Dependents\":\"0\",\"Education\":\"Graduate\",\"Self_Employed\":\"No\",\"ApplicantIncome\":6858,\"CoapplicantIncome\":0,\"LoanAmount\":176.0,\"Loan_Amount_Term\":360.0,\"Credit_History\":1.0,\"Property_Area\":\"Rural\"},{\"Loan_ID\":\"LP002878\",\"Gender\":\"Male\",\"Married\":\"Yes\",\"Dependents\":\"3+\",\"Education\":\"Graduate\",\"Self_Employed\":\"No\",\"ApplicantIncome\":8334,\"CoapplicantIncome\":0,\"LoanAmount\":260.0,\"Loan_Amount_Term\":360.0,\"Credit_History\":1.0,\"Property_Area\":\"Urban\"},{\"Loan_ID\":\"LP002879\",\"Gender\":\"Male\",\"Married\":\"Yes\",\"Dependents\":\"0\",\"Education\":\"Graduate\",\"Self_Employed\":\"No\",\"ApplicantIncome\":3391,\"CoapplicantIncome\":1966,\"LoanAmount\":133.0,\"Loan_Amount_Term\":360.0,\"Credit_History\":0.0,\"Property_Area\":\"Rural\"},{\"Loan_ID\":\"LP002885\",\"Gender\":\"Male\",\"Married\":\"No\",\"Dependents\":\"0\",\"Education\":\"Not Graduate\",\"Self_Employed\":\"No\",\"ApplicantIncome\":2868,\"CoapplicantIncome\":0,\"LoanAmount\":70.0,\"Loan_Amount_Term\":360.0,\"Credit_History\":1.0,\"Property_Area\":\"Urban\"},{\"Loan_ID\":\"LP002890\",\"Gender\":\"Male\",\"Married\":\"Yes\",\"Dependents\":\"2\",\"Education\":\"Not Graduate\",\"Self_Employed\":\"No\",\"ApplicantIncome\":3418,\"CoapplicantIncome\":1380,\"LoanAmount\":135.0,\"Loan_Amount_Term\":360.0,\"Credit_History\":1.0,\"Property_Area\":\"Urban\"},{\"Loan_ID\":\"LP002891\",\"Gender\":\"Male\",\"Married\":\"Yes\",\"Dependents\":\"0\",\"Education\":\"Graduate\",\"Self_Employed\":\"Yes\",\"ApplicantIncome\":2500,\"CoapplicantIncome\":296,\"LoanAmount\":137.0,\"Loan_Amount_Term\":300.0,\"Credit_History\":1.0,\"Property_Area\":\"Rural\"},{\"Loan_ID\":\"LP002899\",\"Gender\":\"Male\",\"Married\":\"Yes\",\"Dependents\":\"2\",\"Education\":\"Graduate\",\"Self_Employed\":\"No\",\"ApplicantIncome\":8667,\"CoapplicantIncome\":0,\"LoanAmount\":254.0,\"Loan_Amount_Term\":360.0,\"Credit_History\":1.0,\"Property_Area\":\"Rural\"},{\"Loan_ID\":\"LP002901\",\"Gender\":\"Male\",\"Married\":\"No\",\"Dependents\":\"0\",\"Education\":\"Graduate\",\"Self_Employed\":\"No\",\"ApplicantIncome\":2283,\"CoapplicantIncome\":15000,\"LoanAmount\":106.0,\"Loan_Amount_Term\":360.0,\"Credit_History\":null,\"Property_Area\":\"Rural\"},{\"Loan_ID\":\"LP002907\",\"Gender\":\"Male\",\"Married\":\"Yes\",\"Dependents\":\"0\",\"Education\":\"Graduate\",\"Self_Employed\":\"No\",\"ApplicantIncome\":5817,\"CoapplicantIncome\":910,\"LoanAmount\":109.0,\"Loan_Amount_Term\":360.0,\"Credit_History\":1.0,\"Property_Area\":\"Urban\"},{\"Loan_ID\":\"LP002920\",\"Gender\":\"Male\",\"Married\":\"Yes\",\"Dependents\":\"0\",\"Education\":\"Graduate\",\"Self_Employed\":\"No\",\"ApplicantIncome\":5119,\"CoapplicantIncome\":3769,\"LoanAmount\":120.0,\"Loan_Amount_Term\":360.0,\"Credit_History\":1.0,\"Property_Area\":\"Rural\"},{\"Loan_ID\":\"LP002921\",\"Gender\":\"Male\",\"Married\":\"Yes\",\"Dependents\":\"3+\",\"Education\":\"Not Graduate\",\"Self_Employed\":\"No\",\"ApplicantIncome\":5316,\"CoapplicantIncome\":187,\"LoanAmount\":158.0,\"Loan_Amount_Term\":180.0,\"Credit_History\":0.0,\"Property_Area\":\"Semiurban\"},{\"Loan_ID\":\"LP002932\",\"Gender\":\"Male\",\"Married\":\"Yes\",\"Dependents\":\"3+\",\"Education\":\"Graduate\",\"Self_Employed\":\"No\",\"ApplicantIncome\":7603,\"CoapplicantIncome\":1213,\"LoanAmount\":197.0,\"Loan_Amount_Term\":360.0,\"Credit_History\":1.0,\"Property_Area\":\"Urban\"},{\"Loan_ID\":\"LP002935\",\"Gender\":\"Male\",\"Married\":\"Yes\",\"Dependents\":\"1\",\"Education\":\"Graduate\",\"Self_Employed\":\"No\",\"ApplicantIncome\":3791,\"CoapplicantIncome\":1936,\"LoanAmount\":85.0,\"Loan_Amount_Term\":360.0,\"Credit_History\":1.0,\"Property_Area\":\"Urban\"},{\"Loan_ID\":\"LP002952\",\"Gender\":\"Male\",\"Married\":\"No\",\"Dependents\":\"0\",\"Education\":\"Graduate\",\"Self_Employed\":\"No\",\"ApplicantIncome\":2500,\"CoapplicantIncome\":0,\"LoanAmount\":60.0,\"Loan_Amount_Term\":360.0,\"Credit_History\":1.0,\"Property_Area\":\"Urban\"},{\"Loan_ID\":\"LP002954\",\"Gender\":\"Male\",\"Married\":\"Yes\",\"Dependents\":\"2\",\"Education\":\"Not Graduate\",\"Self_Employed\":\"No\",\"ApplicantIncome\":3132,\"CoapplicantIncome\":0,\"LoanAmount\":76.0,\"Loan_Amount_Term\":360.0,\"Credit_History\":null,\"Property_Area\":\"Rural\"},{\"Loan_ID\":\"LP002962\",\"Gender\":\"Male\",\"Married\":\"No\",\"Dependents\":\"0\",\"Education\":\"Graduate\",\"Self_Employed\":\"No\",\"ApplicantIncome\":4000,\"CoapplicantIncome\":2667,\"LoanAmount\":152.0,\"Loan_Amount_Term\":360.0,\"Credit_History\":1.0,\"Property_Area\":\"Semiurban\"},{\"Loan_ID\":\"LP002965\",\"Gender\":\"Female\",\"Married\":\"Yes\",\"Dependents\":\"0\",\"Education\":\"Graduate\",\"Self_Employed\":\"No\",\"ApplicantIncome\":8550,\"CoapplicantIncome\":4255,\"LoanAmount\":96.0,\"Loan_Amount_Term\":360.0,\"Credit_History\":null,\"Property_Area\":\"Urban\"},{\"Loan_ID\":\"LP002969\",\"Gender\":\"Male\",\"Married\":\"Yes\",\"Dependents\":\"1\",\"Education\":\"Graduate\",\"Self_Employed\":\"No\",\"ApplicantIncome\":2269,\"CoapplicantIncome\":2167,\"LoanAmount\":99.0,\"Loan_Amount_Term\":360.0,\"Credit_History\":1.0,\"Property_Area\":\"Semiurban\"},{\"Loan_ID\":\"LP002971\",\"Gender\":\"Male\",\"Married\":\"Yes\",\"Dependents\":\"3+\",\"Education\":\"Not Graduate\",\"Self_Employed\":\"Yes\",\"ApplicantIncome\":4009,\"CoapplicantIncome\":1777,\"LoanAmount\":113.0,\"Loan_Amount_Term\":360.0,\"Credit_History\":1.0,\"Property_Area\":\"Urban\"},{\"Loan_ID\":\"LP002975\",\"Gender\":\"Male\",\"Married\":\"Yes\",\"Dependents\":\"0\",\"Education\":\"Graduate\",\"Self_Employed\":\"No\",\"ApplicantIncome\":4158,\"CoapplicantIncome\":709,\"LoanAmount\":115.0,\"Loan_Amount_Term\":360.0,\"Credit_History\":1.0,\"Property_Area\":\"Urban\"},{\"Loan_ID\":\"LP002980\",\"Gender\":\"Male\",\"Married\":\"No\",\"Dependents\":\"0\",\"Education\":\"Graduate\",\"Self_Employed\":\"No\",\"ApplicantIncome\":3250,\"CoapplicantIncome\":1993,\"LoanAmount\":126.0,\"Loan_Amount_Term\":360.0,\"Credit_History\":null,\"Property_Area\":\"Semiurban\"},{\"Loan_ID\":\"LP002986\",\"Gender\":\"Male\",\"Married\":\"Yes\",\"Dependents\":\"0\",\"Education\":\"Graduate\",\"Self_Employed\":\"No\",\"ApplicantIncome\":5000,\"CoapplicantIncome\":2393,\"LoanAmount\":158.0,\"Loan_Amount_Term\":360.0,\"Credit_History\":1.0,\"Property_Area\":\"Rural\"},{\"Loan_ID\":\"LP002989\",\"Gender\":\"Male\",\"Married\":\"No\",\"Dependents\":\"0\",\"Education\":\"Graduate\",\"Self_Employed\":\"Yes\",\"ApplicantIncome\":9200,\"CoapplicantIncome\":0,\"LoanAmount\":98.0,\"Loan_Amount_Term\":180.0,\"Credit_History\":1.0,\"Property_Area\":\"Rural\"}]'"
      ]
     },
     "execution_count": 210,
     "metadata": {},
     "output_type": "execute_result"
    }
   ],
   "source": [
    "test"
   ]
  },
  {
   "cell_type": "code",
   "execution_count": 212,
   "metadata": {},
   "outputs": [
    {
     "ename": "SSLError",
     "evalue": "HTTPSConnectionPool(host='0.0.0.0', port=8000): Max retries exceeded with url: /predict (Caused by SSLError(SSLError(\"bad handshake: SysCallError(-1, 'Unexpected EOF')\",),))",
     "output_type": "error",
     "traceback": [
      "\u001b[0;31m---------------------------------------------------------------------------\u001b[0m",
      "\u001b[0;31mSysCallError\u001b[0m                              Traceback (most recent call last)",
      "\u001b[0;32m/anaconda3/lib/python3.6/site-packages/urllib3/contrib/pyopenssl.py\u001b[0m in \u001b[0;36mwrap_socket\u001b[0;34m(self, sock, server_side, do_handshake_on_connect, suppress_ragged_eofs, server_hostname)\u001b[0m\n\u001b[1;32m    455\u001b[0m             \u001b[0;32mtry\u001b[0m\u001b[0;34m:\u001b[0m\u001b[0;34m\u001b[0m\u001b[0;34m\u001b[0m\u001b[0m\n\u001b[0;32m--> 456\u001b[0;31m                 \u001b[0mcnx\u001b[0m\u001b[0;34m.\u001b[0m\u001b[0mdo_handshake\u001b[0m\u001b[0;34m(\u001b[0m\u001b[0;34m)\u001b[0m\u001b[0;34m\u001b[0m\u001b[0;34m\u001b[0m\u001b[0m\n\u001b[0m\u001b[1;32m    457\u001b[0m             \u001b[0;32mexcept\u001b[0m \u001b[0mOpenSSL\u001b[0m\u001b[0;34m.\u001b[0m\u001b[0mSSL\u001b[0m\u001b[0;34m.\u001b[0m\u001b[0mWantReadError\u001b[0m\u001b[0;34m:\u001b[0m\u001b[0;34m\u001b[0m\u001b[0;34m\u001b[0m\u001b[0m\n",
      "\u001b[0;32m/anaconda3/lib/python3.6/site-packages/OpenSSL/SSL.py\u001b[0m in \u001b[0;36mdo_handshake\u001b[0;34m(self)\u001b[0m\n\u001b[1;32m   1914\u001b[0m         \u001b[0mresult\u001b[0m \u001b[0;34m=\u001b[0m \u001b[0m_lib\u001b[0m\u001b[0;34m.\u001b[0m\u001b[0mSSL_do_handshake\u001b[0m\u001b[0;34m(\u001b[0m\u001b[0mself\u001b[0m\u001b[0;34m.\u001b[0m\u001b[0m_ssl\u001b[0m\u001b[0;34m)\u001b[0m\u001b[0;34m\u001b[0m\u001b[0;34m\u001b[0m\u001b[0m\n\u001b[0;32m-> 1915\u001b[0;31m         \u001b[0mself\u001b[0m\u001b[0;34m.\u001b[0m\u001b[0m_raise_ssl_error\u001b[0m\u001b[0;34m(\u001b[0m\u001b[0mself\u001b[0m\u001b[0;34m.\u001b[0m\u001b[0m_ssl\u001b[0m\u001b[0;34m,\u001b[0m \u001b[0mresult\u001b[0m\u001b[0;34m)\u001b[0m\u001b[0;34m\u001b[0m\u001b[0;34m\u001b[0m\u001b[0m\n\u001b[0m\u001b[1;32m   1916\u001b[0m \u001b[0;34m\u001b[0m\u001b[0m\n",
      "\u001b[0;32m/anaconda3/lib/python3.6/site-packages/OpenSSL/SSL.py\u001b[0m in \u001b[0;36m_raise_ssl_error\u001b[0;34m(self, ssl, result)\u001b[0m\n\u001b[1;32m   1639\u001b[0m                         \u001b[0;32mraise\u001b[0m \u001b[0mSysCallError\u001b[0m\u001b[0;34m(\u001b[0m\u001b[0merrno\u001b[0m\u001b[0;34m,\u001b[0m \u001b[0merrorcode\u001b[0m\u001b[0;34m.\u001b[0m\u001b[0mget\u001b[0m\u001b[0;34m(\u001b[0m\u001b[0merrno\u001b[0m\u001b[0;34m)\u001b[0m\u001b[0;34m)\u001b[0m\u001b[0;34m\u001b[0m\u001b[0;34m\u001b[0m\u001b[0m\n\u001b[0;32m-> 1640\u001b[0;31m                 \u001b[0;32mraise\u001b[0m \u001b[0mSysCallError\u001b[0m\u001b[0;34m(\u001b[0m\u001b[0;34m-\u001b[0m\u001b[0;36m1\u001b[0m\u001b[0;34m,\u001b[0m \u001b[0;34m\"Unexpected EOF\"\u001b[0m\u001b[0;34m)\u001b[0m\u001b[0;34m\u001b[0m\u001b[0;34m\u001b[0m\u001b[0m\n\u001b[0m\u001b[1;32m   1641\u001b[0m             \u001b[0;32melse\u001b[0m\u001b[0;34m:\u001b[0m\u001b[0;34m\u001b[0m\u001b[0;34m\u001b[0m\u001b[0m\n",
      "\u001b[0;31mSysCallError\u001b[0m: (-1, 'Unexpected EOF')",
      "\nDuring handling of the above exception, another exception occurred:\n",
      "\u001b[0;31mSSLError\u001b[0m                                  Traceback (most recent call last)",
      "\u001b[0;32m/anaconda3/lib/python3.6/site-packages/urllib3/connectionpool.py\u001b[0m in \u001b[0;36murlopen\u001b[0;34m(self, method, url, body, headers, retries, redirect, assert_same_host, timeout, pool_timeout, release_conn, chunked, body_pos, **response_kw)\u001b[0m\n\u001b[1;32m    599\u001b[0m                                                   \u001b[0mbody\u001b[0m\u001b[0;34m=\u001b[0m\u001b[0mbody\u001b[0m\u001b[0;34m,\u001b[0m \u001b[0mheaders\u001b[0m\u001b[0;34m=\u001b[0m\u001b[0mheaders\u001b[0m\u001b[0;34m,\u001b[0m\u001b[0;34m\u001b[0m\u001b[0;34m\u001b[0m\u001b[0m\n\u001b[0;32m--> 600\u001b[0;31m                                                   chunked=chunked)\n\u001b[0m\u001b[1;32m    601\u001b[0m \u001b[0;34m\u001b[0m\u001b[0m\n",
      "\u001b[0;32m/anaconda3/lib/python3.6/site-packages/urllib3/connectionpool.py\u001b[0m in \u001b[0;36m_make_request\u001b[0;34m(self, conn, method, url, timeout, chunked, **httplib_request_kw)\u001b[0m\n\u001b[1;32m    342\u001b[0m         \u001b[0;32mtry\u001b[0m\u001b[0;34m:\u001b[0m\u001b[0;34m\u001b[0m\u001b[0;34m\u001b[0m\u001b[0m\n\u001b[0;32m--> 343\u001b[0;31m             \u001b[0mself\u001b[0m\u001b[0;34m.\u001b[0m\u001b[0m_validate_conn\u001b[0m\u001b[0;34m(\u001b[0m\u001b[0mconn\u001b[0m\u001b[0;34m)\u001b[0m\u001b[0;34m\u001b[0m\u001b[0;34m\u001b[0m\u001b[0m\n\u001b[0m\u001b[1;32m    344\u001b[0m         \u001b[0;32mexcept\u001b[0m \u001b[0;34m(\u001b[0m\u001b[0mSocketTimeout\u001b[0m\u001b[0;34m,\u001b[0m \u001b[0mBaseSSLError\u001b[0m\u001b[0;34m)\u001b[0m \u001b[0;32mas\u001b[0m \u001b[0me\u001b[0m\u001b[0;34m:\u001b[0m\u001b[0;34m\u001b[0m\u001b[0;34m\u001b[0m\u001b[0m\n",
      "\u001b[0;32m/anaconda3/lib/python3.6/site-packages/urllib3/connectionpool.py\u001b[0m in \u001b[0;36m_validate_conn\u001b[0;34m(self, conn)\u001b[0m\n\u001b[1;32m    838\u001b[0m         \u001b[0;32mif\u001b[0m \u001b[0;32mnot\u001b[0m \u001b[0mgetattr\u001b[0m\u001b[0;34m(\u001b[0m\u001b[0mconn\u001b[0m\u001b[0;34m,\u001b[0m \u001b[0;34m'sock'\u001b[0m\u001b[0;34m,\u001b[0m \u001b[0;32mNone\u001b[0m\u001b[0;34m)\u001b[0m\u001b[0;34m:\u001b[0m  \u001b[0;31m# AppEngine might not have  `.sock`\u001b[0m\u001b[0;34m\u001b[0m\u001b[0;34m\u001b[0m\u001b[0m\n\u001b[0;32m--> 839\u001b[0;31m             \u001b[0mconn\u001b[0m\u001b[0;34m.\u001b[0m\u001b[0mconnect\u001b[0m\u001b[0;34m(\u001b[0m\u001b[0;34m)\u001b[0m\u001b[0;34m\u001b[0m\u001b[0;34m\u001b[0m\u001b[0m\n\u001b[0m\u001b[1;32m    840\u001b[0m \u001b[0;34m\u001b[0m\u001b[0m\n",
      "\u001b[0;32m/anaconda3/lib/python3.6/site-packages/urllib3/connection.py\u001b[0m in \u001b[0;36mconnect\u001b[0;34m(self)\u001b[0m\n\u001b[1;32m    343\u001b[0m             \u001b[0mserver_hostname\u001b[0m\u001b[0;34m=\u001b[0m\u001b[0mserver_hostname\u001b[0m\u001b[0;34m,\u001b[0m\u001b[0;34m\u001b[0m\u001b[0;34m\u001b[0m\u001b[0m\n\u001b[0;32m--> 344\u001b[0;31m             ssl_context=context)\n\u001b[0m\u001b[1;32m    345\u001b[0m \u001b[0;34m\u001b[0m\u001b[0m\n",
      "\u001b[0;32m/anaconda3/lib/python3.6/site-packages/urllib3/util/ssl_.py\u001b[0m in \u001b[0;36mssl_wrap_socket\u001b[0;34m(sock, keyfile, certfile, cert_reqs, ca_certs, server_hostname, ssl_version, ciphers, ssl_context, ca_cert_dir)\u001b[0m\n\u001b[1;32m    359\u001b[0m \u001b[0;34m\u001b[0m\u001b[0m\n\u001b[0;32m--> 360\u001b[0;31m     \u001b[0;32mreturn\u001b[0m \u001b[0mcontext\u001b[0m\u001b[0;34m.\u001b[0m\u001b[0mwrap_socket\u001b[0m\u001b[0;34m(\u001b[0m\u001b[0msock\u001b[0m\u001b[0;34m)\u001b[0m\u001b[0;34m\u001b[0m\u001b[0;34m\u001b[0m\u001b[0m\n\u001b[0m\u001b[1;32m    361\u001b[0m \u001b[0;34m\u001b[0m\u001b[0m\n",
      "\u001b[0;32m/anaconda3/lib/python3.6/site-packages/urllib3/contrib/pyopenssl.py\u001b[0m in \u001b[0;36mwrap_socket\u001b[0;34m(self, sock, server_side, do_handshake_on_connect, suppress_ragged_eofs, server_hostname)\u001b[0m\n\u001b[1;32m    461\u001b[0m             \u001b[0;32mexcept\u001b[0m \u001b[0mOpenSSL\u001b[0m\u001b[0;34m.\u001b[0m\u001b[0mSSL\u001b[0m\u001b[0;34m.\u001b[0m\u001b[0mError\u001b[0m \u001b[0;32mas\u001b[0m \u001b[0me\u001b[0m\u001b[0;34m:\u001b[0m\u001b[0;34m\u001b[0m\u001b[0;34m\u001b[0m\u001b[0m\n\u001b[0;32m--> 462\u001b[0;31m                 \u001b[0;32mraise\u001b[0m \u001b[0mssl\u001b[0m\u001b[0;34m.\u001b[0m\u001b[0mSSLError\u001b[0m\u001b[0;34m(\u001b[0m\u001b[0;34m'bad handshake: %r'\u001b[0m \u001b[0;34m%\u001b[0m \u001b[0me\u001b[0m\u001b[0;34m)\u001b[0m\u001b[0;34m\u001b[0m\u001b[0;34m\u001b[0m\u001b[0m\n\u001b[0m\u001b[1;32m    463\u001b[0m             \u001b[0;32mbreak\u001b[0m\u001b[0;34m\u001b[0m\u001b[0;34m\u001b[0m\u001b[0m\n",
      "\u001b[0;31mSSLError\u001b[0m: (\"bad handshake: SysCallError(-1, 'Unexpected EOF')\",)",
      "\nDuring handling of the above exception, another exception occurred:\n",
      "\u001b[0;31mMaxRetryError\u001b[0m                             Traceback (most recent call last)",
      "\u001b[0;32m/anaconda3/lib/python3.6/site-packages/requests/adapters.py\u001b[0m in \u001b[0;36msend\u001b[0;34m(self, request, stream, timeout, verify, cert, proxies)\u001b[0m\n\u001b[1;32m    448\u001b[0m                     \u001b[0mretries\u001b[0m\u001b[0;34m=\u001b[0m\u001b[0mself\u001b[0m\u001b[0;34m.\u001b[0m\u001b[0mmax_retries\u001b[0m\u001b[0;34m,\u001b[0m\u001b[0;34m\u001b[0m\u001b[0;34m\u001b[0m\u001b[0m\n\u001b[0;32m--> 449\u001b[0;31m                     \u001b[0mtimeout\u001b[0m\u001b[0;34m=\u001b[0m\u001b[0mtimeout\u001b[0m\u001b[0;34m\u001b[0m\u001b[0;34m\u001b[0m\u001b[0m\n\u001b[0m\u001b[1;32m    450\u001b[0m                 )\n",
      "\u001b[0;32m/anaconda3/lib/python3.6/site-packages/urllib3/connectionpool.py\u001b[0m in \u001b[0;36murlopen\u001b[0;34m(self, method, url, body, headers, retries, redirect, assert_same_host, timeout, pool_timeout, release_conn, chunked, body_pos, **response_kw)\u001b[0m\n\u001b[1;32m    637\u001b[0m             retries = retries.increment(method, url, error=e, _pool=self,\n\u001b[0;32m--> 638\u001b[0;31m                                         _stacktrace=sys.exc_info()[2])\n\u001b[0m\u001b[1;32m    639\u001b[0m             \u001b[0mretries\u001b[0m\u001b[0;34m.\u001b[0m\u001b[0msleep\u001b[0m\u001b[0;34m(\u001b[0m\u001b[0;34m)\u001b[0m\u001b[0;34m\u001b[0m\u001b[0;34m\u001b[0m\u001b[0m\n",
      "\u001b[0;32m/anaconda3/lib/python3.6/site-packages/urllib3/util/retry.py\u001b[0m in \u001b[0;36mincrement\u001b[0;34m(self, method, url, response, error, _pool, _stacktrace)\u001b[0m\n\u001b[1;32m    398\u001b[0m         \u001b[0;32mif\u001b[0m \u001b[0mnew_retry\u001b[0m\u001b[0;34m.\u001b[0m\u001b[0mis_exhausted\u001b[0m\u001b[0;34m(\u001b[0m\u001b[0;34m)\u001b[0m\u001b[0;34m:\u001b[0m\u001b[0;34m\u001b[0m\u001b[0;34m\u001b[0m\u001b[0m\n\u001b[0;32m--> 399\u001b[0;31m             \u001b[0;32mraise\u001b[0m \u001b[0mMaxRetryError\u001b[0m\u001b[0;34m(\u001b[0m\u001b[0m_pool\u001b[0m\u001b[0;34m,\u001b[0m \u001b[0murl\u001b[0m\u001b[0;34m,\u001b[0m \u001b[0merror\u001b[0m \u001b[0;32mor\u001b[0m \u001b[0mResponseError\u001b[0m\u001b[0;34m(\u001b[0m\u001b[0mcause\u001b[0m\u001b[0;34m)\u001b[0m\u001b[0;34m)\u001b[0m\u001b[0;34m\u001b[0m\u001b[0;34m\u001b[0m\u001b[0m\n\u001b[0m\u001b[1;32m    400\u001b[0m \u001b[0;34m\u001b[0m\u001b[0m\n",
      "\u001b[0;31mMaxRetryError\u001b[0m: HTTPSConnectionPool(host='0.0.0.0', port=8000): Max retries exceeded with url: /predict (Caused by SSLError(SSLError(\"bad handshake: SysCallError(-1, 'Unexpected EOF')\",),))",
      "\nDuring handling of the above exception, another exception occurred:\n",
      "\u001b[0;31mSSLError\u001b[0m                                  Traceback (most recent call last)",
      "\u001b[0;32m~/Desktop/My Docs/Self-Projects/Data Science with Python/Loan Prediction Problem/hello.py\u001b[0m in \u001b[0;36m<module>\u001b[0;34m()\u001b[0m\n\u001b[1;32m      1\u001b[0m response = requests.post(url='https://0.0.0.0:8000/predict', \n\u001b[1;32m      2\u001b[0m                          \u001b[0mdata\u001b[0m\u001b[0;34m=\u001b[0m\u001b[0mjson\u001b[0m\u001b[0;34m.\u001b[0m\u001b[0mdumps\u001b[0m\u001b[0;34m(\u001b[0m\u001b[0mtest\u001b[0m\u001b[0;34m)\u001b[0m\u001b[0;34m,\u001b[0m\u001b[0;34m\u001b[0m\u001b[0;34m\u001b[0m\u001b[0m\n\u001b[0;32m----> 3\u001b[0;31m                          headers = header)\n\u001b[0m",
      "\u001b[0;32m/anaconda3/lib/python3.6/site-packages/requests/api.py\u001b[0m in \u001b[0;36mpost\u001b[0;34m(url, data, json, **kwargs)\u001b[0m\n\u001b[1;32m    114\u001b[0m     \"\"\"\n\u001b[1;32m    115\u001b[0m \u001b[0;34m\u001b[0m\u001b[0m\n\u001b[0;32m--> 116\u001b[0;31m     \u001b[0;32mreturn\u001b[0m \u001b[0mrequest\u001b[0m\u001b[0;34m(\u001b[0m\u001b[0;34m'post'\u001b[0m\u001b[0;34m,\u001b[0m \u001b[0murl\u001b[0m\u001b[0;34m,\u001b[0m \u001b[0mdata\u001b[0m\u001b[0;34m=\u001b[0m\u001b[0mdata\u001b[0m\u001b[0;34m,\u001b[0m \u001b[0mjson\u001b[0m\u001b[0;34m=\u001b[0m\u001b[0mjson\u001b[0m\u001b[0;34m,\u001b[0m \u001b[0;34m**\u001b[0m\u001b[0mkwargs\u001b[0m\u001b[0;34m)\u001b[0m\u001b[0;34m\u001b[0m\u001b[0;34m\u001b[0m\u001b[0m\n\u001b[0m\u001b[1;32m    117\u001b[0m \u001b[0;34m\u001b[0m\u001b[0m\n\u001b[1;32m    118\u001b[0m \u001b[0;34m\u001b[0m\u001b[0m\n",
      "\u001b[0;32m/anaconda3/lib/python3.6/site-packages/requests/api.py\u001b[0m in \u001b[0;36mrequest\u001b[0;34m(method, url, **kwargs)\u001b[0m\n\u001b[1;32m     58\u001b[0m     \u001b[0;31m# cases, and look like a memory leak in others.\u001b[0m\u001b[0;34m\u001b[0m\u001b[0;34m\u001b[0m\u001b[0;34m\u001b[0m\u001b[0m\n\u001b[1;32m     59\u001b[0m     \u001b[0;32mwith\u001b[0m \u001b[0msessions\u001b[0m\u001b[0;34m.\u001b[0m\u001b[0mSession\u001b[0m\u001b[0;34m(\u001b[0m\u001b[0;34m)\u001b[0m \u001b[0;32mas\u001b[0m \u001b[0msession\u001b[0m\u001b[0;34m:\u001b[0m\u001b[0;34m\u001b[0m\u001b[0;34m\u001b[0m\u001b[0m\n\u001b[0;32m---> 60\u001b[0;31m         \u001b[0;32mreturn\u001b[0m \u001b[0msession\u001b[0m\u001b[0;34m.\u001b[0m\u001b[0mrequest\u001b[0m\u001b[0;34m(\u001b[0m\u001b[0mmethod\u001b[0m\u001b[0;34m=\u001b[0m\u001b[0mmethod\u001b[0m\u001b[0;34m,\u001b[0m \u001b[0murl\u001b[0m\u001b[0;34m=\u001b[0m\u001b[0murl\u001b[0m\u001b[0;34m,\u001b[0m \u001b[0;34m**\u001b[0m\u001b[0mkwargs\u001b[0m\u001b[0;34m)\u001b[0m\u001b[0;34m\u001b[0m\u001b[0;34m\u001b[0m\u001b[0m\n\u001b[0m\u001b[1;32m     61\u001b[0m \u001b[0;34m\u001b[0m\u001b[0m\n\u001b[1;32m     62\u001b[0m \u001b[0;34m\u001b[0m\u001b[0m\n",
      "\u001b[0;32m/anaconda3/lib/python3.6/site-packages/requests/sessions.py\u001b[0m in \u001b[0;36mrequest\u001b[0;34m(self, method, url, params, data, headers, cookies, files, auth, timeout, allow_redirects, proxies, hooks, stream, verify, cert, json)\u001b[0m\n\u001b[1;32m    531\u001b[0m         }\n\u001b[1;32m    532\u001b[0m         \u001b[0msend_kwargs\u001b[0m\u001b[0;34m.\u001b[0m\u001b[0mupdate\u001b[0m\u001b[0;34m(\u001b[0m\u001b[0msettings\u001b[0m\u001b[0;34m)\u001b[0m\u001b[0;34m\u001b[0m\u001b[0;34m\u001b[0m\u001b[0m\n\u001b[0;32m--> 533\u001b[0;31m         \u001b[0mresp\u001b[0m \u001b[0;34m=\u001b[0m \u001b[0mself\u001b[0m\u001b[0;34m.\u001b[0m\u001b[0msend\u001b[0m\u001b[0;34m(\u001b[0m\u001b[0mprep\u001b[0m\u001b[0;34m,\u001b[0m \u001b[0;34m**\u001b[0m\u001b[0msend_kwargs\u001b[0m\u001b[0;34m)\u001b[0m\u001b[0;34m\u001b[0m\u001b[0;34m\u001b[0m\u001b[0m\n\u001b[0m\u001b[1;32m    534\u001b[0m \u001b[0;34m\u001b[0m\u001b[0m\n\u001b[1;32m    535\u001b[0m         \u001b[0;32mreturn\u001b[0m \u001b[0mresp\u001b[0m\u001b[0;34m\u001b[0m\u001b[0;34m\u001b[0m\u001b[0m\n",
      "\u001b[0;32m/anaconda3/lib/python3.6/site-packages/requests/sessions.py\u001b[0m in \u001b[0;36msend\u001b[0;34m(self, request, **kwargs)\u001b[0m\n\u001b[1;32m    644\u001b[0m \u001b[0;34m\u001b[0m\u001b[0m\n\u001b[1;32m    645\u001b[0m         \u001b[0;31m# Send the request\u001b[0m\u001b[0;34m\u001b[0m\u001b[0;34m\u001b[0m\u001b[0;34m\u001b[0m\u001b[0m\n\u001b[0;32m--> 646\u001b[0;31m         \u001b[0mr\u001b[0m \u001b[0;34m=\u001b[0m \u001b[0madapter\u001b[0m\u001b[0;34m.\u001b[0m\u001b[0msend\u001b[0m\u001b[0;34m(\u001b[0m\u001b[0mrequest\u001b[0m\u001b[0;34m,\u001b[0m \u001b[0;34m**\u001b[0m\u001b[0mkwargs\u001b[0m\u001b[0;34m)\u001b[0m\u001b[0;34m\u001b[0m\u001b[0;34m\u001b[0m\u001b[0m\n\u001b[0m\u001b[1;32m    647\u001b[0m \u001b[0;34m\u001b[0m\u001b[0m\n\u001b[1;32m    648\u001b[0m         \u001b[0;31m# Total elapsed time of the request (approximately)\u001b[0m\u001b[0;34m\u001b[0m\u001b[0;34m\u001b[0m\u001b[0;34m\u001b[0m\u001b[0m\n",
      "\u001b[0;32m/anaconda3/lib/python3.6/site-packages/requests/adapters.py\u001b[0m in \u001b[0;36msend\u001b[0;34m(self, request, stream, timeout, verify, cert, proxies)\u001b[0m\n\u001b[1;32m    512\u001b[0m             \u001b[0;32mif\u001b[0m \u001b[0misinstance\u001b[0m\u001b[0;34m(\u001b[0m\u001b[0me\u001b[0m\u001b[0;34m.\u001b[0m\u001b[0mreason\u001b[0m\u001b[0;34m,\u001b[0m \u001b[0m_SSLError\u001b[0m\u001b[0;34m)\u001b[0m\u001b[0;34m:\u001b[0m\u001b[0;34m\u001b[0m\u001b[0;34m\u001b[0m\u001b[0m\n\u001b[1;32m    513\u001b[0m                 \u001b[0;31m# This branch is for urllib3 v1.22 and later.\u001b[0m\u001b[0;34m\u001b[0m\u001b[0;34m\u001b[0m\u001b[0;34m\u001b[0m\u001b[0m\n\u001b[0;32m--> 514\u001b[0;31m                 \u001b[0;32mraise\u001b[0m \u001b[0mSSLError\u001b[0m\u001b[0;34m(\u001b[0m\u001b[0me\u001b[0m\u001b[0;34m,\u001b[0m \u001b[0mrequest\u001b[0m\u001b[0;34m=\u001b[0m\u001b[0mrequest\u001b[0m\u001b[0;34m)\u001b[0m\u001b[0;34m\u001b[0m\u001b[0;34m\u001b[0m\u001b[0m\n\u001b[0m\u001b[1;32m    515\u001b[0m \u001b[0;34m\u001b[0m\u001b[0m\n\u001b[1;32m    516\u001b[0m             \u001b[0;32mraise\u001b[0m \u001b[0mConnectionError\u001b[0m\u001b[0;34m(\u001b[0m\u001b[0me\u001b[0m\u001b[0;34m,\u001b[0m \u001b[0mrequest\u001b[0m\u001b[0;34m=\u001b[0m\u001b[0mrequest\u001b[0m\u001b[0;34m)\u001b[0m\u001b[0;34m\u001b[0m\u001b[0;34m\u001b[0m\u001b[0m\n",
      "\u001b[0;31mSSLError\u001b[0m: HTTPSConnectionPool(host='0.0.0.0', port=8000): Max retries exceeded with url: /predict (Caused by SSLError(SSLError(\"bad handshake: SysCallError(-1, 'Unexpected EOF')\",),))"
     ]
    }
   ],
   "source": [
    "response = requests.post(url='https://0.0.0.0:8000/predict', \n",
    "                         data=json.dumps(test), \n",
    "                         headers = header)"
   ]
  },
  {
   "cell_type": "code",
   "execution_count": 213,
   "metadata": {},
   "outputs": [
    {
     "data": {
      "text/plain": [
       "404"
      ]
     },
     "execution_count": 213,
     "metadata": {},
     "output_type": "execute_result"
    }
   ],
   "source": [
    "response.status_code"
   ]
  },
  {
   "cell_type": "code",
   "execution_count": null,
   "metadata": {},
   "outputs": [],
   "source": []
  }
 ],
 "metadata": {
  "kernelspec": {
   "display_name": "Python 3",
   "language": "python",
   "name": "python3"
  },
  "language_info": {
   "codemirror_mode": {
    "name": "ipython",
    "version": 3
   },
   "file_extension": ".py",
   "mimetype": "text/x-python",
   "name": "python",
   "nbconvert_exporter": "python",
   "pygments_lexer": "ipython3",
   "version": "3.6.8"
  }
 },
 "nbformat": 4,
 "nbformat_minor": 2
}
